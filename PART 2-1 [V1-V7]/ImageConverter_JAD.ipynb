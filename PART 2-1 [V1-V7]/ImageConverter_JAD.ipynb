{
 "cells": [
  {
   "cell_type": "code",
   "execution_count": 62,
   "id": "42d721b4",
   "metadata": {
    "id": "42d721b4"
   },
   "outputs": [],
   "source": [
    "import os\n",
    "from PIL import Image, ImageOps, ImageEnhance\n",
    "import random as rn"
   ]
  },
  {
   "cell_type": "code",
   "execution_count": 69,
   "id": "24c9759e",
   "metadata": {},
   "outputs": [],
   "source": [
    "def imagePreprocess(model,name):\n",
    "    \n",
    "    #Make folder to save processed images\n",
    "    dirProcessed = '{}/Inputs/ImgProcessed/{}/'.format(model,name)\n",
    "    if not os.path.isdir(dirProcessed):\n",
    "        os.makedirs(dirProcessed) \n",
    "    \n",
    "    #Folder of original, unprocessed images\n",
    "    dirOrig = '{}/Inputs/ImgOriginals/'.format(model)\n",
    "\n",
    "    #Iterate over files in that directory\n",
    "    for filename in os.listdir(dirOrig):\n",
    "        fOpen = os.path.join(dirOrig, filename)\n",
    "        #Double check to ensure it is a valid file\n",
    "        if os.path.isfile(fOpen):\n",
    "\n",
    "            #Open original image\n",
    "            image = Image.open(fOpen)\n",
    "\n",
    "            #Image operations - modify this section to manipulate the image differently as desired\n",
    "            image = ImageOps.grayscale(image)\n",
    "            image = ImageOps.fit(image, [size,size], centering=(1.0,1.0))\n",
    "            \n",
    "            if protype == '1':\n",
    "                continue\n",
    "            if protype == '2':\n",
    "                image = ImageEnhance.Contrast(image).enhance(0.3)\n",
    "            if protype == '3':\n",
    "                image = ImageEnhance.Contrast(image).enhance(0.3)\n",
    "                image = ImageEnhance.Brightness(image).enhance(0.5)\n",
    "            if protype == '4':\n",
    "                image = ImageEnhance.Contrast(image).enhance(0.1)\n",
    "                image = ImageEnhance.Brightness(image).enhance(1.9)\n",
    "            if protype == '5':\n",
    "                image = ImageOps.posterize(image,2)\n",
    "            if protype == '6':\n",
    "                image = ImageOps.invert(image)\n",
    "                #See Ivan - deform?\n",
    "            if protype == '7':\n",
    "                for i in range(2):\n",
    "                    num = rn.randint(1, 6)\n",
    "                    if num == 1:\n",
    "                        image = ImageEnhance.Contrast(image).enhance(0.3)\n",
    "                    if num == 2:\n",
    "                        image = ImageEnhance.Brightness(image).enhance(0.5)\n",
    "                    if num == 3:\n",
    "                        image = ImageOps.posterize(image,2)\n",
    "                    if num == 4:\n",
    "                        image = image = ImageOps.equalize(image)\n",
    "                    if num == 5:\n",
    "                        image = ImageOps.invert(image)\n",
    "\n",
    "            #Save processed image\n",
    "            fSave = filename.replace('IMG','Conv')\n",
    "            image.save(dirProcessed + fSave)"
   ]
  },
  {
   "cell_type": "code",
   "execution_count": 74,
   "id": "aaff80df",
   "metadata": {},
   "outputs": [],
   "source": [
    "#Enter desired collection/folder name\n",
    "name = 'V7'\n",
    "\n",
    "#Enter desired height/width (pixels)\n",
    "size = 250\n",
    "\n",
    "#All images are cropped, resized, and converted to greyscale.\n",
    "#Enter code for additional processing:\n",
    "#'1' = No further processing\n",
    "#'2' = Reduce contrast\n",
    "#'3' = Reduce contrast, darken\n",
    "#'4' = Reduce contrast, brighten\n",
    "#'5' = Posterize (reduce color bits)\n",
    "#'6' = Invert (and deform)?\n",
    "#'7' = Various distortions (each image random distort)\n",
    "protype = '7'\n",
    "\n",
    "#Preprocessing for Distance imageset\n",
    "imagePreprocess('Distance',name)\n",
    "\n",
    "#Preprocessing for Direction imageset\n",
    "imagePreprocess('Direction',name)"
   ]
  },
  {
   "cell_type": "code",
   "execution_count": null,
   "id": "6d4f8b74",
   "metadata": {},
   "outputs": [],
   "source": []
  }
 ],
 "metadata": {
  "colab": {
   "name": "ImageConverter.ipynb",
   "provenance": []
  },
  "kernelspec": {
   "display_name": "Python 3 (ipykernel)",
   "language": "python",
   "name": "python3"
  },
  "language_info": {
   "codemirror_mode": {
    "name": "ipython",
    "version": 3
   },
   "file_extension": ".py",
   "mimetype": "text/x-python",
   "name": "python",
   "nbconvert_exporter": "python",
   "pygments_lexer": "ipython3",
   "version": "3.9.0"
  }
 },
 "nbformat": 4,
 "nbformat_minor": 5
}
