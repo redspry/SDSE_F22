{
 "cells": [
  {
   "cell_type": "code",
   "execution_count": 1,
   "id": "42d721b4",
   "metadata": {
    "id": "42d721b4"
   },
   "outputs": [],
   "source": [
    "import numpy as np\n",
    "import pandas as pd\n",
    "# # import keras\n",
    "# from keras.models import Sequential\n",
    "# import numpy as np\n",
    "# import keras.backend as kb\n",
    "# import tensorflow as tf\n",
    "# from matplotlib import image\n",
    "# from matplotlib import pyplot\n",
    "from PIL import Image\n",
    "from PIL import ImageOps"
   ]
  },
  {
   "cell_type": "code",
   "execution_count": 2,
   "id": "e326a190",
   "metadata": {},
   "outputs": [
    {
     "data": {
      "text/plain": [
       "'C:\\\\Users\\\\jacob\\\\OneDrive\\\\Documents\\\\School\\\\Stats and Data Science\\\\code\\\\Project\\\\Image Processing\\\\Direction\\\\50in\\\\Right'"
      ]
     },
     "execution_count": 2,
     "metadata": {},
     "output_type": "execute_result"
    }
   ],
   "source": [
    "pwd"
   ]
  },
  {
   "cell_type": "code",
   "execution_count": 8,
   "id": "560592f0",
   "metadata": {},
   "outputs": [],
   "source": [
    "import math\n",
    "class WaveDeformer():\n",
    "\n",
    "    def transform(self, x, y, q):\n",
    "        \n",
    "        \n",
    "        y = y + 5*math.sin(x/5)\n",
    "        return x, y\n",
    "\n",
    "    def transform_rectangle(self, x0, y0, x1, y1,q):\n",
    "        return (*self.transform(x0, y0, q),\n",
    "                *self.transform(x0, y1, q),\n",
    "                *self.transform(x1, y1, q),\n",
    "                *self.transform(x1, y0, q),\n",
    "                )\n",
    "\n",
    "    def getmesh(self, img):\n",
    "        self.w, self.h = img.size\n",
    "        gridspace = 20\n",
    "        \n",
    "        target_grid = []\n",
    "        \n",
    "        for x in range(0, self.w, gridspace):\n",
    "            for y in range(0, self.h, gridspace):\n",
    "                target_grid.append((x, y, x + gridspace, y + gridspace))\n",
    "                \n",
    "        source_grid = [self.transform_rectangle(*rect,q) for rect in target_grid]\n",
    "\n",
    "        return [t for t in zip(target_grid, source_grid)]"
   ]
  },
  {
   "cell_type": "code",
   "execution_count": 14,
   "id": "21ab1f6e",
   "metadata": {
    "id": "21ab1f6e"
   },
   "outputs": [
    {
     "name": "stdout",
     "output_type": "stream",
     "text": [
      "75\n",
      "75\n",
      "75\n",
      "75\n",
      "75\n",
      "75\n",
      "75\n",
      "75\n",
      "75\n",
      "75\n",
      "75\n",
      "75\n",
      "75\n",
      "75\n",
      "75\n",
      "75\n",
      "75\n",
      "75\n",
      "75\n",
      "75\n",
      "75\n",
      "75\n",
      "75\n",
      "75\n"
     ]
    }
   ],
   "source": [
    "for z in ['50']: #,'6','15','20','25','30','35','40','45','50']:\n",
    "\n",
    "    for i in range(1,25):\n",
    "        try:\n",
    "            image = Image.open('IMG_R_{}_{}.jpg'.format(z,i))\n",
    "            im2 = ImageOps.grayscale(image)\n",
    "            im2 = ImageOps.fit(im2, [75,75], centering=(1, 1))\n",
    "            \n",
    "            data=np.array(im2)\n",
    "            print(len(data))\n",
    "            fin=Image.fromarray(data)\n",
    "            fin.save('R_{}_Conv_{}.jpg'.format(z,i))\n",
    "        except:\n",
    "            print(\"could not convert\", 'IMG_R_{}_{}.jpg'.format(z,i))\n",
    "            continue"
   ]
  },
  {
   "cell_type": "code",
   "execution_count": null,
   "id": "22e1944e",
   "metadata": {
    "id": "22e1944e"
   },
   "outputs": [],
   "source": []
  },
  {
   "cell_type": "code",
   "execution_count": null,
   "id": "050f3856",
   "metadata": {},
   "outputs": [],
   "source": []
  },
  {
   "cell_type": "code",
   "execution_count": null,
   "id": "016c0443",
   "metadata": {},
   "outputs": [],
   "source": []
  }
 ],
 "metadata": {
  "colab": {
   "name": "ImageConverter.ipynb",
   "provenance": []
  },
  "kernelspec": {
   "display_name": "Python 3 (ipykernel)",
   "language": "python",
   "name": "python3"
  },
  "language_info": {
   "codemirror_mode": {
    "name": "ipython",
    "version": 3
   },
   "file_extension": ".py",
   "mimetype": "text/x-python",
   "name": "python",
   "nbconvert_exporter": "python",
   "pygments_lexer": "ipython3",
   "version": "3.9.13"
  }
 },
 "nbformat": 4,
 "nbformat_minor": 5
}
