{
 "cells": [
  {
   "cell_type": "markdown",
   "metadata": {
    "id": "Tce3stUlHN0L"
   },
   "source": [
    "##### Copyright 2018 The TensorFlow Authors.\n"
   ]
  },
  {
   "cell_type": "code",
   "execution_count": 1,
   "metadata": {
    "id": "1s_XhUJYXDJ6"
   },
   "outputs": [
    {
     "ename": "ImportError",
     "evalue": "cannot import name 'experimental_functions_run_eagerly' from 'tensorflow.python.eager.def_function' (C:\\Users\\jacob\\anaconda3\\envs\\sdse\\lib\\site-packages\\tensorflow\\python\\eager\\def_function.py)",
     "output_type": "error",
     "traceback": [
      "\u001b[1;31m---------------------------------------------------------------------------\u001b[0m",
      "\u001b[1;31mImportError\u001b[0m                               Traceback (most recent call last)",
      "Cell \u001b[1;32mIn [1], line 3\u001b[0m\n\u001b[0;32m      1\u001b[0m \u001b[38;5;28;01mimport\u001b[39;00m \u001b[38;5;21;01mnumpy\u001b[39;00m \u001b[38;5;28;01mas\u001b[39;00m \u001b[38;5;21;01mnp\u001b[39;00m\n\u001b[0;32m      2\u001b[0m \u001b[38;5;28;01mimport\u001b[39;00m \u001b[38;5;21;01mpandas\u001b[39;00m \u001b[38;5;28;01mas\u001b[39;00m \u001b[38;5;21;01mpd\u001b[39;00m\n\u001b[1;32m----> 3\u001b[0m \u001b[38;5;28;01mimport\u001b[39;00m \u001b[38;5;21;01mkeras\u001b[39;00m\n\u001b[0;32m      4\u001b[0m \u001b[38;5;66;03m#from keras.models import Sequential,Input,Model\u001b[39;00m\n\u001b[0;32m      5\u001b[0m \u001b[38;5;28;01mfrom\u001b[39;00m \u001b[38;5;21;01mkeras\u001b[39;00m\u001b[38;5;21;01m.\u001b[39;00m\u001b[38;5;21;01mmodels\u001b[39;00m \u001b[38;5;28;01mimport\u001b[39;00m Sequential,Model\n",
      "File \u001b[1;32m~\\anaconda3\\envs\\sdse\\lib\\site-packages\\keras\\__init__.py:21\u001b[0m\n\u001b[0;32m     15\u001b[0m \u001b[38;5;124;03m\"\"\"Implementation of the Keras API, the high-level API of TensorFlow.\u001b[39;00m\n\u001b[0;32m     16\u001b[0m \n\u001b[0;32m     17\u001b[0m \u001b[38;5;124;03mDetailed documentation and user guides are available at\u001b[39;00m\n\u001b[0;32m     18\u001b[0m \u001b[38;5;124;03m[keras.io](https://keras.io).\u001b[39;00m\n\u001b[0;32m     19\u001b[0m \u001b[38;5;124;03m\"\"\"\u001b[39;00m\n\u001b[0;32m     20\u001b[0m \u001b[38;5;28;01mfrom\u001b[39;00m \u001b[38;5;21;01mkeras\u001b[39;00m \u001b[38;5;28;01mimport\u001b[39;00m distribute\n\u001b[1;32m---> 21\u001b[0m \u001b[38;5;28;01mfrom\u001b[39;00m \u001b[38;5;21;01mkeras\u001b[39;00m \u001b[38;5;28;01mimport\u001b[39;00m models\n\u001b[0;32m     22\u001b[0m \u001b[38;5;28;01mfrom\u001b[39;00m \u001b[38;5;21;01mkeras\u001b[39;00m\u001b[38;5;21;01m.\u001b[39;00m\u001b[38;5;21;01mengine\u001b[39;00m\u001b[38;5;21;01m.\u001b[39;00m\u001b[38;5;21;01minput_layer\u001b[39;00m \u001b[38;5;28;01mimport\u001b[39;00m Input\n\u001b[0;32m     23\u001b[0m \u001b[38;5;28;01mfrom\u001b[39;00m \u001b[38;5;21;01mkeras\u001b[39;00m\u001b[38;5;21;01m.\u001b[39;00m\u001b[38;5;21;01mengine\u001b[39;00m\u001b[38;5;21;01m.\u001b[39;00m\u001b[38;5;21;01msequential\u001b[39;00m \u001b[38;5;28;01mimport\u001b[39;00m Sequential\n",
      "File \u001b[1;32m~\\anaconda3\\envs\\sdse\\lib\\site-packages\\keras\\models\\__init__.py:18\u001b[0m\n\u001b[0;32m      1\u001b[0m \u001b[38;5;66;03m# Copyright 2022 The TensorFlow Authors. All Rights Reserved.\u001b[39;00m\n\u001b[0;32m      2\u001b[0m \u001b[38;5;66;03m#\u001b[39;00m\n\u001b[0;32m      3\u001b[0m \u001b[38;5;66;03m# Licensed under the Apache License, Version 2.0 (the \"License\");\u001b[39;00m\n\u001b[1;32m   (...)\u001b[0m\n\u001b[0;32m     13\u001b[0m \u001b[38;5;66;03m# limitations under the License.\u001b[39;00m\n\u001b[0;32m     14\u001b[0m \u001b[38;5;66;03m# ==============================================================================\u001b[39;00m\n\u001b[0;32m     15\u001b[0m \u001b[38;5;124;03m\"\"\"Keras models API.\"\"\"\u001b[39;00m\n\u001b[1;32m---> 18\u001b[0m \u001b[38;5;28;01mfrom\u001b[39;00m \u001b[38;5;21;01mkeras\u001b[39;00m\u001b[38;5;21;01m.\u001b[39;00m\u001b[38;5;21;01mengine\u001b[39;00m\u001b[38;5;21;01m.\u001b[39;00m\u001b[38;5;21;01mfunctional\u001b[39;00m \u001b[38;5;28;01mimport\u001b[39;00m Functional\n\u001b[0;32m     19\u001b[0m \u001b[38;5;28;01mfrom\u001b[39;00m \u001b[38;5;21;01mkeras\u001b[39;00m\u001b[38;5;21;01m.\u001b[39;00m\u001b[38;5;21;01mengine\u001b[39;00m\u001b[38;5;21;01m.\u001b[39;00m\u001b[38;5;21;01msequential\u001b[39;00m \u001b[38;5;28;01mimport\u001b[39;00m Sequential\n\u001b[0;32m     20\u001b[0m \u001b[38;5;28;01mfrom\u001b[39;00m \u001b[38;5;21;01mkeras\u001b[39;00m\u001b[38;5;21;01m.\u001b[39;00m\u001b[38;5;21;01mengine\u001b[39;00m\u001b[38;5;21;01m.\u001b[39;00m\u001b[38;5;21;01mtraining\u001b[39;00m \u001b[38;5;28;01mimport\u001b[39;00m Model\n",
      "File \u001b[1;32m~\\anaconda3\\envs\\sdse\\lib\\site-packages\\keras\\engine\\functional.py:24\u001b[0m\n\u001b[0;32m     21\u001b[0m \u001b[38;5;28;01mimport\u001b[39;00m \u001b[38;5;21;01mitertools\u001b[39;00m\n\u001b[0;32m     22\u001b[0m \u001b[38;5;28;01mimport\u001b[39;00m \u001b[38;5;21;01mwarnings\u001b[39;00m\n\u001b[1;32m---> 24\u001b[0m \u001b[38;5;28;01mimport\u001b[39;00m \u001b[38;5;21;01mtensorflow\u001b[39;00m\u001b[38;5;21;01m.\u001b[39;00m\u001b[38;5;21;01mcompat\u001b[39;00m\u001b[38;5;21;01m.\u001b[39;00m\u001b[38;5;21;01mv2\u001b[39;00m \u001b[38;5;28;01mas\u001b[39;00m \u001b[38;5;21;01mtf\u001b[39;00m\n\u001b[0;32m     26\u001b[0m \u001b[38;5;28;01mfrom\u001b[39;00m \u001b[38;5;21;01mkeras\u001b[39;00m \u001b[38;5;28;01mimport\u001b[39;00m backend\n\u001b[0;32m     27\u001b[0m \u001b[38;5;28;01mfrom\u001b[39;00m \u001b[38;5;21;01mkeras\u001b[39;00m\u001b[38;5;21;01m.\u001b[39;00m\u001b[38;5;21;01mdtensor\u001b[39;00m \u001b[38;5;28;01mimport\u001b[39;00m layout_map \u001b[38;5;28;01mas\u001b[39;00m layout_map_lib\n",
      "File \u001b[1;32m~\\anaconda3\\envs\\sdse\\lib\\site-packages\\tensorflow\\__init__.py:51\u001b[0m\n\u001b[0;32m     49\u001b[0m \u001b[38;5;28;01mfrom\u001b[39;00m \u001b[38;5;21;01m.\u001b[39;00m\u001b[38;5;21;01m_api\u001b[39;00m\u001b[38;5;21;01m.\u001b[39;00m\u001b[38;5;21;01mv2\u001b[39;00m \u001b[38;5;28;01mimport\u001b[39;00m autograph\n\u001b[0;32m     50\u001b[0m \u001b[38;5;28;01mfrom\u001b[39;00m \u001b[38;5;21;01m.\u001b[39;00m\u001b[38;5;21;01m_api\u001b[39;00m\u001b[38;5;21;01m.\u001b[39;00m\u001b[38;5;21;01mv2\u001b[39;00m \u001b[38;5;28;01mimport\u001b[39;00m bitwise\n\u001b[1;32m---> 51\u001b[0m \u001b[38;5;28;01mfrom\u001b[39;00m \u001b[38;5;21;01m.\u001b[39;00m\u001b[38;5;21;01m_api\u001b[39;00m\u001b[38;5;21;01m.\u001b[39;00m\u001b[38;5;21;01mv2\u001b[39;00m \u001b[38;5;28;01mimport\u001b[39;00m compat\n\u001b[0;32m     52\u001b[0m \u001b[38;5;28;01mfrom\u001b[39;00m \u001b[38;5;21;01m.\u001b[39;00m\u001b[38;5;21;01m_api\u001b[39;00m\u001b[38;5;21;01m.\u001b[39;00m\u001b[38;5;21;01mv2\u001b[39;00m \u001b[38;5;28;01mimport\u001b[39;00m config\n\u001b[0;32m     53\u001b[0m \u001b[38;5;28;01mfrom\u001b[39;00m \u001b[38;5;21;01m.\u001b[39;00m\u001b[38;5;21;01m_api\u001b[39;00m\u001b[38;5;21;01m.\u001b[39;00m\u001b[38;5;21;01mv2\u001b[39;00m \u001b[38;5;28;01mimport\u001b[39;00m data\n",
      "File \u001b[1;32m~\\anaconda3\\envs\\sdse\\lib\\site-packages\\tensorflow\\_api\\v2\\compat\\__init__.py:37\u001b[0m\n\u001b[0;32m      3\u001b[0m \u001b[38;5;124;03m\"\"\"Compatibility functions.\u001b[39;00m\n\u001b[0;32m      4\u001b[0m \n\u001b[0;32m      5\u001b[0m \u001b[38;5;124;03mThe `tf.compat` module contains two sets of compatibility functions.\u001b[39;00m\n\u001b[1;32m   (...)\u001b[0m\n\u001b[0;32m     32\u001b[0m \n\u001b[0;32m     33\u001b[0m \u001b[38;5;124;03m\"\"\"\u001b[39;00m\n\u001b[0;32m     35\u001b[0m \u001b[38;5;28;01mimport\u001b[39;00m \u001b[38;5;21;01msys\u001b[39;00m \u001b[38;5;28;01mas\u001b[39;00m \u001b[38;5;21;01m_sys\u001b[39;00m\n\u001b[1;32m---> 37\u001b[0m \u001b[38;5;28;01mfrom\u001b[39;00m \u001b[38;5;21;01m.\u001b[39;00m \u001b[38;5;28;01mimport\u001b[39;00m v1\n\u001b[0;32m     38\u001b[0m \u001b[38;5;28;01mfrom\u001b[39;00m \u001b[38;5;21;01m.\u001b[39;00m \u001b[38;5;28;01mimport\u001b[39;00m v2\n\u001b[0;32m     39\u001b[0m \u001b[38;5;28;01mfrom\u001b[39;00m \u001b[38;5;21;01mtensorflow\u001b[39;00m\u001b[38;5;21;01m.\u001b[39;00m\u001b[38;5;21;01mpython\u001b[39;00m\u001b[38;5;21;01m.\u001b[39;00m\u001b[38;5;21;01mcompat\u001b[39;00m\u001b[38;5;21;01m.\u001b[39;00m\u001b[38;5;21;01mcompat\u001b[39;00m \u001b[38;5;28;01mimport\u001b[39;00m forward_compatibility_horizon\n",
      "File \u001b[1;32m~\\anaconda3\\envs\\sdse\\lib\\site-packages\\tensorflow\\_api\\v2\\compat\\v1\\__init__.py:30\u001b[0m\n\u001b[0;32m     28\u001b[0m \u001b[38;5;28;01mfrom\u001b[39;00m \u001b[38;5;21;01m.\u001b[39;00m \u001b[38;5;28;01mimport\u001b[39;00m autograph\n\u001b[0;32m     29\u001b[0m \u001b[38;5;28;01mfrom\u001b[39;00m \u001b[38;5;21;01m.\u001b[39;00m \u001b[38;5;28;01mimport\u001b[39;00m bitwise\n\u001b[1;32m---> 30\u001b[0m \u001b[38;5;28;01mfrom\u001b[39;00m \u001b[38;5;21;01m.\u001b[39;00m \u001b[38;5;28;01mimport\u001b[39;00m compat\n\u001b[0;32m     31\u001b[0m \u001b[38;5;28;01mfrom\u001b[39;00m \u001b[38;5;21;01m.\u001b[39;00m \u001b[38;5;28;01mimport\u001b[39;00m config\n\u001b[0;32m     32\u001b[0m \u001b[38;5;28;01mfrom\u001b[39;00m \u001b[38;5;21;01m.\u001b[39;00m \u001b[38;5;28;01mimport\u001b[39;00m data\n",
      "File \u001b[1;32m~\\anaconda3\\envs\\sdse\\lib\\site-packages\\tensorflow\\_api\\v2\\compat\\v1\\compat\\__init__.py:37\u001b[0m\n\u001b[0;32m      3\u001b[0m \u001b[38;5;124;03m\"\"\"Compatibility functions.\u001b[39;00m\n\u001b[0;32m      4\u001b[0m \n\u001b[0;32m      5\u001b[0m \u001b[38;5;124;03mThe `tf.compat` module contains two sets of compatibility functions.\u001b[39;00m\n\u001b[1;32m   (...)\u001b[0m\n\u001b[0;32m     32\u001b[0m \n\u001b[0;32m     33\u001b[0m \u001b[38;5;124;03m\"\"\"\u001b[39;00m\n\u001b[0;32m     35\u001b[0m \u001b[38;5;28;01mimport\u001b[39;00m \u001b[38;5;21;01msys\u001b[39;00m \u001b[38;5;28;01mas\u001b[39;00m \u001b[38;5;21;01m_sys\u001b[39;00m\n\u001b[1;32m---> 37\u001b[0m \u001b[38;5;28;01mfrom\u001b[39;00m \u001b[38;5;21;01m.\u001b[39;00m \u001b[38;5;28;01mimport\u001b[39;00m v1\n\u001b[0;32m     38\u001b[0m \u001b[38;5;28;01mfrom\u001b[39;00m \u001b[38;5;21;01m.\u001b[39;00m \u001b[38;5;28;01mimport\u001b[39;00m v2\n\u001b[0;32m     39\u001b[0m \u001b[38;5;28;01mfrom\u001b[39;00m \u001b[38;5;21;01mtensorflow\u001b[39;00m\u001b[38;5;21;01m.\u001b[39;00m\u001b[38;5;21;01mpython\u001b[39;00m\u001b[38;5;21;01m.\u001b[39;00m\u001b[38;5;21;01mcompat\u001b[39;00m\u001b[38;5;21;01m.\u001b[39;00m\u001b[38;5;21;01mcompat\u001b[39;00m \u001b[38;5;28;01mimport\u001b[39;00m forward_compatibility_horizon\n",
      "File \u001b[1;32m~\\anaconda3\\envs\\sdse\\lib\\site-packages\\tensorflow\\_api\\v2\\compat\\v1\\compat\\v1\\__init__.py:31\u001b[0m\n\u001b[0;32m     29\u001b[0m \u001b[38;5;28;01mfrom\u001b[39;00m \u001b[38;5;21;01mtensorflow\u001b[39;00m\u001b[38;5;21;01m.\u001b[39;00m\u001b[38;5;21;01m_api\u001b[39;00m\u001b[38;5;21;01m.\u001b[39;00m\u001b[38;5;21;01mv2\u001b[39;00m\u001b[38;5;21;01m.\u001b[39;00m\u001b[38;5;21;01mcompat\u001b[39;00m\u001b[38;5;21;01m.\u001b[39;00m\u001b[38;5;21;01mv1\u001b[39;00m \u001b[38;5;28;01mimport\u001b[39;00m autograph\n\u001b[0;32m     30\u001b[0m \u001b[38;5;28;01mfrom\u001b[39;00m \u001b[38;5;21;01mtensorflow\u001b[39;00m\u001b[38;5;21;01m.\u001b[39;00m\u001b[38;5;21;01m_api\u001b[39;00m\u001b[38;5;21;01m.\u001b[39;00m\u001b[38;5;21;01mv2\u001b[39;00m\u001b[38;5;21;01m.\u001b[39;00m\u001b[38;5;21;01mcompat\u001b[39;00m\u001b[38;5;21;01m.\u001b[39;00m\u001b[38;5;21;01mv1\u001b[39;00m \u001b[38;5;28;01mimport\u001b[39;00m bitwise\n\u001b[1;32m---> 31\u001b[0m \u001b[38;5;28;01mfrom\u001b[39;00m \u001b[38;5;21;01mtensorflow\u001b[39;00m\u001b[38;5;21;01m.\u001b[39;00m\u001b[38;5;21;01m_api\u001b[39;00m\u001b[38;5;21;01m.\u001b[39;00m\u001b[38;5;21;01mv2\u001b[39;00m\u001b[38;5;21;01m.\u001b[39;00m\u001b[38;5;21;01mcompat\u001b[39;00m\u001b[38;5;21;01m.\u001b[39;00m\u001b[38;5;21;01mv1\u001b[39;00m \u001b[38;5;28;01mimport\u001b[39;00m config\n\u001b[0;32m     32\u001b[0m \u001b[38;5;28;01mfrom\u001b[39;00m \u001b[38;5;21;01mtensorflow\u001b[39;00m\u001b[38;5;21;01m.\u001b[39;00m\u001b[38;5;21;01m_api\u001b[39;00m\u001b[38;5;21;01m.\u001b[39;00m\u001b[38;5;21;01mv2\u001b[39;00m\u001b[38;5;21;01m.\u001b[39;00m\u001b[38;5;21;01mcompat\u001b[39;00m\u001b[38;5;21;01m.\u001b[39;00m\u001b[38;5;21;01mv1\u001b[39;00m \u001b[38;5;28;01mimport\u001b[39;00m data\n\u001b[0;32m     33\u001b[0m \u001b[38;5;28;01mfrom\u001b[39;00m \u001b[38;5;21;01mtensorflow\u001b[39;00m\u001b[38;5;21;01m.\u001b[39;00m\u001b[38;5;21;01m_api\u001b[39;00m\u001b[38;5;21;01m.\u001b[39;00m\u001b[38;5;21;01mv2\u001b[39;00m\u001b[38;5;21;01m.\u001b[39;00m\u001b[38;5;21;01mcompat\u001b[39;00m\u001b[38;5;21;01m.\u001b[39;00m\u001b[38;5;21;01mv1\u001b[39;00m \u001b[38;5;28;01mimport\u001b[39;00m debugging\n",
      "File \u001b[1;32m~\\anaconda3\\envs\\sdse\\lib\\site-packages\\tensorflow\\_api\\v2\\compat\\v1\\config\\__init__.py:14\u001b[0m\n\u001b[0;32m     12\u001b[0m \u001b[38;5;28;01mfrom\u001b[39;00m \u001b[38;5;21;01mtensorflow\u001b[39;00m\u001b[38;5;21;01m.\u001b[39;00m\u001b[38;5;21;01mpython\u001b[39;00m\u001b[38;5;21;01m.\u001b[39;00m\u001b[38;5;21;01meager\u001b[39;00m\u001b[38;5;21;01m.\u001b[39;00m\u001b[38;5;21;01mcontext\u001b[39;00m \u001b[38;5;28;01mimport\u001b[39;00m LogicalDeviceConfiguration\n\u001b[0;32m     13\u001b[0m \u001b[38;5;28;01mfrom\u001b[39;00m \u001b[38;5;21;01mtensorflow\u001b[39;00m\u001b[38;5;21;01m.\u001b[39;00m\u001b[38;5;21;01mpython\u001b[39;00m\u001b[38;5;21;01m.\u001b[39;00m\u001b[38;5;21;01meager\u001b[39;00m\u001b[38;5;21;01m.\u001b[39;00m\u001b[38;5;21;01mcontext\u001b[39;00m \u001b[38;5;28;01mimport\u001b[39;00m PhysicalDevice\n\u001b[1;32m---> 14\u001b[0m \u001b[38;5;28;01mfrom\u001b[39;00m \u001b[38;5;21;01mtensorflow\u001b[39;00m\u001b[38;5;21;01m.\u001b[39;00m\u001b[38;5;21;01mpython\u001b[39;00m\u001b[38;5;21;01m.\u001b[39;00m\u001b[38;5;21;01meager\u001b[39;00m\u001b[38;5;21;01m.\u001b[39;00m\u001b[38;5;21;01mdef_function\u001b[39;00m \u001b[38;5;28;01mimport\u001b[39;00m experimental_functions_run_eagerly\n\u001b[0;32m     15\u001b[0m \u001b[38;5;28;01mfrom\u001b[39;00m \u001b[38;5;21;01mtensorflow\u001b[39;00m\u001b[38;5;21;01m.\u001b[39;00m\u001b[38;5;21;01mpython\u001b[39;00m\u001b[38;5;21;01m.\u001b[39;00m\u001b[38;5;21;01meager\u001b[39;00m\u001b[38;5;21;01m.\u001b[39;00m\u001b[38;5;21;01mdef_function\u001b[39;00m \u001b[38;5;28;01mimport\u001b[39;00m experimental_run_functions_eagerly\n\u001b[0;32m     16\u001b[0m \u001b[38;5;28;01mfrom\u001b[39;00m \u001b[38;5;21;01mtensorflow\u001b[39;00m\u001b[38;5;21;01m.\u001b[39;00m\u001b[38;5;21;01mpython\u001b[39;00m\u001b[38;5;21;01m.\u001b[39;00m\u001b[38;5;21;01meager\u001b[39;00m\u001b[38;5;21;01m.\u001b[39;00m\u001b[38;5;21;01mdef_function\u001b[39;00m \u001b[38;5;28;01mimport\u001b[39;00m functions_run_eagerly\n",
      "\u001b[1;31mImportError\u001b[0m: cannot import name 'experimental_functions_run_eagerly' from 'tensorflow.python.eager.def_function' (C:\\Users\\jacob\\anaconda3\\envs\\sdse\\lib\\site-packages\\tensorflow\\python\\eager\\def_function.py)"
     ]
    }
   ],
   "source": [
    "import numpy as np\n",
    "import pandas as pd\n",
    "import keras\n",
    "#from keras.models import Sequential,Input,Model\n",
    "from keras.models import Sequential,Model\n",
    "from keras.layers import Input##I added this because the next line was unable to succesfully import Input\n",
    "\n",
    "from keras.layers import Dense, Dropout, Flatten\n",
    "from keras.layers import Conv2D, MaxPooling2D\n",
    "from keras.layers import ELU, PReLU, LeakyReLU\n",
    "#from keras.layers.advanced_activations import LeakyReLU\n",
    "import numpy as np\n",
    "import keras.backend as kb\n",
    "import tensorflow as tf\n",
    "from matplotlib import image\n",
    "from matplotlib import pyplot\n",
    "from PIL import Image\n",
    "from PIL import ImageOps\n",
    "import timeit\n",
    "import matplotlib.pyplot as plt"
   ]
  },
  {
   "cell_type": "markdown",
   "metadata": {
    "id": "-ahPBRv897Ci"
   },
   "source": [
    "# New Section"
   ]
  },
  {
   "cell_type": "markdown",
   "metadata": {},
   "source": [
    "#We now import all processed images "
   ]
  },
  {
   "cell_type": "code",
   "execution_count": null,
   "metadata": {
    "colab": {
     "base_uri": "https://localhost:8080/",
     "height": 257
    },
    "executionInfo": {
     "elapsed": 317,
     "status": "error",
     "timestamp": 1670375306089,
     "user": {
      "displayName": "Ivan Hendry",
      "userId": "16210657130321473761"
     },
     "user_tz": 480
    },
    "id": "njmnNRAdXswG",
    "outputId": "e65d1726-90ee-4ae7-c3c0-db0ef2cbdac9"
   },
   "outputs": [],
   "source": [
    "rez = 650\n",
    "\n",
    "imgall=np.zeros([124,rez,rez,1])\n",
    "y=np.zeros([124,6])\n",
    "dironly=np.zeros([124,2])\n",
    "fulllabel=np.zeros([124,1])\n",
    "a=0\n",
    "\n",
    "\n",
    "# 3in Left 23 available\n",
    "for i in range(1,24):\n",
    "    imgall[a,:,:,:]=np.array(Image.open('Image Processing\\\\Direction\\\\3in\\\\Left\\\\L_3_Conv_{}.jpg'.format(str(i)))).reshape(rez,rez,1)\n",
    "    y[a]=[1,0,0,0,0,0]\n",
    "    dironly[a]=[1,0]\n",
    "    fulllabel[a]=0\n",
    "    a+=1\n",
    "# 3in wide left 13 available\n",
    "for i in range(1,14):\n",
    "    imgall[a,:,:,:]=np.array(Image.open('Image Processing\\\\Direction\\\\3in_W\\\\Left\\\\L_3_W_Conv_{}.jpg'.format(str(i)))).reshape(rez,rez,1)\n",
    "    y[a]=[0,1,0,0,0,0]\n",
    "    dironly[a]=[1,0]\n",
    "    fulllabel[a]=1\n",
    "    a+=1\n",
    "    \n",
    "# 50in left 22 available\n",
    "for i in range(1,23):\n",
    "    imgall[a,:,:,:]=np.array(Image.open('Image Processing\\\\Direction\\\\50in\\\\Left\\\\L_50_W_Conv_{}.jpg'.format(str(i)))).reshape(rez,rez,1)\n",
    "    y[a]=[0,0,1,0,0,0]\n",
    "    dironly[a]=[1,0]\n",
    "    fulllabel[a]=2\n",
    "    a+=1\n",
    "    \n",
    "# 50in right 24 available\n",
    "for i in range(1,25):\n",
    "    imgall[a,:,:,:]=np.array(Image.open('Image Processing\\\\Direction\\\\50in\\\\Right\\\\R_50_Conv_{}.jpg'.format(str(i)))).reshape(rez,rez,1)\n",
    "    y[a]=[0,0,0,1,0,0]\n",
    "    dironly[a]=[0,1]\n",
    "    fulllabel[a]=3\n",
    "    a+=1\n",
    "    \n",
    "# 3in wide right (there are really 27, but I uploaded 25 to match the total of 124)\n",
    "for i in range(1,26):\n",
    "    imgall[a,:,:,:]=np.array(Image.open('Image Processing\\\\Direction\\\\3in_W\\\\Right\\\\R_3_W_Conv_{}.jpg'.format(str(i)))).reshape(rez,rez,1)\n",
    "    y[a]=[0,0,0,0,1,0]\n",
    "    dironly[a]=[0,1]\n",
    "    fulllabel[a]=4\n",
    "    a+=1\n",
    "    \n",
    "# 3in right 17 available\n",
    "for i in range(1,18):\n",
    "    imgall[a,:,:,:]=np.array(Image.open('Image Processing\\\\Direction\\\\3in\\\\Right\\\\R_3_Conv_{}.jpg'.format(str(i)))).reshape(rez,rez,1)\n",
    "    y[a]=[0,0,0,0,0,1]\n",
    "    dironly[a]=[0,1]\n",
    "    fulllabel[a]=5\n",
    "    a+=1\n",
    "  #sharpleft=[1,0,0,0,0,0]\n",
    "  #wideleft=[0,1,0,0,0,0]\n",
    "  #sharp50left=[0,0,1,0,0,0]\n",
    "  #sharp50right=[0,0,0,1,0,0]\n",
    "  #wideright=[0,0,0,0,1,0]\n",
    "  #sharpright=[0,0,0,0,0,1]\n",
    "\n",
    "  #left=[1,0]\n",
    "  #right=[0,1]\n",
    "imgall=imgall.astype('float32')/255"
   ]
  },
  {
   "cell_type": "code",
   "execution_count": null,
   "metadata": {
    "id": "nn1VjmpUGBim"
   },
   "outputs": [],
   "source": [
    "import random\n",
    "randomlist = random.sample(range(0, 124), int(124*.2))\n",
    "imgtest=imgall[randomlist,:,:]\n",
    "ytest=y[randomlist,:]\n",
    "dironlytest=dironly[randomlist,:]\n",
    "fulllabeltest=fulllabel[randomlist,:]\n",
    "main_list = list(set(range(0,124)) - set(randomlist))\n",
    "imgtrain=imgall[main_list,:,:]\n",
    "ytrain=y[main_list,:]\n",
    "dironlytrain=dironly[main_list,:]\n",
    "fulllabeltrain=fulllabel[main_list,:]"
   ]
  },
  {
   "cell_type": "code",
   "execution_count": null,
   "metadata": {
    "id": "LF4Mr4lZXUN7"
   },
   "outputs": [],
   "source": [
    "batch_size = 8\n",
    "epochs = 50\n",
    "num_classes=6"
   ]
  },
  {
   "cell_type": "code",
   "execution_count": 93,
   "metadata": {
    "colab": {
     "base_uri": "https://localhost:8080/"
    },
    "executionInfo": {
     "elapsed": 2726,
     "status": "ok",
     "timestamp": 1638921291339,
     "user": {
      "displayName": "Justin Tay",
      "photoUrl": "https://lh3.googleusercontent.com/a/default-user=s64",
      "userId": "05446378936844466818"
     },
     "user_tz": 480
    },
    "id": "08vNiJW6XyEv",
    "outputId": "e1f853e0-1872-4556-cf01-ec34d0dcbf7a"
   },
   "outputs": [
    {
     "name": "stdout",
     "output_type": "stream",
     "text": [
      "Model: \"sequential_12\"\n",
      "_________________________________________________________________\n",
      " Layer (type)                Output Shape              Param #   \n",
      "=================================================================\n",
      " conv2d_36 (Conv2D)          (None, 650, 650, 128)     1280      \n",
      "                                                                 \n",
      " leaky_re_lu_48 (LeakyReLU)  (None, 650, 650, 128)     0         \n",
      "                                                                 \n",
      " max_pooling2d_36 (MaxPoolin  (None, 325, 325, 128)    0         \n",
      " g2D)                                                            \n",
      "                                                                 \n",
      " conv2d_37 (Conv2D)          (None, 325, 325, 256)     295168    \n",
      "                                                                 \n",
      " leaky_re_lu_49 (LeakyReLU)  (None, 325, 325, 256)     0         \n",
      "                                                                 \n",
      " max_pooling2d_37 (MaxPoolin  (None, 163, 163, 256)    0         \n",
      " g2D)                                                            \n",
      "                                                                 \n",
      " conv2d_38 (Conv2D)          (None, 163, 163, 25)      57625     \n",
      "                                                                 \n",
      " leaky_re_lu_50 (LeakyReLU)  (None, 163, 163, 25)      0         \n",
      "                                                                 \n",
      " max_pooling2d_38 (MaxPoolin  (None, 82, 82, 25)       0         \n",
      " g2D)                                                            \n",
      "                                                                 \n",
      " flatten_12 (Flatten)        (None, 168100)            0         \n",
      "                                                                 \n",
      " dense_24 (Dense)            (None, 128)               21516928  \n",
      "                                                                 \n",
      " leaky_re_lu_51 (LeakyReLU)  (None, 128)               0         \n",
      "                                                                 \n",
      " dense_25 (Dense)            (None, 6)                 774       \n",
      "                                                                 \n",
      "=================================================================\n",
      "Total params: 21,871,775\n",
      "Trainable params: 21,871,775\n",
      "Non-trainable params: 0\n",
      "_________________________________________________________________\n"
     ]
    }
   ],
   "source": [
    "model = Sequential()\n",
    "model.add(Conv2D(128, kernel_size=(3, 3),activation='linear',input_shape=(rez,rez,1),padding='same'))\n",
    "model.add(LeakyReLU(alpha=.5))\n",
    "model.add(MaxPooling2D((2, 2),padding='same'))\n",
    "model.add(Conv2D(256, (3, 3), activation='linear',padding='same'))\n",
    "model.add(LeakyReLU(alpha=.5))\n",
    "model.add(MaxPooling2D(pool_size=(2, 2),padding='same'))\n",
    "model.add(Conv2D(25, (3, 3), activation='linear',padding='same'))\n",
    "model.add(LeakyReLU(alpha=.5))                  \n",
    "model.add(MaxPooling2D(pool_size=(2, 2),padding='same'))\n",
    "model.add(Flatten())\n",
    "model.add(Dense(128, activation='linear'))\n",
    "model.add(LeakyReLU(alpha=1))\n",
    "model.add(Dense(num_classes,activation='softmax'))\n",
    "model.compile(loss=keras.losses.categorical_crossentropy, optimizer=tf.keras.optimizers.Adam(),metrics=['accuracy'])\n",
    "model.summary()"
   ]
  },
  {
   "cell_type": "code",
   "execution_count": 94,
   "metadata": {
    "colab": {
     "base_uri": "https://localhost:8080/"
    },
    "executionInfo": {
     "elapsed": 1882944,
     "status": "ok",
     "timestamp": 1638923181781,
     "user": {
      "displayName": "Justin Tay",
      "photoUrl": "https://lh3.googleusercontent.com/a/default-user=s64",
      "userId": "05446378936844466818"
     },
     "user_tz": 480
    },
    "id": "BXQchyBuYOPG",
    "outputId": "60041a91-d008-48df-a828-242522275dbd",
    "scrolled": true
   },
   "outputs": [
    {
     "name": "stdout",
     "output_type": "stream",
     "text": [
      "Epoch 1/50\n",
      "13/13 [==============================] - 76s 6s/step - loss: 85.1339 - accuracy: 0.0800 - val_loss: 35.8384 - val_accuracy: 0.2083\n",
      "Epoch 2/50\n",
      "13/13 [==============================] - 76s 6s/step - loss: 20.8893 - accuracy: 0.1000 - val_loss: 13.2820 - val_accuracy: 0.1250\n",
      "Epoch 3/50\n",
      "13/13 [==============================] - 77s 6s/step - loss: 6.1442 - accuracy: 0.2500 - val_loss: 4.6589 - val_accuracy: 0.1667\n",
      "Epoch 4/50\n",
      "13/13 [==============================] - 78s 6s/step - loss: 2.2772 - accuracy: 0.4200 - val_loss: 2.7990 - val_accuracy: 0.1667\n",
      "Epoch 5/50\n",
      "13/13 [==============================] - 79s 6s/step - loss: 1.6823 - accuracy: 0.3700 - val_loss: 2.5137 - val_accuracy: 0.2917\n",
      "Epoch 6/50\n",
      "13/13 [==============================] - 74s 6s/step - loss: 1.5011 - accuracy: 0.5100 - val_loss: 3.6283 - val_accuracy: 0.1667\n",
      "Epoch 7/50\n",
      "13/13 [==============================] - 75s 6s/step - loss: 1.4288 - accuracy: 0.5800 - val_loss: 1.9290 - val_accuracy: 0.3333\n",
      "Epoch 8/50\n",
      "13/13 [==============================] - 75s 6s/step - loss: 0.8200 - accuracy: 0.6700 - val_loss: 1.1274 - val_accuracy: 0.6250\n",
      "Epoch 9/50\n",
      "13/13 [==============================] - 75s 6s/step - loss: 0.3665 - accuracy: 0.8800 - val_loss: 0.6799 - val_accuracy: 0.7500\n",
      "Epoch 10/50\n",
      "13/13 [==============================] - 75s 6s/step - loss: 0.2754 - accuracy: 0.8900 - val_loss: 0.3876 - val_accuracy: 0.8750\n",
      "Epoch 11/50\n",
      "13/13 [==============================] - 76s 6s/step - loss: 0.2023 - accuracy: 0.9400 - val_loss: 1.2353 - val_accuracy: 0.6667\n",
      "Epoch 12/50\n",
      "13/13 [==============================] - 78s 6s/step - loss: 0.2643 - accuracy: 0.9200 - val_loss: 0.5583 - val_accuracy: 0.7917\n",
      "Epoch 13/50\n",
      "13/13 [==============================] - 76s 6s/step - loss: 0.0696 - accuracy: 0.9900 - val_loss: 0.4163 - val_accuracy: 0.7917\n",
      "Epoch 14/50\n",
      "13/13 [==============================] - 76s 6s/step - loss: 0.0425 - accuracy: 0.9800 - val_loss: 0.2361 - val_accuracy: 0.9167\n",
      "Epoch 15/50\n",
      "13/13 [==============================] - 76s 6s/step - loss: 0.0344 - accuracy: 1.0000 - val_loss: 0.2559 - val_accuracy: 0.9167\n",
      "Epoch 16/50\n",
      "13/13 [==============================] - 76s 6s/step - loss: 0.0173 - accuracy: 1.0000 - val_loss: 0.1920 - val_accuracy: 0.9167\n",
      "Epoch 17/50\n",
      "13/13 [==============================] - 75s 6s/step - loss: 0.0090 - accuracy: 1.0000 - val_loss: 0.1502 - val_accuracy: 0.9167\n",
      "Epoch 18/50\n",
      "13/13 [==============================] - 76s 6s/step - loss: 0.0057 - accuracy: 1.0000 - val_loss: 0.1342 - val_accuracy: 0.9583\n",
      "Epoch 19/50\n",
      "13/13 [==============================] - 74s 6s/step - loss: 0.0045 - accuracy: 1.0000 - val_loss: 0.1263 - val_accuracy: 0.9583\n",
      "Epoch 20/50\n",
      "13/13 [==============================] - 75s 6s/step - loss: 0.0039 - accuracy: 1.0000 - val_loss: 0.1179 - val_accuracy: 0.9583\n",
      "Epoch 21/50\n",
      "13/13 [==============================] - 75s 6s/step - loss: 0.0036 - accuracy: 1.0000 - val_loss: 0.1089 - val_accuracy: 0.9583\n",
      "Epoch 22/50\n",
      "13/13 [==============================] - 80s 6s/step - loss: 0.0032 - accuracy: 1.0000 - val_loss: 0.1021 - val_accuracy: 1.0000\n",
      "Epoch 23/50\n",
      "13/13 [==============================] - 75s 6s/step - loss: 0.0028 - accuracy: 1.0000 - val_loss: 0.0987 - val_accuracy: 1.0000\n",
      "Epoch 24/50\n",
      "13/13 [==============================] - 76s 6s/step - loss: 0.0025 - accuracy: 1.0000 - val_loss: 0.0989 - val_accuracy: 0.9583\n",
      "Epoch 25/50\n",
      "13/13 [==============================] - 78s 6s/step - loss: 0.0024 - accuracy: 1.0000 - val_loss: 0.0930 - val_accuracy: 1.0000\n",
      "Epoch 26/50\n",
      "13/13 [==============================] - 75s 6s/step - loss: 0.0022 - accuracy: 1.0000 - val_loss: 0.0907 - val_accuracy: 1.0000\n",
      "Epoch 27/50\n",
      "13/13 [==============================] - 75s 6s/step - loss: 0.0021 - accuracy: 1.0000 - val_loss: 0.0878 - val_accuracy: 1.0000\n",
      "Epoch 28/50\n",
      "13/13 [==============================] - 75s 6s/step - loss: 0.0019 - accuracy: 1.0000 - val_loss: 0.0829 - val_accuracy: 1.0000\n",
      "Epoch 29/50\n",
      "13/13 [==============================] - 75s 6s/step - loss: 0.0018 - accuracy: 1.0000 - val_loss: 0.0831 - val_accuracy: 1.0000\n",
      "Epoch 30/50\n",
      "13/13 [==============================] - 75s 6s/step - loss: 0.0017 - accuracy: 1.0000 - val_loss: 0.0836 - val_accuracy: 1.0000\n",
      "Epoch 31/50\n",
      "13/13 [==============================] - 75s 6s/step - loss: 0.0016 - accuracy: 1.0000 - val_loss: 0.0818 - val_accuracy: 1.0000\n",
      "Epoch 32/50\n",
      "13/13 [==============================] - 79s 6s/step - loss: 0.0015 - accuracy: 1.0000 - val_loss: 0.0769 - val_accuracy: 1.0000\n",
      "Epoch 33/50\n",
      "13/13 [==============================] - 75s 6s/step - loss: 0.0014 - accuracy: 1.0000 - val_loss: 0.0786 - val_accuracy: 1.0000\n",
      "Epoch 34/50\n",
      "13/13 [==============================] - 75s 6s/step - loss: 0.0013 - accuracy: 1.0000 - val_loss: 0.0771 - val_accuracy: 1.0000\n",
      "Epoch 35/50\n",
      "13/13 [==============================] - 75s 6s/step - loss: 0.0012 - accuracy: 1.0000 - val_loss: 0.0754 - val_accuracy: 1.0000\n",
      "Epoch 36/50\n",
      "13/13 [==============================] - 76s 6s/step - loss: 0.0012 - accuracy: 1.0000 - val_loss: 0.0737 - val_accuracy: 1.0000\n",
      "Epoch 37/50\n",
      "13/13 [==============================] - 76s 6s/step - loss: 0.0011 - accuracy: 1.0000 - val_loss: 0.0713 - val_accuracy: 1.0000\n",
      "Epoch 38/50\n",
      "13/13 [==============================] - 75s 6s/step - loss: 0.0011 - accuracy: 1.0000 - val_loss: 0.0698 - val_accuracy: 1.0000\n",
      "Epoch 39/50\n",
      "13/13 [==============================] - 75s 6s/step - loss: 0.0010 - accuracy: 1.0000 - val_loss: 0.0688 - val_accuracy: 1.0000\n",
      "Epoch 40/50\n",
      "13/13 [==============================] - 75s 6s/step - loss: 9.9490e-04 - accuracy: 1.0000 - val_loss: 0.0680 - val_accuracy: 1.0000\n",
      "Epoch 41/50\n",
      "13/13 [==============================] - 74s 6s/step - loss: 9.4801e-04 - accuracy: 1.0000 - val_loss: 0.0665 - val_accuracy: 1.0000\n",
      "Epoch 42/50\n",
      "13/13 [==============================] - 75s 6s/step - loss: 9.1698e-04 - accuracy: 1.0000 - val_loss: 0.0655 - val_accuracy: 1.0000\n",
      "Epoch 43/50\n",
      "13/13 [==============================] - 74s 6s/step - loss: 8.7077e-04 - accuracy: 1.0000 - val_loss: 0.0651 - val_accuracy: 1.0000\n",
      "Epoch 44/50\n",
      "13/13 [==============================] - 75s 6s/step - loss: 8.4336e-04 - accuracy: 1.0000 - val_loss: 0.0645 - val_accuracy: 1.0000\n",
      "Epoch 45/50\n",
      "13/13 [==============================] - 75s 6s/step - loss: 8.0592e-04 - accuracy: 1.0000 - val_loss: 0.0638 - val_accuracy: 1.0000\n",
      "Epoch 46/50\n",
      "13/13 [==============================] - 74s 6s/step - loss: 7.8226e-04 - accuracy: 1.0000 - val_loss: 0.0619 - val_accuracy: 1.0000\n",
      "Epoch 47/50\n",
      "13/13 [==============================] - 74s 6s/step - loss: 7.4757e-04 - accuracy: 1.0000 - val_loss: 0.0612 - val_accuracy: 1.0000\n",
      "Epoch 48/50\n",
      "13/13 [==============================] - 75s 6s/step - loss: 7.2743e-04 - accuracy: 1.0000 - val_loss: 0.0612 - val_accuracy: 1.0000\n",
      "Epoch 49/50\n",
      "13/13 [==============================] - 75s 6s/step - loss: 6.9742e-04 - accuracy: 1.0000 - val_loss: 0.0606 - val_accuracy: 1.0000\n",
      "Epoch 50/50\n",
      "13/13 [==============================] - 74s 6s/step - loss: 6.6972e-04 - accuracy: 1.0000 - val_loss: 0.0593 - val_accuracy: 1.0000\n"
     ]
    }
   ],
   "source": [
    "train = model.fit(imgtrain, ytrain, batch_size=batch_size,epochs=epochs,verbose=1,validation_data=(imgtest,ytest))"
   ]
  },
  {
   "cell_type": "code",
   "execution_count": 95,
   "metadata": {
    "colab": {
     "base_uri": "https://localhost:8080/"
    },
    "executionInfo": {
     "elapsed": 2464,
     "status": "ok",
     "timestamp": 1638923190817,
     "user": {
      "displayName": "Justin Tay",
      "photoUrl": "https://lh3.googleusercontent.com/a/default-user=s64",
      "userId": "05446378936844466818"
     },
     "user_tz": 480
    },
    "id": "PJIN9GqhYgCx",
    "outputId": "b8a9c905-207e-4461-85b8-b742af87b778",
    "scrolled": true
   },
   "outputs": [
    {
     "name": "stderr",
     "output_type": "stream",
     "text": [
      "WARNING:absl:Found untraced functions such as _jit_compiled_convolution_op, _jit_compiled_convolution_op, _jit_compiled_convolution_op, _update_step_xla while saving (showing 4 of 4). These functions will not be directly callable after loading.\n"
     ]
    },
    {
     "name": "stdout",
     "output_type": "stream",
     "text": [
      "INFO:tensorflow:Assets written to: Complete_Direction_Car1\\assets\n"
     ]
    },
    {
     "name": "stderr",
     "output_type": "stream",
     "text": [
      "INFO:tensorflow:Assets written to: Complete_Direction_Car1\\assets\n"
     ]
    }
   ],
   "source": [
    "model.save('Complete_Direction_Car1')"
   ]
  },
  {
   "cell_type": "code",
   "execution_count": 86,
   "metadata": {
    "colab": {
     "base_uri": "https://localhost:8080/"
    },
    "executionInfo": {
     "elapsed": 13868,
     "status": "ok",
     "timestamp": 1638923379258,
     "user": {
      "displayName": "Justin Tay",
      "photoUrl": "https://lh3.googleusercontent.com/a/default-user=s64",
      "userId": "05446378936844466818"
     },
     "user_tz": 480
    },
    "id": "SQJg4502cSWS",
    "outputId": "a97b3f64-1b67-49d1-ce53-5175198089fe"
   },
   "outputs": [],
   "source": [
    "#!zip -r Full_Direction_Car1.zip Complete_Direction_Car1"
   ]
  },
  {
   "cell_type": "code",
   "execution_count": 87,
   "metadata": {
    "colab": {
     "base_uri": "https://localhost:8080/",
     "height": 17
    },
    "executionInfo": {
     "elapsed": 112,
     "status": "ok",
     "timestamp": 1638923420241,
     "user": {
      "displayName": "Justin Tay",
      "photoUrl": "https://lh3.googleusercontent.com/a/default-user=s64",
      "userId": "05446378936844466818"
     },
     "user_tz": 480
    },
    "id": "ULQvf8shcj80",
    "outputId": "0860ff1d-7417-40c7-e1bb-930194ed619a"
   },
   "outputs": [],
   "source": [
    "#from google.colab import files\n",
    "#files.download(\"Full_Direction_Car1.zip\")"
   ]
  },
  {
   "cell_type": "code",
   "execution_count": 96,
   "metadata": {
    "colab": {
     "base_uri": "https://localhost:8080/",
     "height": 1000
    },
    "executionInfo": {
     "elapsed": 574,
     "status": "ok",
     "timestamp": 1638923731439,
     "user": {
      "displayName": "Justin Tay",
      "photoUrl": "https://lh3.googleusercontent.com/a/default-user=s64",
      "userId": "05446378936844466818"
     },
     "user_tz": 480
    },
    "id": "1IQEAaQMX_Yo",
    "outputId": "776f01c4-e71d-43f1-926d-4c3c03d69684"
   },
   "outputs": [
    {
     "data": {
      "image/png": "[encoded data removed]",
      "text/plain": [
       "<Figure size 1900x1500 with 1 Axes>"
      ]
     },
     "metadata": {},
     "output_type": "display_data"
    },
    {
     "data": {
      "image/png": "[encoded data removed]",
      "text/plain": [
       "<Figure size 1900x1500 with 1 Axes>"
      ]
     },
     "metadata": {},
     "output_type": "display_data"
    }
   ],
   "source": [
    "plt.rcParams[\"figure.figsize\"] = (19,15)\n",
    "accuracy = train.history['accuracy']\n",
    "val_accuracy = train.history['val_accuracy']\n",
    "loss = train.history['loss']\n",
    "val_loss = train.history['val_loss']\n",
    "epochs = range(len(accuracy))\n",
    "plt.plot(epochs, accuracy, 'bo', label='Training accuracy')\n",
    "plt.plot(epochs, val_accuracy, 'b', label='Validation accuracy')\n",
    "plt.title('Training and validation accuracy')\n",
    "plt.legend()\n",
    "plt.figure()\n",
    "plt.plot(epochs, loss, 'bo', label='Training loss')\n",
    "plt.plot(epochs, val_loss, 'b', label='Validation loss')\n",
    "plt.title('Training and validation loss')\n",
    "plt.legend()\n",
    "plt.show()"
   ]
  },
  {
   "cell_type": "code",
   "execution_count": 65,
   "metadata": {
    "id": "2aHYAmZBa4_y"
   },
   "outputs": [
    {
     "name": "stdout",
     "output_type": "stream",
     "text": [
      "2/2 [==============================] - 9s 3s/step\n",
      "2/2 [==============================] - 9s 3s/step\n"
     ]
    }
   ],
   "source": [
    "ypred1=model.predict(imgtrain[:int(imgtrain.shape[0]/2),:,:])\n",
    "ypred2=model.predict(imgtrain[int(imgtrain.shape[0]/2):,:,:])"
   ]
  },
  {
   "cell_type": "code",
   "execution_count": 66,
   "metadata": {
    "colab": {
     "base_uri": "https://localhost:8080/"
    },
    "executionInfo": {
     "elapsed": 115,
     "status": "ok",
     "timestamp": 1638924717819,
     "user": {
      "displayName": "Justin Tay",
      "photoUrl": "https://lh3.googleusercontent.com/a/default-user=s64",
      "userId": "05446378936844466818"
     },
     "user_tz": 480
    },
    "id": "END7i5R7NsGh",
    "outputId": "84b794d3-6579-4dd3-aace-de52fbb16890"
   },
   "outputs": [
    {
     "data": {
      "text/plain": [
       "array([[0., 0.],\n",
       "       [0., 0.],\n",
       "       [0., 0.],\n",
       "       [0., 0.],\n",
       "       [0., 0.],\n",
       "       [0., 0.],\n",
       "       [0., 0.],\n",
       "       [0., 0.],\n",
       "       [0., 0.],\n",
       "       [0., 0.],\n",
       "       [0., 0.],\n",
       "       [0., 0.],\n",
       "       [0., 0.],\n",
       "       [0., 0.],\n",
       "       [0., 0.],\n",
       "       [0., 0.],\n",
       "       [0., 0.],\n",
       "       [1., 1.],\n",
       "       [1., 1.],\n",
       "       [1., 1.],\n",
       "       [1., 1.],\n",
       "       [1., 1.],\n",
       "       [1., 1.],\n",
       "       [1., 1.],\n",
       "       [1., 1.],\n",
       "       [1., 1.],\n",
       "       [1., 1.],\n",
       "       [1., 1.],\n",
       "       [1., 1.],\n",
       "       [1., 1.],\n",
       "       [2., 2.],\n",
       "       [2., 2.],\n",
       "       [2., 2.],\n",
       "       [2., 2.],\n",
       "       [2., 2.],\n",
       "       [2., 2.],\n",
       "       [2., 2.],\n",
       "       [2., 2.],\n",
       "       [2., 2.],\n",
       "       [2., 2.],\n",
       "       [2., 2.],\n",
       "       [2., 2.],\n",
       "       [2., 2.],\n",
       "       [2., 2.],\n",
       "       [2., 2.],\n",
       "       [2., 2.],\n",
       "       [2., 2.],\n",
       "       [2., 2.],\n",
       "       [2., 2.],\n",
       "       [2., 2.],\n",
       "       [3., 3.],\n",
       "       [3., 3.],\n",
       "       [3., 3.],\n",
       "       [3., 3.],\n",
       "       [3., 3.],\n",
       "       [3., 3.],\n",
       "       [3., 3.],\n",
       "       [3., 3.],\n",
       "       [3., 3.],\n",
       "       [3., 3.],\n",
       "       [3., 3.],\n",
       "       [3., 3.],\n",
       "       [3., 3.],\n",
       "       [3., 3.],\n",
       "       [3., 3.],\n",
       "       [3., 3.],\n",
       "       [3., 3.],\n",
       "       [3., 3.],\n",
       "       [3., 3.],\n",
       "       [3., 3.],\n",
       "       [4., 4.],\n",
       "       [4., 4.],\n",
       "       [4., 4.],\n",
       "       [4., 4.],\n",
       "       [4., 4.],\n",
       "       [4., 4.],\n",
       "       [4., 4.],\n",
       "       [4., 4.],\n",
       "       [4., 4.],\n",
       "       [4., 4.],\n",
       "       [4., 4.],\n",
       "       [4., 4.],\n",
       "       [4., 4.],\n",
       "       [4., 4.],\n",
       "       [4., 4.],\n",
       "       [4., 4.],\n",
       "       [4., 4.],\n",
       "       [5., 5.],\n",
       "       [5., 5.],\n",
       "       [5., 5.],\n",
       "       [5., 5.],\n",
       "       [5., 5.],\n",
       "       [5., 5.],\n",
       "       [5., 5.],\n",
       "       [5., 5.],\n",
       "       [5., 5.],\n",
       "       [5., 5.],\n",
       "       [5., 5.],\n",
       "       [5., 5.],\n",
       "       [5., 5.]])"
      ]
     },
     "execution_count": 66,
     "metadata": {},
     "output_type": "execute_result"
    }
   ],
   "source": [
    "ypredtot=np.vstack([ypred1,ypred2])\n",
    "ypredtot=np.argmax(ypredtot,axis=1).reshape(ypredtot.shape[0],1)\n",
    "np.hstack([ypredtot,fulllabeltrain])"
   ]
  },
  {
   "cell_type": "code",
   "execution_count": 67,
   "metadata": {
    "colab": {
     "base_uri": "https://localhost:8080/"
    },
    "executionInfo": {
     "elapsed": 6120,
     "status": "ok",
     "timestamp": 1638924828180,
     "user": {
      "displayName": "Justin Tay",
      "photoUrl": "https://lh3.googleusercontent.com/a/default-user=s64",
      "userId": "05446378936844466818"
     },
     "user_tz": 480
    },
    "id": "4H0WHBTmbDOa",
    "outputId": "427409c1-2e55-4a13-fb38-190a05db9600"
   },
   "outputs": [
    {
     "name": "stdout",
     "output_type": "stream",
     "text": [
      "1/1 [==============================] - 4s 4s/step\n"
     ]
    },
    {
     "data": {
      "text/plain": [
       "array([[0., 0.],\n",
       "       [2., 2.],\n",
       "       [4., 4.],\n",
       "       [2., 2.],\n",
       "       [4., 4.],\n",
       "       [0., 4.],\n",
       "       [0., 0.],\n",
       "       [0., 0.],\n",
       "       [4., 4.],\n",
       "       [5., 5.],\n",
       "       [5., 5.],\n",
       "       [3., 3.],\n",
       "       [4., 4.],\n",
       "       [3., 3.],\n",
       "       [0., 0.],\n",
       "       [4., 4.],\n",
       "       [4., 4.],\n",
       "       [5., 5.],\n",
       "       [3., 3.],\n",
       "       [4., 4.],\n",
       "       [0., 0.],\n",
       "       [0., 0.],\n",
       "       [3., 3.],\n",
       "       [5., 5.]])"
      ]
     },
     "execution_count": 67,
     "metadata": {},
     "output_type": "execute_result"
    }
   ],
   "source": [
    "ypred=model.predict(imgtest)\n",
    "ypred=np.argmax(ypred,axis=1).reshape(ypred.shape[0],1)\n",
    "np.hstack([ypred,fulllabeltest])"
   ]
  },
  {
   "cell_type": "code",
   "execution_count": 68,
   "metadata": {
    "colab": {
     "base_uri": "https://localhost:8080/"
    },
    "executionInfo": {
     "elapsed": 238,
     "status": "ok",
     "timestamp": 1638835992099,
     "user": {
      "displayName": "Justin Tay",
      "photoUrl": "https://lh3.googleusercontent.com/a/default-user=s64",
      "userId": "05446378936844466818"
     },
     "user_tz": 480
    },
    "id": "TNTilHMbeCze",
    "outputId": "fa42969d-f486-431a-88b1-7c4f62c574a6"
   },
   "outputs": [
    {
     "name": "stdout",
     "output_type": "stream",
     "text": [
      "Model: \"sequential_2\"\n",
      "_________________________________________________________________\n",
      " Layer (type)                Output Shape              Param #   \n",
      "=================================================================\n",
      " conv2d_6 (Conv2D)           (None, 650, 650, 128)     1280      \n",
      "                                                                 \n",
      " leaky_re_lu_8 (LeakyReLU)   (None, 650, 650, 128)     0         \n",
      "                                                                 \n",
      " max_pooling2d_6 (MaxPooling  (None, 325, 325, 128)    0         \n",
      " 2D)                                                             \n",
      "                                                                 \n",
      " conv2d_7 (Conv2D)           (None, 325, 325, 256)     295168    \n",
      "                                                                 \n",
      " leaky_re_lu_9 (LeakyReLU)   (None, 325, 325, 256)     0         \n",
      "                                                                 \n",
      " max_pooling2d_7 (MaxPooling  (None, 163, 163, 256)    0         \n",
      " 2D)                                                             \n",
      "                                                                 \n",
      " conv2d_8 (Conv2D)           (None, 163, 163, 25)      57625     \n",
      "                                                                 \n",
      " leaky_re_lu_10 (LeakyReLU)  (None, 163, 163, 25)      0         \n",
      "                                                                 \n",
      " max_pooling2d_8 (MaxPooling  (None, 82, 82, 25)       0         \n",
      " 2D)                                                             \n",
      "                                                                 \n",
      " flatten_2 (Flatten)         (None, 168100)            0         \n",
      "                                                                 \n",
      " dense_4 (Dense)             (None, 128)               21516928  \n",
      "                                                                 \n",
      " leaky_re_lu_11 (LeakyReLU)  (None, 128)               0         \n",
      "                                                                 \n",
      " dropout (Dropout)           (None, 128)               0         \n",
      "                                                                 \n",
      " dense_5 (Dense)             (None, 1)                 129       \n",
      "                                                                 \n",
      "=================================================================\n",
      "Total params: 21,871,130\n",
      "Trainable params: 21,871,130\n",
      "Non-trainable params: 0\n",
      "_________________________________________________________________\n"
     ]
    }
   ],
   "source": [
    "model_drop = Sequential()\n",
    "model_drop.add(Conv2D(128, kernel_size=(3, 3),activation='linear',input_shape=(rez,rez,1),padding='same'))\n",
    "model_drop.add(LeakyReLU(alpha=0.1))\n",
    "model_drop.add(MaxPooling2D((2, 2),padding='same'))\n",
    "model_drop.add(Conv2D(256, (3, 3), activation='linear',padding='same'))\n",
    "model_drop.add(LeakyReLU(alpha=0.1))\n",
    "model_drop.add(MaxPooling2D(pool_size=(2, 2),padding='same'))\n",
    "model_drop.add(Conv2D(25, (3, 3), activation='linear',padding='same'))\n",
    "model_drop.add(LeakyReLU(alpha=0.1))                  \n",
    "model_drop.add(MaxPooling2D(pool_size=(2, 2),padding='same'))\n",
    "model_drop.add(Flatten())\n",
    "model_drop.add(Dense(128, activation='linear'))\n",
    "model_drop.add(LeakyReLU(alpha=0.1))\n",
    "model_drop.add(Dropout(0.25))\n",
    "model_drop.add(Dense(1))\n",
    "model_drop.compile(loss='mean_absolute_error', optimizer=tf.keras.optimizers.Adam(),metrics=['accuracy'])\n",
    "model_drop.summary()"
   ]
  },
  {
   "cell_type": "code",
   "execution_count": 69,
   "metadata": {
    "colab": {
     "base_uri": "https://localhost:8080/"
    },
    "executionInfo": {
     "elapsed": 982902,
     "status": "ok",
     "timestamp": 1638837228923,
     "user": {
      "displayName": "Justin Tay",
      "photoUrl": "https://lh3.googleusercontent.com/a/default-user=s64",
      "userId": "05446378936844466818"
     },
     "user_tz": 480
    },
    "id": "8MwB1ITlPLS3",
    "outputId": "8dd5cf58-80cd-4b94-be76-30bb48320d93"
   },
   "outputs": [
    {
     "ename": "TypeError",
     "evalue": "unsupported operand type(s) for -: 'range' and 'int'",
     "output_type": "error",
     "traceback": [
      "\u001b[1;31m---------------------------------------------------------------------------\u001b[0m",
      "\u001b[1;31mTypeError\u001b[0m                                 Traceback (most recent call last)",
      "Cell \u001b[1;32mIn [69], line 1\u001b[0m\n\u001b[1;32m----> 1\u001b[0m train_drop \u001b[38;5;241m=\u001b[39m \u001b[43mmodel_drop\u001b[49m\u001b[38;5;241;43m.\u001b[39;49m\u001b[43mfit\u001b[49m\u001b[43m(\u001b[49m\u001b[43mimgtrain\u001b[49m\u001b[43m,\u001b[49m\u001b[43m \u001b[49m\u001b[43mytrain\u001b[49m\u001b[43m,\u001b[49m\u001b[43m \u001b[49m\u001b[43mbatch_size\u001b[49m\u001b[38;5;241;43m=\u001b[39;49m\u001b[43mbatch_size\u001b[49m\u001b[43m,\u001b[49m\u001b[43mepochs\u001b[49m\u001b[38;5;241;43m=\u001b[39;49m\u001b[43mepochs\u001b[49m\u001b[43m,\u001b[49m\u001b[43mverbose\u001b[49m\u001b[38;5;241;43m=\u001b[39;49m\u001b[38;5;241;43m1\u001b[39;49m\u001b[43m)\u001b[49m\n",
      "File \u001b[1;32m~\\anaconda3\\envs\\sdse\\lib\\site-packages\\keras\\utils\\traceback_utils.py:70\u001b[0m, in \u001b[0;36mfilter_traceback.<locals>.error_handler\u001b[1;34m(*args, **kwargs)\u001b[0m\n\u001b[0;32m     67\u001b[0m     filtered_tb \u001b[38;5;241m=\u001b[39m _process_traceback_frames(e\u001b[38;5;241m.\u001b[39m__traceback__)\n\u001b[0;32m     68\u001b[0m     \u001b[38;5;66;03m# To get the full stack trace, call:\u001b[39;00m\n\u001b[0;32m     69\u001b[0m     \u001b[38;5;66;03m# `tf.debugging.disable_traceback_filtering()`\u001b[39;00m\n\u001b[1;32m---> 70\u001b[0m     \u001b[38;5;28;01mraise\u001b[39;00m e\u001b[38;5;241m.\u001b[39mwith_traceback(filtered_tb) \u001b[38;5;28;01mfrom\u001b[39;00m \u001b[38;5;28mNone\u001b[39m\n\u001b[0;32m     71\u001b[0m \u001b[38;5;28;01mfinally\u001b[39;00m:\n\u001b[0;32m     72\u001b[0m     \u001b[38;5;28;01mdel\u001b[39;00m filtered_tb\n",
      "File \u001b[1;32m~\\anaconda3\\envs\\sdse\\lib\\site-packages\\keras\\engine\\data_adapter.py:1264\u001b[0m, in \u001b[0;36mDataHandler.__init__\u001b[1;34m(self, x, y, sample_weight, batch_size, steps_per_epoch, initial_epoch, epochs, shuffle, class_weight, max_queue_size, workers, use_multiprocessing, model, steps_per_execution, distribute)\u001b[0m\n\u001b[0;32m   1256\u001b[0m     \u001b[38;5;28mself\u001b[39m\u001b[38;5;241m.\u001b[39m_steps_per_execution \u001b[38;5;241m=\u001b[39m steps_per_execution\n\u001b[0;32m   1258\u001b[0m adapter_cls \u001b[38;5;241m=\u001b[39m select_data_adapter(x, y)\n\u001b[0;32m   1259\u001b[0m \u001b[38;5;28mself\u001b[39m\u001b[38;5;241m.\u001b[39m_adapter \u001b[38;5;241m=\u001b[39m adapter_cls(\n\u001b[0;32m   1260\u001b[0m     x,\n\u001b[0;32m   1261\u001b[0m     y,\n\u001b[0;32m   1262\u001b[0m     batch_size\u001b[38;5;241m=\u001b[39mbatch_size,\n\u001b[0;32m   1263\u001b[0m     steps\u001b[38;5;241m=\u001b[39msteps_per_epoch,\n\u001b[1;32m-> 1264\u001b[0m     epochs\u001b[38;5;241m=\u001b[39m\u001b[43mepochs\u001b[49m\u001b[43m \u001b[49m\u001b[38;5;241;43m-\u001b[39;49m\u001b[43m \u001b[49m\u001b[43minitial_epoch\u001b[49m,\n\u001b[0;32m   1265\u001b[0m     sample_weights\u001b[38;5;241m=\u001b[39msample_weight,\n\u001b[0;32m   1266\u001b[0m     shuffle\u001b[38;5;241m=\u001b[39mshuffle,\n\u001b[0;32m   1267\u001b[0m     max_queue_size\u001b[38;5;241m=\u001b[39mmax_queue_size,\n\u001b[0;32m   1268\u001b[0m     workers\u001b[38;5;241m=\u001b[39mworkers,\n\u001b[0;32m   1269\u001b[0m     use_multiprocessing\u001b[38;5;241m=\u001b[39muse_multiprocessing,\n\u001b[0;32m   1270\u001b[0m     distribution_strategy\u001b[38;5;241m=\u001b[39mtf\u001b[38;5;241m.\u001b[39mdistribute\u001b[38;5;241m.\u001b[39mget_strategy(),\n\u001b[0;32m   1271\u001b[0m     model\u001b[38;5;241m=\u001b[39mmodel,\n\u001b[0;32m   1272\u001b[0m )\n\u001b[0;32m   1274\u001b[0m strategy \u001b[38;5;241m=\u001b[39m tf\u001b[38;5;241m.\u001b[39mdistribute\u001b[38;5;241m.\u001b[39mget_strategy()\n\u001b[0;32m   1276\u001b[0m \u001b[38;5;28mself\u001b[39m\u001b[38;5;241m.\u001b[39m_current_step \u001b[38;5;241m=\u001b[39m \u001b[38;5;241m0\u001b[39m\n",
      "\u001b[1;31mTypeError\u001b[0m: unsupported operand type(s) for -: 'range' and 'int'"
     ]
    }
   ],
   "source": [
    "train_drop = model_drop.fit(imgtrain, ytrain, batch_size=batch_size,epochs=epochs,verbose=1)"
   ]
  },
  {
   "cell_type": "code",
   "execution_count": 59,
   "metadata": {
    "colab": {
     "base_uri": "https://localhost:8080/"
    },
    "executionInfo": {
     "elapsed": 3009,
     "status": "ok",
     "timestamp": 1638837231930,
     "user": {
      "displayName": "Justin Tay",
      "photoUrl": "https://lh3.googleusercontent.com/a/default-user=s64",
      "userId": "05446378936844466818"
     },
     "user_tz": 480
    },
    "id": "sT--ClZTPwzi",
    "outputId": "252faee8-527c-496a-cafd-1c611de4887e"
   },
   "outputs": [
    {
     "name": "stdout",
     "output_type": "stream",
     "text": [
      "2/2 [==============================] - 8s 3s/step\n"
     ]
    },
    {
     "ename": "NameError",
     "evalue": "name 'ymed' is not defined",
     "output_type": "error",
     "traceback": [
      "\u001b[1;31m---------------------------------------------------------------------------\u001b[0m",
      "\u001b[1;31mNameError\u001b[0m                                 Traceback (most recent call last)",
      "Cell \u001b[1;32mIn [59], line 1\u001b[0m\n\u001b[1;32m----> 1\u001b[0m ypred1\u001b[38;5;241m=\u001b[39mmodel_drop\u001b[38;5;241m.\u001b[39mpredict(imgtrain[:\u001b[38;5;28mint\u001b[39m(imgtrain\u001b[38;5;241m.\u001b[39mshape[\u001b[38;5;241m0\u001b[39m]\u001b[38;5;241m/\u001b[39m\u001b[38;5;241m2\u001b[39m),:,:])\u001b[38;5;241m*\u001b[39m\u001b[43mymed\u001b[49m\n\u001b[0;32m      2\u001b[0m ypred2\u001b[38;5;241m=\u001b[39mmodel_drop\u001b[38;5;241m.\u001b[39mpredict(imgtrain[\u001b[38;5;28mint\u001b[39m(imgtrain\u001b[38;5;241m.\u001b[39mshape[\u001b[38;5;241m0\u001b[39m]\u001b[38;5;241m/\u001b[39m\u001b[38;5;241m2\u001b[39m):,:,:])\u001b[38;5;241m*\u001b[39mymed\n\u001b[0;32m      3\u001b[0m ypredtot\u001b[38;5;241m=\u001b[39mnp\u001b[38;5;241m.\u001b[39mvstack([ypred1,ypred2])\n",
      "\u001b[1;31mNameError\u001b[0m: name 'ymed' is not defined"
     ]
    }
   ],
   "source": [
    "ypred1=model_drop.predict(imgtrain[:int(imgtrain.shape[0]/2),:,:])*ymed\n",
    "ypred2=model_drop.predict(imgtrain[int(imgtrain.shape[0]/2):,:,:])*ymed\n",
    "ypredtot=np.vstack([ypred1,ypred2])\n",
    "np.hstack([ypredtot,ytrain*ymed])"
   ]
  },
  {
   "cell_type": "code",
   "execution_count": null,
   "metadata": {
    "colab": {
     "base_uri": "https://localhost:8080/"
    },
    "executionInfo": {
     "elapsed": 6,
     "status": "ok",
     "timestamp": 1638837231930,
     "user": {
      "displayName": "Justin Tay",
      "photoUrl": "https://lh3.googleusercontent.com/a/default-user=s64",
      "userId": "05446378936844466818"
     },
     "user_tz": 480
    },
    "id": "OrO9R2YMP_uL",
    "outputId": "b362536e-fdb4-4420-f122-a163c3d3d333"
   },
   "outputs": [
    {
     "data": {
      "text/plain": [
       "1.680331563127452"
      ]
     },
     "execution_count": 48,
     "metadata": {},
     "output_type": "execute_result"
    }
   ],
   "source": [
    "np.sum(np.abs((ypredtot-ytrain*ymed)/ypredtot.shape[0]))"
   ]
  },
  {
   "cell_type": "code",
   "execution_count": null,
   "metadata": {
    "colab": {
     "base_uri": "https://localhost:8080/"
    },
    "executionInfo": {
     "elapsed": 950,
     "status": "ok",
     "timestamp": 1638837266878,
     "user": {
      "displayName": "Justin Tay",
      "photoUrl": "https://lh3.googleusercontent.com/a/default-user=s64",
      "userId": "05446378936844466818"
     },
     "user_tz": 480
    },
    "id": "r7NOBrkrQAJc",
    "outputId": "44773634-1188-4079-998d-ff6f518b07c9"
   },
   "outputs": [
    {
     "data": {
      "text/plain": [
       "array([[ 7.52896214,  6.        ],\n",
       "       [38.42802048, 45.        ],\n",
       "       [11.2310648 , 15.        ],\n",
       "       [47.10966492, 45.        ],\n",
       "       [16.96430969, 20.        ],\n",
       "       [18.27632332, 20.        ],\n",
       "       [40.70408249, 40.        ],\n",
       "       [36.79770279, 35.        ],\n",
       "       [ 9.71201992, 15.        ],\n",
       "       [53.30102539, 50.        ],\n",
       "       [43.64939499, 45.        ],\n",
       "       [30.93335915, 30.        ],\n",
       "       [11.91085625, 15.        ],\n",
       "       [14.01677704,  6.        ]])"
      ]
     },
     "execution_count": 50,
     "metadata": {},
     "output_type": "execute_result"
    }
   ],
   "source": [
    "ypred=model_drop.predict(imgtest)*ymed\n",
    "np.hstack([ypred,ytest*ymed])"
   ]
  },
  {
   "cell_type": "code",
   "execution_count": null,
   "metadata": {
    "colab": {
     "base_uri": "https://localhost:8080/"
    },
    "executionInfo": {
     "elapsed": 96,
     "status": "ok",
     "timestamp": 1638837275241,
     "user": {
      "displayName": "Justin Tay",
      "photoUrl": "https://lh3.googleusercontent.com/a/default-user=s64",
      "userId": "05446378936844466818"
     },
     "user_tz": 480
    },
    "id": "-dUdQ92mQAPo",
    "outputId": "c6c62f1c-4430-4611-e7a4-a8ec6c708b77"
   },
   "outputs": [
    {
     "data": {
      "text/plain": [
       "3.0871131760733466"
      ]
     },
     "execution_count": 51,
     "metadata": {},
     "output_type": "execute_result"
    }
   ],
   "source": [
    "np.sum(np.abs((ypred-ytest*ymed)/ypred.shape[0]))"
   ]
  }
 ],
 "metadata": {
  "accelerator": "GPU",
  "colab": {
   "provenance": [
    {
     "file_id": "https://github.com/tensorflow/docs/blob/master/site/en/guide/gpu.ipynb",
     "timestamp": 1638519150548
    }
   ]
  },
  "kernelspec": {
   "display_name": "Python 3 (ipykernel)",
   "language": "python",
   "name": "python3"
  },
  "language_info": {
   "codemirror_mode": {
    "name": "ipython",
    "version": 3
   },
   "file_extension": ".py",
   "mimetype": "text/x-python",
   "name": "python",
   "nbconvert_exporter": "python",
   "pygments_lexer": "ipython3",
   "version": "3.9.13"
  }
 },
 "nbformat": 4,
 "nbformat_minor": 1
}
