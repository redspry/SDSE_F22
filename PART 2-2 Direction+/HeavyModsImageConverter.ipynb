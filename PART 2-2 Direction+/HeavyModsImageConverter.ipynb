{
 "cells": [
  {
   "cell_type": "code",
   "execution_count": 15,
   "id": "42d721b4",
   "metadata": {
    "id": "42d721b4"
   },
   "outputs": [],
   "source": [
    "import numpy as np\n",
    "import pandas as pd\n",
    "from PIL import Image\n",
    "from PIL import ImageOps"
   ]
  },
  {
   "cell_type": "code",
   "execution_count": 16,
   "id": "0779be67",
   "metadata": {},
   "outputs": [
    {
     "name": "stdout",
     "output_type": "stream",
     "text": [
      "true\n"
     ]
    }
   ],
   "source": [
    "if (np.random.randint(2)):\n",
    "    print('true')\n",
    "else:\n",
    "    print('false')\n",
    "\n",
    "    "
   ]
  },
  {
   "cell_type": "code",
   "execution_count": 17,
   "id": "012a280e",
   "metadata": {},
   "outputs": [
    {
     "ename": "ModuleNotFoundError",
     "evalue": "No module named 'keras'",
     "output_type": "error",
     "traceback": [
      "\u001b[1;31m---------------------------------------------------------------------------\u001b[0m",
      "\u001b[1;31mModuleNotFoundError\u001b[0m                       Traceback (most recent call last)",
      "Cell \u001b[1;32mIn [17], line 3\u001b[0m\n\u001b[0;32m      1\u001b[0m \u001b[38;5;28;01mimport\u001b[39;00m \u001b[38;5;21;01mnumpy\u001b[39;00m \u001b[38;5;28;01mas\u001b[39;00m \u001b[38;5;21;01mnp\u001b[39;00m\n\u001b[0;32m      2\u001b[0m \u001b[38;5;28;01mimport\u001b[39;00m \u001b[38;5;21;01mpandas\u001b[39;00m \u001b[38;5;28;01mas\u001b[39;00m \u001b[38;5;21;01mpd\u001b[39;00m\n\u001b[1;32m----> 3\u001b[0m \u001b[38;5;28;01mimport\u001b[39;00m \u001b[38;5;21;01mkeras\u001b[39;00m\n\u001b[0;32m      4\u001b[0m \u001b[38;5;66;03m#from keras.models import Sequential,Input,Model\u001b[39;00m\n\u001b[0;32m      5\u001b[0m \u001b[38;5;28;01mfrom\u001b[39;00m \u001b[38;5;21;01mkeras\u001b[39;00m\u001b[38;5;21;01m.\u001b[39;00m\u001b[38;5;21;01mmodels\u001b[39;00m \u001b[38;5;28;01mimport\u001b[39;00m Sequential,Model\n",
      "\u001b[1;31mModuleNotFoundError\u001b[0m: No module named 'keras'"
     ]
    }
   ],
   "source": [
    "import numpy as np\n",
    "import pandas as pd\n",
    "import keras\n",
    "#from keras.models import Sequential,Input,Model\n",
    "from keras.models import Sequential,Model\n",
    "from keras.layers import Input##I added this because the next line was unable to succesfully import Input\n",
    "\n",
    "from keras.layers import Dense, Dropout, Flatten\n",
    "from keras.layers import Conv2D, MaxPooling2D\n",
    "from keras.layers import ELU, PReLU, LeakyReLU\n",
    "#from keras.layers.advanced_activations import LeakyReLU\n",
    "import numpy as np\n",
    "import keras.backend as kb\n",
    "import tensorflow as tf\n",
    "from matplotlib import image\n",
    "from matplotlib import pyplot\n",
    "from PIL import Image\n",
    "from PIL import ImageOps"
   ]
  },
  {
   "cell_type": "code",
   "execution_count": 18,
   "id": "70fcf67f",
   "metadata": {},
   "outputs": [],
   "source": [
    "import math\n",
    "class WaveDeformer():\n",
    "\n",
    "    def transform(self, x, y, q):\n",
    "        \n",
    "        \n",
    "        y = y + q*math.sin(x/q)\n",
    "        return x, y\n",
    "\n",
    "    def transform_rectangle(self, x0, y0, x1, y1,q):\n",
    "        return (*self.transform(x0, y0, q),\n",
    "                *self.transform(x0, y1, q),\n",
    "                *self.transform(x1, y1, q),\n",
    "                *self.transform(x1, y0, q),\n",
    "                )\n",
    "\n",
    "    def getmesh(self, img):\n",
    "        self.w, self.h = img.size\n",
    "        gridspace = 20\n",
    "        \n",
    "        target_grid = []\n",
    "        \n",
    "        for x in range(0, self.w, gridspace):\n",
    "            for y in range(0, self.h, gridspace):\n",
    "                target_grid.append((x, y, x + gridspace, y + gridspace))\n",
    "                \n",
    "        source_grid = [self.transform_rectangle(*rect,q) for rect in target_grid]\n",
    "\n",
    "        return [t for t in zip(target_grid, source_grid)]"
   ]
  },
  {
   "cell_type": "code",
   "execution_count": 19,
   "id": "21ab1f6e",
   "metadata": {
    "id": "21ab1f6e"
   },
   "outputs": [
    {
     "name": "stdout",
     "output_type": "stream",
     "text": [
      "650\n",
      "650\n",
      "650\n",
      "650\n",
      "650\n",
      "650\n",
      "650\n",
      "650\n",
      "650\n",
      "650\n",
      "650\n",
      "650\n",
      "650\n",
      "650\n",
      "650\n",
      "650\n",
      "650\n",
      "650\n",
      "650\n",
      "650\n",
      "650\n",
      "650\n",
      "650\n"
     ]
    }
   ],
   "source": [
    "for z in ['3']: #,'6','15','20','25','30','35','40','45','50']:\n",
    "\n",
    "    for i in range(1,24):\n",
    "        try:\n",
    "            image = Image.open('IMG_L_{}_{}.jpg'.format(z,i))\n",
    "            im2 = ImageOps.grayscale(image)\n",
    "            im2 = ImageOps.solarize(im2)\n",
    "            im2 = ImageOps.equalize(im2)\n",
    "            q = 20\n",
    "            im2 = ImageOps.deform(im2, WaveDeformer())\n",
    "            im2 = ImageOps.fit(im2, [650,650], centering=(1, 1))\n",
    "            \n",
    "            data=np.array(im2)\n",
    "            print(len(data))\n",
    "            fin=Image.fromarray(data)\n",
    "            fin.save('L_{}_Conv_{}.jpg'.format(z,i))\n",
    "        except:\n",
    "            print(\"could not convert\", 'IMG_{}_{}.jpg'.format(z,i))\n",
    "            continue"
   ]
  },
  {
   "cell_type": "code",
   "execution_count": null,
   "id": "22e1944e",
   "metadata": {
    "id": "22e1944e"
   },
   "outputs": [],
   "source": []
  },
  {
   "cell_type": "code",
   "execution_count": null,
   "id": "a17e985a",
   "metadata": {},
   "outputs": [],
   "source": []
  },
  {
   "cell_type": "code",
   "execution_count": null,
   "id": "c4d8c4b0",
   "metadata": {},
   "outputs": [],
   "source": []
  }
 ],
 "metadata": {
  "colab": {
   "name": "ImageConverter.ipynb",
   "provenance": []
  },
  "kernelspec": {
   "display_name": "Python 3 (ipykernel)",
   "language": "python",
   "name": "python3"
  },
  "language_info": {
   "codemirror_mode": {
    "name": "ipython",
    "version": 3
   },
   "file_extension": ".py",
   "mimetype": "text/x-python",
   "name": "python",
   "nbconvert_exporter": "python",
   "pygments_lexer": "ipython3",
   "version": "3.9.13"
  }
 },
 "nbformat": 4,
 "nbformat_minor": 5
}
