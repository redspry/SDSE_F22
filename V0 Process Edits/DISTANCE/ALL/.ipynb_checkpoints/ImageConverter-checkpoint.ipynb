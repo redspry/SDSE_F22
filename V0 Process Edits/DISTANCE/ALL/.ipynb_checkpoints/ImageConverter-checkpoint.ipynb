{
 "cells": [
  {
   "cell_type": "code",
   "execution_count": null,
   "id": "42d721b4",
   "metadata": {
    "id": "42d721b4"
   },
   "outputs": [],
   "source": [
    "import numpy as np\n",
    "import pandas as pd\n",
    "import keras\n",
    "from keras.models import Sequential\n",
    "import numpy as np\n",
    "import keras.backend as kb\n",
    "import tensorflow as tf\n",
    "from matplotlib import image\n",
    "from matplotlib import pyplot\n",
    "from PIL import Image\n",
    "from PIL import ImageOps"
   ]
  },
  {
   "cell_type": "code",
   "execution_count": null,
   "id": "21ab1f6e",
   "metadata": {
    "id": "21ab1f6e"
   },
   "outputs": [],
   "source": [
    "for z in ['3','6','15','20','25','30','35','40','45']:\n",
    "\n",
    "    for i in ['','1','2','3','4','5','6','8']:\n",
    "        image = Image.open('2295 {}.jpg'.format(i))\n",
    "        im2 = ImageOps.grayscale(image)\n",
    "        data=np.array(im2)\n",
    "        data=data[400:,650:1270]\n",
    "        fin=Image.fromarray(data)\n",
    "        fin.save('15Conv{}.jpg'.format(i))"
   ]
  },
  {
   "cell_type": "code",
   "execution_count": null,
   "id": "22e1944e",
   "metadata": {
    "id": "22e1944e"
   },
   "outputs": [],
   "source": []
  }
 ],
 "metadata": {
  "colab": {
   "name": "ImageConverter.ipynb",
   "provenance": []
  },
  "kernelspec": {
   "display_name": "Python 3",
   "language": "python",
   "name": "python3"
  },
  "language_info": {
   "codemirror_mode": {
    "name": "ipython",
    "version": 3
   },
   "file_extension": ".py",
   "mimetype": "text/x-python",
   "name": "python",
   "nbconvert_exporter": "python",
   "pygments_lexer": "ipython3",
   "version": "3.8.8"
  }
 },
 "nbformat": 4,
 "nbformat_minor": 5
}
