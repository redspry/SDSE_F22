{
 "cells": [
  {
   "cell_type": "code",
   "execution_count": 1,
   "id": "42d721b4",
   "metadata": {
    "id": "42d721b4"
   },
   "outputs": [],
   "source": [
    "import numpy as np\n",
    "import pandas as pd\n",
    "# # import keras\n",
    "# from keras.models import Sequential\n",
    "# import numpy as np\n",
    "# import keras.backend as kb\n",
    "# import tensorflow as tf\n",
    "# from matplotlib import image\n",
    "# from matplotlib import pyplot\n",
    "from PIL import Image\n",
    "from PIL import ImageOps"
   ]
  },
  {
   "cell_type": "code",
   "execution_count": 3,
   "id": "21ab1f6e",
   "metadata": {
    "id": "21ab1f6e"
   },
   "outputs": [
    {
     "name": "stdout",
     "output_type": "stream",
     "text": [
      "4032\n",
      "4032\n",
      "4032\n",
      "4032\n",
      "4032\n",
      "4032\n",
      "4032\n",
      "4032\n",
      "4032\n",
      "4032\n",
      "4032\n",
      "4032\n",
      "4032\n",
      "4032\n",
      "4032\n",
      "4032\n",
      "4032\n",
      "4032\n",
      "4032\n",
      "4032\n",
      "4032\n",
      "4032\n",
      "4032\n",
      "4032\n"
     ]
    }
   ],
   "source": [
    "for z in ['50']: #,'6','15','20','25','30','35','40','45','50']:\n",
    "\n",
    "    for i in range(1,25):\n",
    "        try:\n",
    "            image = Image.open('IMG_R_{}_{}.jpg'.format(z,i))\n",
    "#             imge = image.reshape(650,650,1)\n",
    "            im2 = ImageOps.grayscale(image)\n",
    "            im2 = im2.resize((3024,4032))\n",
    "            data=np.array(im2)\n",
    "            print(len(data))\n",
    "            data=data[1600:4032,0:3042]\n",
    "            fin=Image.fromarray(data)\n",
    "            fin.save('R_{}_Conv_{}.jpg'.format(z,i))\n",
    "        except:\n",
    "            print(\"could not convert\", 'IMG_R_{}_{}.jpg'.format(z,i))\n",
    "            continue"
   ]
  },
  {
   "cell_type": "code",
   "execution_count": null,
   "id": "22e1944e",
   "metadata": {
    "id": "22e1944e"
   },
   "outputs": [],
   "source": []
  }
 ],
 "metadata": {
  "colab": {
   "name": "ImageConverter.ipynb",
   "provenance": []
  },
  "kernelspec": {
   "display_name": "Python 3",
   "language": "python",
   "name": "python3"
  },
  "language_info": {
   "codemirror_mode": {
    "name": "ipython",
    "version": 3
   },
   "file_extension": ".py",
   "mimetype": "text/x-python",
   "name": "python",
   "nbconvert_exporter": "python",
   "pygments_lexer": "ipython3",
   "version": "3.8.8"
  }
 },
 "nbformat": 4,
 "nbformat_minor": 5
}
