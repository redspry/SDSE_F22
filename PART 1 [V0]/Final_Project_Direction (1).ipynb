{
  "nbformat": 4,
  "nbformat_minor": 0,
  "metadata": {
    "accelerator": "GPU",
    "colab": {
      "provenance": []
    },
    "kernelspec": {
      "display_name": "Python 3",
      "name": "python3"
    }
  },
  "cells": [
    {
      "cell_type": "markdown",
      "metadata": {
        "id": "Tce3stUlHN0L"
      },
      "source": [
        "##### Copyright 2018 The TensorFlow Authors.\n"
      ]
    },
    {
      "cell_type": "code",
      "metadata": {
        "id": "ZYkP1MEnD2-7",
        "colab": {
          "base_uri": "https://localhost:8080/"
        },
        "outputId": "216f33ee-de3c-4030-ee09-addcc26b884a"
      },
      "source": [
        "from google.colab import drive\n",
        "drive.mount('/content/drive')"
      ],
      "execution_count": null,
      "outputs": [
        {
          "output_type": "stream",
          "name": "stdout",
          "text": [
            "Drive already mounted at /content/drive; to attempt to forcibly remount, call drive.mount(\"/content/drive\", force_remount=True).\n"
          ]
        }
      ]
    },
    {
      "cell_type": "code",
      "metadata": {
        "id": "1s_XhUJYXDJ6"
      },
      "source": [
        "import numpy as np\n",
        "import pandas as pd\n",
        "import keras\n",
        "from keras.models import Sequential,Input,Model\n",
        "from keras.layers import Dense, Dropout, Flatten\n",
        "from keras.layers import Conv2D, MaxPooling2D\n",
        "from keras.layers.advanced_activations import LeakyReLU\n",
        "import numpy as np\n",
        "import keras.backend as kb\n",
        "import tensorflow as tf\n",
        "from matplotlib import image\n",
        "from matplotlib import pyplot\n",
        "from PIL import Image\n",
        "from PIL import ImageOps"
      ],
      "execution_count": null,
      "outputs": []
    },
    {
      "cell_type": "code",
      "metadata": {
        "id": "IqR2PQG4ZaZ0",
        "colab": {
          "base_uri": "https://localhost:8080/"
        },
        "outputId": "2b947777-510b-4ea8-e63c-5b640e4b6e2a"
      },
      "source": [
        "print(\"Num GPUs Available: \", len(tf.config.list_physical_devices('GPU')))"
      ],
      "execution_count": null,
      "outputs": [
        {
          "output_type": "stream",
          "name": "stdout",
          "text": [
            "Num GPUs Available:  1\n"
          ]
        }
      ]
    },
    {
      "cell_type": "code",
      "metadata": {
        "colab": {
          "base_uri": "https://localhost:8080/",
          "height": 36
        },
        "id": "i2QQLLmiX4hj",
        "outputId": "64136409-f1ed-4618-f79f-d06e3449c7b3"
      },
      "source": [
        "keras.__version__"
      ],
      "execution_count": null,
      "outputs": [
        {
          "output_type": "execute_result",
          "data": {
            "application/vnd.google.colaboratory.intrinsic+json": {
              "type": "string"
            },
            "text/plain": [
              "'2.7.0'"
            ]
          },
          "metadata": {},
          "execution_count": 4
        }
      ]
    },
    {
      "cell_type": "code",
      "metadata": {
        "id": "njmnNRAdXswG"
      },
      "source": [
        "imgall=np.zeros([124,650,650,1])\n",
        "y=np.zeros([124,6])\n",
        "dironly=np.zeros([124,2])\n",
        "fulllabel=np.zeros([124,1])\n",
        "a=0\n",
        "di='drive/MyDrive/Colab_Notebooks/249_Final_Project/Direction_Pics_Car1/'\n",
        "for i in range(23):\n",
        "    imgall[a,:,:,:]=np.array(Image.open('Left_3s_{}_2.jpg'.format(str(i)))).reshape(650,650,1)\n",
        "    y[a]=[1,0,0,0,0,0]\n",
        "    dironly[a]=[1,0]\n",
        "    fulllabel[a]=0\n",
        "    a+=1\n",
        "for i in range(13):\n",
        "    imgall[a,:,:,:]=np.array(Image.open('Left_3w_{}_2.jpg'.format(str(i)))).reshape(650,650,1)\n",
        "    y[a]=[0,1,0,0,0,0]\n",
        "    dironly[a]=[1,0]\n",
        "    fulllabel[a]=1\n",
        "    a+=1\n",
        "for i in range(15):\n",
        "    imgall[a,:,:,:]=np.array(Image.open('Left_50_{}_2.jpg'.format(str(i)))).reshape(650,650,1)\n",
        "    y[a]=[0,0,1,0,0,0]\n",
        "    dironly[a]=[1,0]\n",
        "    fulllabel[a]=2\n",
        "    a+=1\n",
        "for i in range(19):\n",
        "    imgall[a,:,:,:]=np.array(Image.open('Right_50_{}_2.jpg'.format(str(i)))).reshape(650,650,1)\n",
        "    y[a]=[0,0,0,1,0,0]\n",
        "    dironly[a]=[0,1]\n",
        "    fulllabel[a]=3\n",
        "    a+=1\n",
        "for i in range(27):\n",
        "    imgall[a,:,:,:]=np.array(Image.open('Right_3w_{}_2.jpg'.format(str(i)))).reshape(650,650,1)\n",
        "    y[a]=[0,0,0,0,1,0]\n",
        "    dironly[a]=[0,1]\n",
        "    fulllabel[a]=4\n",
        "    a+=1\n",
        "for i in range(27):\n",
        "    imgall[a,:,:,:]=np.array(Image.open('Right_3s_{}_2.jpg'.format(str(i)))).reshape(650,650,1)\n",
        "    y[a]=[0,0,0,0,0,1]\n",
        "    dironly[a]=[0,1]\n",
        "    fulllabel[a]=5\n",
        "    a+=1\n",
        "  #sharpleft=[1,0,0,0,0,0]\n",
        "  #wideleft=[0,1,0,0,0,0]\n",
        "  #sharp50left=[0,0,1,0,0,0]\n",
        "  #sharp50right=[0,0,0,1,0,0]\n",
        "  #wideright=[0,0,0,0,1,0]\n",
        "  #sharpright=[0,0,0,0,0,1]\n",
        "\n",
        "  #left=[1,0]\n",
        "  #right=[0,1]\n",
        "imgall=imgall.astype('float32')/255"
      ],
      "execution_count": null,
      "outputs": []
    },
    {
      "cell_type": "code",
      "metadata": {
        "id": "nn1VjmpUGBim"
      },
      "source": [
        "import random\n",
        "randomlist = random.sample(range(0, 124), int(124*.2))\n",
        "imgtest=imgall[randomlist,:,:]\n",
        "ytest=y[randomlist,:]\n",
        "dironlytest=dironly[randomlist,:]\n",
        "fulllabeltest=fulllabel[randomlist,:]\n",
        "main_list = list(set(range(0,124)) - set(randomlist))\n",
        "imgtrain=imgall[main_list,:,:]\n",
        "ytrain=y[main_list,:]\n",
        "dironlytrain=dironly[main_list,:]\n",
        "fulllabeltrain=fulllabel[main_list,:]"
      ],
      "execution_count": null,
      "outputs": []
    },
    {
      "cell_type": "code",
      "metadata": {
        "id": "LF4Mr4lZXUN7"
      },
      "source": [
        "batch_size = 8\n",
        "epochs = 100\n",
        "num_classes=6"
      ],
      "execution_count": null,
      "outputs": []
    },
    {
      "cell_type": "code",
      "metadata": {
        "colab": {
          "base_uri": "https://localhost:8080/"
        },
        "id": "08vNiJW6XyEv",
        "outputId": "e1f853e0-1872-4556-cf01-ec34d0dcbf7a"
      },
      "source": [
        "model = Sequential()\n",
        "model.add(Conv2D(128, kernel_size=(3, 3),activation='linear',input_shape=(650,650,1),padding='same'))\n",
        "model.add(LeakyReLU(alpha=0.1))\n",
        "model.add(MaxPooling2D((2, 2),padding='same'))\n",
        "model.add(Conv2D(256, (3, 3), activation='linear',padding='same'))\n",
        "model.add(LeakyReLU(alpha=0.1))\n",
        "model.add(MaxPooling2D(pool_size=(2, 2),padding='same'))\n",
        "model.add(Conv2D(25, (3, 3), activation='linear',padding='same'))\n",
        "model.add(LeakyReLU(alpha=0.1))                  \n",
        "model.add(MaxPooling2D(pool_size=(2, 2),padding='same'))\n",
        "model.add(Flatten())\n",
        "model.add(Dense(128, activation='linear'))\n",
        "model.add(LeakyReLU(alpha=0.1))\n",
        "model.add(Dense(num_classes,activation='softmax'))\n",
        "model.compile(loss=keras.losses.categorical_crossentropy, optimizer=tf.keras.optimizers.Adam(),metrics=['accuracy'])\n",
        "model.summary()"
      ],
      "execution_count": null,
      "outputs": [
        {
          "output_type": "stream",
          "name": "stdout",
          "text": [
            "Model: \"sequential\"\n",
            "_________________________________________________________________\n",
            " Layer (type)                Output Shape              Param #   \n",
            "=================================================================\n",
            " conv2d (Conv2D)             (None, 650, 650, 128)     1280      \n",
            "                                                                 \n",
            " leaky_re_lu (LeakyReLU)     (None, 650, 650, 128)     0         \n",
            "                                                                 \n",
            " max_pooling2d (MaxPooling2D  (None, 325, 325, 128)    0         \n",
            " )                                                               \n",
            "                                                                 \n",
            " conv2d_1 (Conv2D)           (None, 325, 325, 256)     295168    \n",
            "                                                                 \n",
            " leaky_re_lu_1 (LeakyReLU)   (None, 325, 325, 256)     0         \n",
            "                                                                 \n",
            " max_pooling2d_1 (MaxPooling  (None, 163, 163, 256)    0         \n",
            " 2D)                                                             \n",
            "                                                                 \n",
            " conv2d_2 (Conv2D)           (None, 163, 163, 25)      57625     \n",
            "                                                                 \n",
            " leaky_re_lu_2 (LeakyReLU)   (None, 163, 163, 25)      0         \n",
            "                                                                 \n",
            " max_pooling2d_2 (MaxPooling  (None, 82, 82, 25)       0         \n",
            " 2D)                                                             \n",
            "                                                                 \n",
            " flatten (Flatten)           (None, 168100)            0         \n",
            "                                                                 \n",
            " dense (Dense)               (None, 128)               21516928  \n",
            "                                                                 \n",
            " leaky_re_lu_3 (LeakyReLU)   (None, 128)               0         \n",
            "                                                                 \n",
            " dense_1 (Dense)             (None, 6)                 774       \n",
            "                                                                 \n",
            "=================================================================\n",
            "Total params: 21,871,775\n",
            "Trainable params: 21,871,775\n",
            "Non-trainable params: 0\n",
            "_________________________________________________________________\n"
          ]
        }
      ]
    },
    {
      "cell_type": "code",
      "metadata": {
        "id": "iC910yJ7gA6V"
      },
      "source": [
        "import timeit"
      ],
      "execution_count": null,
      "outputs": []
    },
    {
      "cell_type": "code",
      "metadata": {
        "colab": {
          "base_uri": "https://localhost:8080/"
        },
        "id": "BXQchyBuYOPG",
        "outputId": "60041a91-d008-48df-a828-242522275dbd"
      },
      "source": [
        "train = model.fit(imgtrain, ytrain, batch_size=batch_size,epochs=epochs,verbose=1,validation_data=(imgtest,ytest))"
      ],
      "execution_count": null,
      "outputs": [
        {
          "output_type": "stream",
          "name": "stdout",
          "text": [
            "Epoch 1/100\n",
            "13/13 [==============================] - 36s 2s/step - loss: 4.5565 - accuracy: 0.3100 - val_loss: 1.6916 - val_accuracy: 0.2083\n",
            "Epoch 2/100\n",
            "13/13 [==============================] - 19s 1s/step - loss: 1.3610 - accuracy: 0.5000 - val_loss: 1.5160 - val_accuracy: 0.4167\n",
            "Epoch 3/100\n",
            "13/13 [==============================] - 18s 1s/step - loss: 1.2252 - accuracy: 0.4800 - val_loss: 0.6179 - val_accuracy: 0.5417\n",
            "Epoch 4/100\n",
            "13/13 [==============================] - 18s 1s/step - loss: 0.3349 - accuracy: 0.8200 - val_loss: 0.4097 - val_accuracy: 0.8750\n",
            "Epoch 5/100\n",
            "13/13 [==============================] - 19s 1s/step - loss: 0.1244 - accuracy: 0.9600 - val_loss: 0.1822 - val_accuracy: 0.8750\n",
            "Epoch 6/100\n",
            "13/13 [==============================] - 19s 1s/step - loss: 0.1244 - accuracy: 0.9500 - val_loss: 0.1572 - val_accuracy: 0.9583\n",
            "Epoch 7/100\n",
            "13/13 [==============================] - 19s 1s/step - loss: 0.0189 - accuracy: 0.9900 - val_loss: 0.0686 - val_accuracy: 0.9583\n",
            "Epoch 8/100\n",
            "13/13 [==============================] - 19s 1s/step - loss: 0.0044 - accuracy: 1.0000 - val_loss: 0.0623 - val_accuracy: 0.9583\n",
            "Epoch 9/100\n",
            "13/13 [==============================] - 18s 1s/step - loss: 0.0022 - accuracy: 1.0000 - val_loss: 0.0516 - val_accuracy: 0.9583\n",
            "Epoch 10/100\n",
            "13/13 [==============================] - 19s 1s/step - loss: 0.0011 - accuracy: 1.0000 - val_loss: 0.0368 - val_accuracy: 0.9583\n",
            "Epoch 11/100\n",
            "13/13 [==============================] - 19s 1s/step - loss: 5.5067e-04 - accuracy: 1.0000 - val_loss: 0.0344 - val_accuracy: 1.0000\n",
            "Epoch 12/100\n",
            "13/13 [==============================] - 18s 1s/step - loss: 3.9688e-04 - accuracy: 1.0000 - val_loss: 0.0377 - val_accuracy: 0.9583\n",
            "Epoch 13/100\n",
            "13/13 [==============================] - 19s 1s/step - loss: 3.2182e-04 - accuracy: 1.0000 - val_loss: 0.0388 - val_accuracy: 0.9583\n",
            "Epoch 14/100\n",
            "13/13 [==============================] - 18s 1s/step - loss: 2.6412e-04 - accuracy: 1.0000 - val_loss: 0.0405 - val_accuracy: 0.9583\n",
            "Epoch 15/100\n",
            "13/13 [==============================] - 18s 1s/step - loss: 2.3219e-04 - accuracy: 1.0000 - val_loss: 0.0398 - val_accuracy: 0.9583\n",
            "Epoch 16/100\n",
            "13/13 [==============================] - 18s 1s/step - loss: 2.0551e-04 - accuracy: 1.0000 - val_loss: 0.0400 - val_accuracy: 0.9583\n",
            "Epoch 17/100\n",
            "13/13 [==============================] - 18s 1s/step - loss: 1.8074e-04 - accuracy: 1.0000 - val_loss: 0.0386 - val_accuracy: 0.9583\n",
            "Epoch 18/100\n",
            "13/13 [==============================] - 19s 1s/step - loss: 1.5957e-04 - accuracy: 1.0000 - val_loss: 0.0377 - val_accuracy: 0.9583\n",
            "Epoch 19/100\n",
            "13/13 [==============================] - 18s 1s/step - loss: 1.4293e-04 - accuracy: 1.0000 - val_loss: 0.0364 - val_accuracy: 0.9583\n",
            "Epoch 20/100\n",
            "13/13 [==============================] - 18s 1s/step - loss: 1.2980e-04 - accuracy: 1.0000 - val_loss: 0.0362 - val_accuracy: 0.9583\n",
            "Epoch 21/100\n",
            "13/13 [==============================] - 19s 1s/step - loss: 1.1737e-04 - accuracy: 1.0000 - val_loss: 0.0357 - val_accuracy: 0.9583\n",
            "Epoch 22/100\n",
            "13/13 [==============================] - 18s 1s/step - loss: 1.0682e-04 - accuracy: 1.0000 - val_loss: 0.0346 - val_accuracy: 0.9583\n",
            "Epoch 23/100\n",
            "13/13 [==============================] - 18s 1s/step - loss: 9.7593e-05 - accuracy: 1.0000 - val_loss: 0.0341 - val_accuracy: 0.9583\n",
            "Epoch 24/100\n",
            "13/13 [==============================] - 18s 1s/step - loss: 9.0619e-05 - accuracy: 1.0000 - val_loss: 0.0341 - val_accuracy: 0.9583\n",
            "Epoch 25/100\n",
            "13/13 [==============================] - 18s 1s/step - loss: 8.2380e-05 - accuracy: 1.0000 - val_loss: 0.0336 - val_accuracy: 0.9583\n",
            "Epoch 26/100\n",
            "13/13 [==============================] - 18s 1s/step - loss: 7.6579e-05 - accuracy: 1.0000 - val_loss: 0.0333 - val_accuracy: 0.9583\n",
            "Epoch 27/100\n",
            "13/13 [==============================] - 19s 1s/step - loss: 7.0999e-05 - accuracy: 1.0000 - val_loss: 0.0323 - val_accuracy: 0.9583\n",
            "Epoch 28/100\n",
            "13/13 [==============================] - 18s 1s/step - loss: 6.6070e-05 - accuracy: 1.0000 - val_loss: 0.0321 - val_accuracy: 0.9583\n",
            "Epoch 29/100\n",
            "13/13 [==============================] - 18s 1s/step - loss: 6.0079e-05 - accuracy: 1.0000 - val_loss: 0.0315 - val_accuracy: 0.9583\n",
            "Epoch 30/100\n",
            "13/13 [==============================] - 18s 1s/step - loss: 5.6782e-05 - accuracy: 1.0000 - val_loss: 0.0310 - val_accuracy: 0.9583\n",
            "Epoch 31/100\n",
            "13/13 [==============================] - 18s 1s/step - loss: 5.2993e-05 - accuracy: 1.0000 - val_loss: 0.0302 - val_accuracy: 1.0000\n",
            "Epoch 32/100\n",
            "13/13 [==============================] - 18s 1s/step - loss: 5.0872e-05 - accuracy: 1.0000 - val_loss: 0.0300 - val_accuracy: 1.0000\n",
            "Epoch 33/100\n",
            "13/13 [==============================] - 18s 1s/step - loss: 4.6301e-05 - accuracy: 1.0000 - val_loss: 0.0297 - val_accuracy: 1.0000\n",
            "Epoch 34/100\n",
            "13/13 [==============================] - 18s 1s/step - loss: 4.3814e-05 - accuracy: 1.0000 - val_loss: 0.0298 - val_accuracy: 1.0000\n",
            "Epoch 35/100\n",
            "13/13 [==============================] - 18s 1s/step - loss: 4.1326e-05 - accuracy: 1.0000 - val_loss: 0.0291 - val_accuracy: 1.0000\n",
            "Epoch 36/100\n",
            "13/13 [==============================] - 18s 1s/step - loss: 3.9191e-05 - accuracy: 1.0000 - val_loss: 0.0284 - val_accuracy: 1.0000\n",
            "Epoch 37/100\n",
            "13/13 [==============================] - 18s 1s/step - loss: 3.7263e-05 - accuracy: 1.0000 - val_loss: 0.0278 - val_accuracy: 1.0000\n",
            "Epoch 38/100\n",
            "13/13 [==============================] - 18s 1s/step - loss: 3.5565e-05 - accuracy: 1.0000 - val_loss: 0.0274 - val_accuracy: 1.0000\n",
            "Epoch 39/100\n",
            "13/13 [==============================] - 19s 1s/step - loss: 3.3902e-05 - accuracy: 1.0000 - val_loss: 0.0277 - val_accuracy: 1.0000\n",
            "Epoch 40/100\n",
            "13/13 [==============================] - 19s 1s/step - loss: 3.2178e-05 - accuracy: 1.0000 - val_loss: 0.0278 - val_accuracy: 1.0000\n",
            "Epoch 41/100\n",
            "13/13 [==============================] - 18s 1s/step - loss: 3.0827e-05 - accuracy: 1.0000 - val_loss: 0.0273 - val_accuracy: 1.0000\n",
            "Epoch 42/100\n",
            "13/13 [==============================] - 18s 1s/step - loss: 2.9496e-05 - accuracy: 1.0000 - val_loss: 0.0270 - val_accuracy: 1.0000\n",
            "Epoch 43/100\n",
            "13/13 [==============================] - 18s 1s/step - loss: 2.8432e-05 - accuracy: 1.0000 - val_loss: 0.0271 - val_accuracy: 1.0000\n",
            "Epoch 44/100\n",
            "13/13 [==============================] - 18s 1s/step - loss: 2.7039e-05 - accuracy: 1.0000 - val_loss: 0.0271 - val_accuracy: 1.0000\n",
            "Epoch 45/100\n",
            "13/13 [==============================] - 18s 1s/step - loss: 2.5951e-05 - accuracy: 1.0000 - val_loss: 0.0266 - val_accuracy: 1.0000\n",
            "Epoch 46/100\n",
            "13/13 [==============================] - 18s 1s/step - loss: 2.4831e-05 - accuracy: 1.0000 - val_loss: 0.0262 - val_accuracy: 1.0000\n",
            "Epoch 47/100\n",
            "13/13 [==============================] - 18s 1s/step - loss: 2.4130e-05 - accuracy: 1.0000 - val_loss: 0.0261 - val_accuracy: 1.0000\n",
            "Epoch 48/100\n",
            "13/13 [==============================] - 18s 1s/step - loss: 2.2934e-05 - accuracy: 1.0000 - val_loss: 0.0258 - val_accuracy: 1.0000\n",
            "Epoch 49/100\n",
            "13/13 [==============================] - 19s 1s/step - loss: 2.2116e-05 - accuracy: 1.0000 - val_loss: 0.0255 - val_accuracy: 1.0000\n",
            "Epoch 50/100\n",
            "13/13 [==============================] - 19s 1s/step - loss: 2.1091e-05 - accuracy: 1.0000 - val_loss: 0.0252 - val_accuracy: 1.0000\n",
            "Epoch 51/100\n",
            "13/13 [==============================] - 18s 1s/step - loss: 2.0400e-05 - accuracy: 1.0000 - val_loss: 0.0252 - val_accuracy: 1.0000\n",
            "Epoch 52/100\n",
            "13/13 [==============================] - 18s 1s/step - loss: 1.9507e-05 - accuracy: 1.0000 - val_loss: 0.0249 - val_accuracy: 1.0000\n",
            "Epoch 53/100\n",
            "13/13 [==============================] - 19s 1s/step - loss: 1.8901e-05 - accuracy: 1.0000 - val_loss: 0.0248 - val_accuracy: 1.0000\n",
            "Epoch 54/100\n",
            "13/13 [==============================] - 18s 1s/step - loss: 1.8174e-05 - accuracy: 1.0000 - val_loss: 0.0248 - val_accuracy: 1.0000\n",
            "Epoch 55/100\n",
            "13/13 [==============================] - 18s 1s/step - loss: 1.7660e-05 - accuracy: 1.0000 - val_loss: 0.0245 - val_accuracy: 1.0000\n",
            "Epoch 56/100\n",
            "13/13 [==============================] - 19s 1s/step - loss: 1.6971e-05 - accuracy: 1.0000 - val_loss: 0.0245 - val_accuracy: 1.0000\n",
            "Epoch 57/100\n",
            "13/13 [==============================] - 18s 1s/step - loss: 1.6411e-05 - accuracy: 1.0000 - val_loss: 0.0243 - val_accuracy: 1.0000\n",
            "Epoch 58/100\n",
            "13/13 [==============================] - 18s 1s/step - loss: 1.5897e-05 - accuracy: 1.0000 - val_loss: 0.0240 - val_accuracy: 1.0000\n",
            "Epoch 59/100\n",
            "13/13 [==============================] - 19s 1s/step - loss: 1.5329e-05 - accuracy: 1.0000 - val_loss: 0.0240 - val_accuracy: 1.0000\n",
            "Epoch 60/100\n",
            "13/13 [==============================] - 18s 1s/step - loss: 1.4910e-05 - accuracy: 1.0000 - val_loss: 0.0241 - val_accuracy: 1.0000\n",
            "Epoch 61/100\n",
            "13/13 [==============================] - 19s 1s/step - loss: 1.4392e-05 - accuracy: 1.0000 - val_loss: 0.0236 - val_accuracy: 1.0000\n",
            "Epoch 62/100\n",
            "13/13 [==============================] - 19s 1s/step - loss: 1.4000e-05 - accuracy: 1.0000 - val_loss: 0.0233 - val_accuracy: 1.0000\n",
            "Epoch 63/100\n",
            "13/13 [==============================] - 18s 1s/step - loss: 1.3525e-05 - accuracy: 1.0000 - val_loss: 0.0233 - val_accuracy: 1.0000\n",
            "Epoch 64/100\n",
            "13/13 [==============================] - 18s 1s/step - loss: 1.3127e-05 - accuracy: 1.0000 - val_loss: 0.0231 - val_accuracy: 1.0000\n",
            "Epoch 65/100\n",
            "13/13 [==============================] - 19s 1s/step - loss: 1.2782e-05 - accuracy: 1.0000 - val_loss: 0.0232 - val_accuracy: 1.0000\n",
            "Epoch 66/100\n",
            "13/13 [==============================] - 18s 1s/step - loss: 1.2399e-05 - accuracy: 1.0000 - val_loss: 0.0229 - val_accuracy: 1.0000\n",
            "Epoch 67/100\n",
            "13/13 [==============================] - 18s 1s/step - loss: 1.2106e-05 - accuracy: 1.0000 - val_loss: 0.0229 - val_accuracy: 1.0000\n",
            "Epoch 68/100\n",
            "13/13 [==============================] - 18s 1s/step - loss: 1.1598e-05 - accuracy: 1.0000 - val_loss: 0.0225 - val_accuracy: 1.0000\n",
            "Epoch 69/100\n",
            "13/13 [==============================] - 18s 1s/step - loss: 1.1213e-05 - accuracy: 1.0000 - val_loss: 0.0225 - val_accuracy: 1.0000\n",
            "Epoch 70/100\n",
            "13/13 [==============================] - 18s 1s/step - loss: 1.0906e-05 - accuracy: 1.0000 - val_loss: 0.0224 - val_accuracy: 1.0000\n",
            "Epoch 71/100\n",
            "13/13 [==============================] - 19s 1s/step - loss: 1.0609e-05 - accuracy: 1.0000 - val_loss: 0.0224 - val_accuracy: 1.0000\n",
            "Epoch 72/100\n",
            "13/13 [==============================] - 18s 1s/step - loss: 1.0328e-05 - accuracy: 1.0000 - val_loss: 0.0223 - val_accuracy: 1.0000\n",
            "Epoch 73/100\n",
            "13/13 [==============================] - 18s 1s/step - loss: 1.0068e-05 - accuracy: 1.0000 - val_loss: 0.0222 - val_accuracy: 1.0000\n",
            "Epoch 74/100\n",
            "13/13 [==============================] - 18s 1s/step - loss: 9.7268e-06 - accuracy: 1.0000 - val_loss: 0.0221 - val_accuracy: 1.0000\n",
            "Epoch 75/100\n",
            "13/13 [==============================] - 18s 1s/step - loss: 9.5278e-06 - accuracy: 1.0000 - val_loss: 0.0220 - val_accuracy: 1.0000\n",
            "Epoch 76/100\n",
            "13/13 [==============================] - 18s 1s/step - loss: 9.2059e-06 - accuracy: 1.0000 - val_loss: 0.0220 - val_accuracy: 1.0000\n",
            "Epoch 77/100\n",
            "13/13 [==============================] - 18s 1s/step - loss: 8.9711e-06 - accuracy: 1.0000 - val_loss: 0.0218 - val_accuracy: 1.0000\n",
            "Epoch 78/100\n",
            "13/13 [==============================] - 19s 1s/step - loss: 8.7256e-06 - accuracy: 1.0000 - val_loss: 0.0216 - val_accuracy: 1.0000\n",
            "Epoch 79/100\n",
            "13/13 [==============================] - 19s 1s/step - loss: 8.4371e-06 - accuracy: 1.0000 - val_loss: 0.0214 - val_accuracy: 1.0000\n",
            "Epoch 80/100\n",
            "13/13 [==============================] - 19s 1s/step - loss: 8.2262e-06 - accuracy: 1.0000 - val_loss: 0.0211 - val_accuracy: 1.0000\n",
            "Epoch 81/100\n",
            "13/13 [==============================] - 18s 1s/step - loss: 7.9973e-06 - accuracy: 1.0000 - val_loss: 0.0211 - val_accuracy: 1.0000\n",
            "Epoch 82/100\n",
            "13/13 [==============================] - 19s 1s/step - loss: 7.7613e-06 - accuracy: 1.0000 - val_loss: 0.0210 - val_accuracy: 1.0000\n",
            "Epoch 83/100\n",
            "13/13 [==============================] - 18s 1s/step - loss: 7.5873e-06 - accuracy: 1.0000 - val_loss: 0.0207 - val_accuracy: 1.0000\n",
            "Epoch 84/100\n",
            "13/13 [==============================] - 19s 1s/step - loss: 7.3644e-06 - accuracy: 1.0000 - val_loss: 0.0208 - val_accuracy: 1.0000\n",
            "Epoch 85/100\n",
            "13/13 [==============================] - 18s 1s/step - loss: 7.1903e-06 - accuracy: 1.0000 - val_loss: 0.0207 - val_accuracy: 1.0000\n",
            "Epoch 86/100\n",
            "13/13 [==============================] - 18s 1s/step - loss: 6.9877e-06 - accuracy: 1.0000 - val_loss: 0.0206 - val_accuracy: 1.0000\n",
            "Epoch 87/100\n",
            "13/13 [==============================] - 18s 1s/step - loss: 6.8458e-06 - accuracy: 1.0000 - val_loss: 0.0204 - val_accuracy: 1.0000\n",
            "Epoch 88/100\n",
            "13/13 [==============================] - 18s 1s/step - loss: 6.6361e-06 - accuracy: 1.0000 - val_loss: 0.0202 - val_accuracy: 1.0000\n",
            "Epoch 89/100\n",
            "13/13 [==============================] - 19s 1s/step - loss: 6.4763e-06 - accuracy: 1.0000 - val_loss: 0.0199 - val_accuracy: 1.0000\n",
            "Epoch 90/100\n",
            "13/13 [==============================] - 18s 1s/step - loss: 6.3273e-06 - accuracy: 1.0000 - val_loss: 0.0197 - val_accuracy: 1.0000\n",
            "Epoch 91/100\n",
            "13/13 [==============================] - 19s 1s/step - loss: 6.1962e-06 - accuracy: 1.0000 - val_loss: 0.0196 - val_accuracy: 1.0000\n",
            "Epoch 92/100\n",
            "13/13 [==============================] - 18s 1s/step - loss: 6.0401e-06 - accuracy: 1.0000 - val_loss: 0.0197 - val_accuracy: 1.0000\n",
            "Epoch 93/100\n",
            "13/13 [==============================] - 18s 1s/step - loss: 5.8768e-06 - accuracy: 1.0000 - val_loss: 0.0195 - val_accuracy: 1.0000\n",
            "Epoch 94/100\n",
            "13/13 [==============================] - 18s 1s/step - loss: 5.7659e-06 - accuracy: 1.0000 - val_loss: 0.0194 - val_accuracy: 1.0000\n",
            "Epoch 95/100\n",
            "13/13 [==============================] - 19s 1s/step - loss: 5.6121e-06 - accuracy: 1.0000 - val_loss: 0.0193 - val_accuracy: 1.0000\n",
            "Epoch 96/100\n",
            "13/13 [==============================] - 19s 1s/step - loss: 5.5025e-06 - accuracy: 1.0000 - val_loss: 0.0194 - val_accuracy: 1.0000\n",
            "Epoch 97/100\n",
            "13/13 [==============================] - 18s 1s/step - loss: 5.3725e-06 - accuracy: 1.0000 - val_loss: 0.0193 - val_accuracy: 1.0000\n",
            "Epoch 98/100\n",
            "13/13 [==============================] - 18s 1s/step - loss: 5.2533e-06 - accuracy: 1.0000 - val_loss: 0.0191 - val_accuracy: 1.0000\n",
            "Epoch 99/100\n",
            "13/13 [==============================] - 18s 1s/step - loss: 5.1246e-06 - accuracy: 1.0000 - val_loss: 0.0191 - val_accuracy: 1.0000\n",
            "Epoch 100/100\n",
            "13/13 [==============================] - 19s 1s/step - loss: 5.0054e-06 - accuracy: 1.0000 - val_loss: 0.0190 - val_accuracy: 1.0000\n"
          ]
        }
      ]
    },
    {
      "cell_type": "code",
      "source": [
        "model.save('Complete_Direction_Car1')"
      ],
      "metadata": {
        "colab": {
          "base_uri": "https://localhost:8080/"
        },
        "id": "PJIN9GqhYgCx",
        "outputId": "b8a9c905-207e-4461-85b8-b742af87b778"
      },
      "execution_count": null,
      "outputs": [
        {
          "output_type": "stream",
          "name": "stdout",
          "text": [
            "INFO:tensorflow:Assets written to: Complete_Direction_Car1/assets\n"
          ]
        }
      ]
    },
    {
      "cell_type": "code",
      "source": [
        "!zip -r Full_Direction_Car1.zip Complete_Direction_Car1"
      ],
      "metadata": {
        "colab": {
          "base_uri": "https://localhost:8080/"
        },
        "id": "SQJg4502cSWS",
        "outputId": "a97b3f64-1b67-49d1-ce53-5175198089fe"
      },
      "execution_count": null,
      "outputs": [
        {
          "output_type": "stream",
          "name": "stdout",
          "text": [
            "  adding: Complete_Direction_Car1/ (stored 0%)\n",
            "  adding: Complete_Direction_Car1/variables/ (stored 0%)\n",
            "  adding: Complete_Direction_Car1/variables/variables.data-00000-of-00001 (deflated 7%)\n",
            "  adding: Complete_Direction_Car1/variables/variables.index (deflated 66%)\n",
            "  adding: Complete_Direction_Car1/keras_metadata.pb (deflated 92%)\n",
            "  adding: Complete_Direction_Car1/saved_model.pb (deflated 90%)\n",
            "  adding: Complete_Direction_Car1/assets/ (stored 0%)\n"
          ]
        }
      ]
    },
    {
      "cell_type": "code",
      "source": [
        "from google.colab import files\n",
        "files.download(\"Full_Direction_Car1.zip\")"
      ],
      "metadata": {
        "colab": {
          "base_uri": "https://localhost:8080/",
          "height": 17
        },
        "id": "ULQvf8shcj80",
        "outputId": "0860ff1d-7417-40c7-e1bb-930194ed619a"
      },
      "execution_count": null,
      "outputs": [
        {
          "output_type": "display_data",
          "data": {
            "application/javascript": [
              "\n",
              "    async function download(id, filename, size) {\n",
              "      if (!google.colab.kernel.accessAllowed) {\n",
              "        return;\n",
              "      }\n",
              "      const div = document.createElement('div');\n",
              "      const label = document.createElement('label');\n",
              "      label.textContent = `Downloading \"${filename}\": `;\n",
              "      div.appendChild(label);\n",
              "      const progress = document.createElement('progress');\n",
              "      progress.max = size;\n",
              "      div.appendChild(progress);\n",
              "      document.body.appendChild(div);\n",
              "\n",
              "      const buffers = [];\n",
              "      let downloaded = 0;\n",
              "\n",
              "      const channel = await google.colab.kernel.comms.open(id);\n",
              "      // Send a message to notify the kernel that we're ready.\n",
              "      channel.send({})\n",
              "\n",
              "      for await (const message of channel.messages) {\n",
              "        // Send a message to notify the kernel that we're ready.\n",
              "        channel.send({})\n",
              "        if (message.buffers) {\n",
              "          for (const buffer of message.buffers) {\n",
              "            buffers.push(buffer);\n",
              "            downloaded += buffer.byteLength;\n",
              "            progress.value = downloaded;\n",
              "          }\n",
              "        }\n",
              "      }\n",
              "      const blob = new Blob(buffers, {type: 'application/binary'});\n",
              "      const a = document.createElement('a');\n",
              "      a.href = window.URL.createObjectURL(blob);\n",
              "      a.download = filename;\n",
              "      div.appendChild(a);\n",
              "      a.click();\n",
              "      div.remove();\n",
              "    }\n",
              "  "
            ],
            "text/plain": [
              "<IPython.core.display.Javascript object>"
            ]
          },
          "metadata": {}
        },
        {
          "output_type": "display_data",
          "data": {
            "application/javascript": [
              "download(\"download_4e083ac4-43cd-47c9-8a4a-0243b513be4d\", \"Full_Direction_Car1.zip\", 244614778)"
            ],
            "text/plain": [
              "<IPython.core.display.Javascript object>"
            ]
          },
          "metadata": {}
        }
      ]
    },
    {
      "cell_type": "code",
      "source": [
        "import matplotlib.pyplot as plt\n"
      ],
      "metadata": {
        "id": "UcyWbAp6djH2"
      },
      "execution_count": null,
      "outputs": []
    },
    {
      "cell_type": "code",
      "metadata": {
        "id": "1IQEAaQMX_Yo",
        "colab": {
          "base_uri": "https://localhost:8080/",
          "height": 1000
        },
        "outputId": "776f01c4-e71d-43f1-926d-4c3c03d69684"
      },
      "source": [
        "plt.rcParams[\"figure.figsize\"] = (19,15)\n",
        "accuracy = train.history['accuracy']\n",
        "val_accuracy = train.history['val_accuracy']\n",
        "loss = train.history['loss']\n",
        "val_loss = train.history['val_loss']\n",
        "epochs = range(len(accuracy))\n",
        "plt.plot(epochs, accuracy, 'bo', label='Training accuracy')\n",
        "plt.plot(epochs, val_accuracy, 'b', label='Validation accuracy')\n",
        "plt.title('Training and validation accuracy')\n",
        "plt.legend()\n",
        "plt.figure()\n",
        "plt.plot(epochs, loss, 'bo', label='Training loss')\n",
        "plt.plot(epochs, val_loss, 'b', label='Validation loss')\n",
        "plt.title('Training and validation loss')\n",
        "plt.legend()\n",
        "plt.show()"
      ],
      "execution_count": null,
      "outputs": [
        {
          "output_type": "display_data",
          "data": {
            "image/png": "[encoded data removed]",
            "text/plain": [
              "<Figure size 1368x1080 with 1 Axes>"
            ]
          },
          "metadata": {
            "needs_background": "light"
          }
        },
        {
          "output_type": "display_data",
          "data": {
            "image/png": "[encoded data removed]",
            "text/plain": [
              "<Figure size 1368x1080 with 1 Axes>"
            ]
          },
          "metadata": {
            "needs_background": "light"
          }
        }
      ]
    },
    {
      "cell_type": "code",
      "metadata": {
        "id": "2aHYAmZBa4_y"
      },
      "source": [
        "ypred1=model.predict(imgtrain[:int(imgtrain.shape[0]/2),:,:])\n",
        "ypred2=model.predict(imgtrain[int(imgtrain.shape[0]/2):,:,:])"
      ],
      "execution_count": null,
      "outputs": []
    },
    {
      "cell_type": "code",
      "metadata": {
        "colab": {
          "base_uri": "https://localhost:8080/"
        },
        "id": "END7i5R7NsGh",
        "outputId": "84b794d3-6579-4dd3-aace-de52fbb16890"
      },
      "source": [
        "ypredtot=np.vstack([ypred1,ypred2])\n",
        "ypredtot=np.argmax(ypredtot,axis=1).reshape(ypredtot.shape[0],1)\n",
        "np.hstack([ypredtot,fulllabeltrain])"
      ],
      "execution_count": null,
      "outputs": [
        {
          "output_type": "execute_result",
          "data": {
            "text/plain": [
              "array([[0., 0.],\n",
              "       [0., 0.],\n",
              "       [0., 0.],\n",
              "       [0., 0.],\n",
              "       [0., 0.],\n",
              "       [0., 0.],\n",
              "       [0., 0.],\n",
              "       [0., 0.],\n",
              "       [0., 0.],\n",
              "       [0., 0.],\n",
              "       [0., 0.],\n",
              "       [0., 0.],\n",
              "       [0., 0.],\n",
              "       [0., 0.],\n",
              "       [0., 0.],\n",
              "       [0., 0.],\n",
              "       [0., 0.],\n",
              "       [0., 0.],\n",
              "       [1., 1.],\n",
              "       [1., 1.],\n",
              "       [1., 1.],\n",
              "       [1., 1.],\n",
              "       [1., 1.],\n",
              "       [1., 1.],\n",
              "       [1., 1.],\n",
              "       [1., 1.],\n",
              "       [1., 1.],\n",
              "       [1., 1.],\n",
              "       [2., 2.],\n",
              "       [2., 2.],\n",
              "       [2., 2.],\n",
              "       [2., 2.],\n",
              "       [2., 2.],\n",
              "       [2., 2.],\n",
              "       [2., 2.],\n",
              "       [2., 2.],\n",
              "       [2., 2.],\n",
              "       [2., 2.],\n",
              "       [2., 2.],\n",
              "       [3., 3.],\n",
              "       [3., 3.],\n",
              "       [3., 3.],\n",
              "       [3., 3.],\n",
              "       [3., 3.],\n",
              "       [3., 3.],\n",
              "       [3., 3.],\n",
              "       [3., 3.],\n",
              "       [3., 3.],\n",
              "       [3., 3.],\n",
              "       [3., 3.],\n",
              "       [3., 3.],\n",
              "       [3., 3.],\n",
              "       [3., 3.],\n",
              "       [3., 3.],\n",
              "       [4., 4.],\n",
              "       [4., 4.],\n",
              "       [4., 4.],\n",
              "       [4., 4.],\n",
              "       [4., 4.],\n",
              "       [4., 4.],\n",
              "       [4., 4.],\n",
              "       [4., 4.],\n",
              "       [4., 4.],\n",
              "       [4., 4.],\n",
              "       [4., 4.],\n",
              "       [4., 4.],\n",
              "       [4., 4.],\n",
              "       [4., 4.],\n",
              "       [4., 4.],\n",
              "       [4., 4.],\n",
              "       [4., 4.],\n",
              "       [4., 4.],\n",
              "       [4., 4.],\n",
              "       [4., 4.],\n",
              "       [4., 4.],\n",
              "       [4., 4.],\n",
              "       [4., 4.],\n",
              "       [5., 5.],\n",
              "       [5., 5.],\n",
              "       [5., 5.],\n",
              "       [5., 5.],\n",
              "       [5., 5.],\n",
              "       [5., 5.],\n",
              "       [5., 5.],\n",
              "       [5., 5.],\n",
              "       [5., 5.],\n",
              "       [5., 5.],\n",
              "       [5., 5.],\n",
              "       [5., 5.],\n",
              "       [5., 5.],\n",
              "       [5., 5.],\n",
              "       [5., 5.],\n",
              "       [5., 5.],\n",
              "       [5., 5.],\n",
              "       [5., 5.],\n",
              "       [5., 5.],\n",
              "       [5., 5.],\n",
              "       [5., 5.],\n",
              "       [5., 5.],\n",
              "       [5., 5.]])"
            ]
          },
          "metadata": {},
          "execution_count": 51
        }
      ]
    },
    {
      "cell_type": "code",
      "metadata": {
        "colab": {
          "base_uri": "https://localhost:8080/"
        },
        "id": "4H0WHBTmbDOa",
        "outputId": "427409c1-2e55-4a13-fb38-190a05db9600"
      },
      "source": [
        "ypred=model.predict(imgtest)\n",
        "ypred=np.argmax(ypred,axis=1).reshape(ypred.shape[0],1)\n",
        "np.hstack([ypred,fulllabeltest])"
      ],
      "execution_count": null,
      "outputs": [
        {
          "output_type": "execute_result",
          "data": {
            "text/plain": [
              "array([[0., 0.],\n",
              "       [1., 1.],\n",
              "       [2., 2.],\n",
              "       [4., 4.],\n",
              "       [4., 4.],\n",
              "       [0., 0.],\n",
              "       [2., 2.],\n",
              "       [4., 4.],\n",
              "       [0., 0.],\n",
              "       [2., 2.],\n",
              "       [5., 5.],\n",
              "       [1., 1.],\n",
              "       [0., 0.],\n",
              "       [4., 4.],\n",
              "       [5., 5.],\n",
              "       [3., 3.],\n",
              "       [3., 3.],\n",
              "       [1., 1.],\n",
              "       [3., 3.],\n",
              "       [2., 2.],\n",
              "       [0., 0.],\n",
              "       [3., 3.],\n",
              "       [5., 5.],\n",
              "       [5., 5.]])"
            ]
          },
          "metadata": {},
          "execution_count": 52
        }
      ]
    },
    {
      "cell_type": "code",
      "metadata": {
        "id": "TNTilHMbeCze",
        "colab": {
          "base_uri": "https://localhost:8080/"
        },
        "outputId": "5bd84276-beb9-4904-f342-34934e886aaa"
      },
      "source": [
        "model = Sequential()\n",
        "model.add(Conv2D(64, kernel_size=(3, 3),activation='linear',input_shape=(650,650,1),padding='same'))\n",
        "model.add(LeakyReLU(alpha=0.1))\n",
        "model.add(MaxPooling2D((2, 2),padding='same'))\n",
        "model.add(Conv2D(128, (3, 3), activation='linear',padding='same'))\n",
        "model.add(LeakyReLU(alpha=0.1))\n",
        "model.add(MaxPooling2D(pool_size=(2, 2),padding='same'))\n",
        "model.add(Conv2D(25, (3, 3), activation='linear',padding='same'))\n",
        "model.add(LeakyReLU(alpha=0.1))                  \n",
        "model.add(MaxPooling2D(pool_size=(2, 2),padding='same'))\n",
        "model.add(Flatten())\n",
        "model.add(Dense(64, activation='linear'))\n",
        "model.add(LeakyReLU(alpha=0.1))\n",
        "model.add(Dense(num_classes,activation='softmax'))\n",
        "model.compile(loss=keras.losses.categorical_crossentropy, optimizer=tf.keras.optimizers.Adam(),metrics=['accuracy'])\n",
        "model.summary()"
      ],
      "execution_count": null,
      "outputs": [
        {
          "output_type": "stream",
          "name": "stdout",
          "text": [
            "Model: \"sequential\"\n",
            "_________________________________________________________________\n",
            " Layer (type)                Output Shape              Param #   \n",
            "=================================================================\n",
            " conv2d (Conv2D)             (None, 650, 650, 64)      640       \n",
            "                                                                 \n",
            " leaky_re_lu (LeakyReLU)     (None, 650, 650, 64)      0         \n",
            "                                                                 \n",
            " max_pooling2d (MaxPooling2D  (None, 325, 325, 64)     0         \n",
            " )                                                               \n",
            "                                                                 \n",
            " conv2d_1 (Conv2D)           (None, 325, 325, 128)     73856     \n",
            "                                                                 \n",
            " leaky_re_lu_1 (LeakyReLU)   (None, 325, 325, 128)     0         \n",
            "                                                                 \n",
            " max_pooling2d_1 (MaxPooling  (None, 163, 163, 128)    0         \n",
            " 2D)                                                             \n",
            "                                                                 \n",
            " conv2d_2 (Conv2D)           (None, 163, 163, 25)      28825     \n",
            "                                                                 \n",
            " leaky_re_lu_2 (LeakyReLU)   (None, 163, 163, 25)      0         \n",
            "                                                                 \n",
            " max_pooling2d_2 (MaxPooling  (None, 82, 82, 25)       0         \n",
            " 2D)                                                             \n",
            "                                                                 \n",
            " flatten (Flatten)           (None, 168100)            0         \n",
            "                                                                 \n",
            " dense (Dense)               (None, 64)                10758464  \n",
            "                                                                 \n",
            " leaky_re_lu_3 (LeakyReLU)   (None, 64)                0         \n",
            "                                                                 \n",
            " dense_1 (Dense)             (None, 6)                 390       \n",
            "                                                                 \n",
            "=================================================================\n",
            "Total params: 10,862,175\n",
            "Trainable params: 10,862,175\n",
            "Non-trainable params: 0\n",
            "_________________________________________________________________\n"
          ]
        }
      ]
    },
    {
      "cell_type": "code",
      "metadata": {
        "colab": {
          "base_uri": "https://localhost:8080/"
        },
        "id": "8MwB1ITlPLS3",
        "outputId": "d425656f-31b8-4f04-f7ac-bc3e009c3d5e"
      },
      "source": [
        "train = model.fit(imgtrain, ytrain, batch_size=batch_size,epochs=epochs,verbose=1,validation_data=(imgtest,ytest))"
      ],
      "execution_count": null,
      "outputs": [
        {
          "output_type": "stream",
          "name": "stdout",
          "text": [
            "Epoch 1/100\n",
            "13/13 [==============================] - 20s 587ms/step - loss: 2.4169 - accuracy: 0.1900 - val_loss: 1.5328 - val_accuracy: 0.4583\n",
            "Epoch 2/100\n",
            "13/13 [==============================] - 6s 449ms/step - loss: 1.1121 - accuracy: 0.5400 - val_loss: 0.4208 - val_accuracy: 0.8333\n",
            "Epoch 3/100\n",
            "13/13 [==============================] - 6s 436ms/step - loss: 0.5459 - accuracy: 0.8400 - val_loss: 0.4101 - val_accuracy: 0.8333\n",
            "Epoch 4/100\n",
            "13/13 [==============================] - 6s 448ms/step - loss: 0.2771 - accuracy: 0.8800 - val_loss: 0.2838 - val_accuracy: 0.8750\n",
            "Epoch 5/100\n",
            "13/13 [==============================] - 6s 435ms/step - loss: 0.2032 - accuracy: 0.9300 - val_loss: 0.0559 - val_accuracy: 1.0000\n",
            "Epoch 6/100\n",
            "13/13 [==============================] - 6s 451ms/step - loss: 0.0447 - accuracy: 0.9900 - val_loss: 0.1067 - val_accuracy: 0.9583\n",
            "Epoch 7/100\n",
            "13/13 [==============================] - 6s 437ms/step - loss: 0.0181 - accuracy: 1.0000 - val_loss: 0.0455 - val_accuracy: 1.0000\n",
            "Epoch 8/100\n",
            "13/13 [==============================] - 6s 438ms/step - loss: 0.0046 - accuracy: 1.0000 - val_loss: 0.0937 - val_accuracy: 0.9583\n",
            "Epoch 9/100\n",
            "13/13 [==============================] - 6s 441ms/step - loss: 7.6790e-04 - accuracy: 1.0000 - val_loss: 0.0194 - val_accuracy: 1.0000\n",
            "Epoch 10/100\n",
            "13/13 [==============================] - 6s 454ms/step - loss: 5.2041e-04 - accuracy: 1.0000 - val_loss: 0.0171 - val_accuracy: 1.0000\n",
            "Epoch 11/100\n",
            "13/13 [==============================] - 6s 438ms/step - loss: 3.7876e-04 - accuracy: 1.0000 - val_loss: 0.0250 - val_accuracy: 1.0000\n",
            "Epoch 12/100\n",
            "13/13 [==============================] - 6s 442ms/step - loss: 2.6080e-04 - accuracy: 1.0000 - val_loss: 0.0310 - val_accuracy: 1.0000\n",
            "Epoch 13/100\n",
            "13/13 [==============================] - 6s 439ms/step - loss: 2.0970e-04 - accuracy: 1.0000 - val_loss: 0.0346 - val_accuracy: 1.0000\n",
            "Epoch 14/100\n",
            "13/13 [==============================] - 6s 440ms/step - loss: 1.8272e-04 - accuracy: 1.0000 - val_loss: 0.0370 - val_accuracy: 1.0000\n",
            "Epoch 15/100\n",
            "13/13 [==============================] - 6s 440ms/step - loss: 1.5947e-04 - accuracy: 1.0000 - val_loss: 0.0379 - val_accuracy: 0.9583\n",
            "Epoch 16/100\n",
            "13/13 [==============================] - 6s 457ms/step - loss: 1.4472e-04 - accuracy: 1.0000 - val_loss: 0.0394 - val_accuracy: 0.9583\n",
            "Epoch 17/100\n",
            "13/13 [==============================] - 6s 443ms/step - loss: 1.3281e-04 - accuracy: 1.0000 - val_loss: 0.0405 - val_accuracy: 0.9583\n",
            "Epoch 18/100\n",
            "13/13 [==============================] - 6s 455ms/step - loss: 1.2031e-04 - accuracy: 1.0000 - val_loss: 0.0398 - val_accuracy: 0.9583\n",
            "Epoch 19/100\n",
            "13/13 [==============================] - 6s 441ms/step - loss: 1.1023e-04 - accuracy: 1.0000 - val_loss: 0.0407 - val_accuracy: 0.9583\n",
            "Epoch 20/100\n",
            "13/13 [==============================] - 6s 454ms/step - loss: 1.0335e-04 - accuracy: 1.0000 - val_loss: 0.0420 - val_accuracy: 0.9583\n",
            "Epoch 21/100\n",
            "13/13 [==============================] - 6s 441ms/step - loss: 9.5677e-05 - accuracy: 1.0000 - val_loss: 0.0401 - val_accuracy: 0.9583\n",
            "Epoch 22/100\n",
            "13/13 [==============================] - 6s 454ms/step - loss: 8.8908e-05 - accuracy: 1.0000 - val_loss: 0.0390 - val_accuracy: 0.9583\n",
            "Epoch 23/100\n",
            "13/13 [==============================] - 6s 454ms/step - loss: 8.3311e-05 - accuracy: 1.0000 - val_loss: 0.0388 - val_accuracy: 0.9583\n",
            "Epoch 24/100\n",
            "13/13 [==============================] - 6s 442ms/step - loss: 7.8111e-05 - accuracy: 1.0000 - val_loss: 0.0386 - val_accuracy: 0.9583\n",
            "Epoch 25/100\n",
            "13/13 [==============================] - 6s 440ms/step - loss: 7.3027e-05 - accuracy: 1.0000 - val_loss: 0.0380 - val_accuracy: 0.9583\n",
            "Epoch 26/100\n",
            "13/13 [==============================] - 6s 442ms/step - loss: 6.8512e-05 - accuracy: 1.0000 - val_loss: 0.0377 - val_accuracy: 0.9583\n",
            "Epoch 27/100\n",
            "13/13 [==============================] - 6s 441ms/step - loss: 6.4477e-05 - accuracy: 1.0000 - val_loss: 0.0368 - val_accuracy: 0.9583\n",
            "Epoch 28/100\n",
            "13/13 [==============================] - 6s 443ms/step - loss: 6.1162e-05 - accuracy: 1.0000 - val_loss: 0.0367 - val_accuracy: 0.9583\n",
            "Epoch 29/100\n",
            "13/13 [==============================] - 6s 456ms/step - loss: 5.7442e-05 - accuracy: 1.0000 - val_loss: 0.0360 - val_accuracy: 1.0000\n",
            "Epoch 30/100\n",
            "13/13 [==============================] - 6s 441ms/step - loss: 5.4326e-05 - accuracy: 1.0000 - val_loss: 0.0352 - val_accuracy: 1.0000\n",
            "Epoch 31/100\n",
            "13/13 [==============================] - 6s 442ms/step - loss: 5.1237e-05 - accuracy: 1.0000 - val_loss: 0.0347 - val_accuracy: 1.0000\n",
            "Epoch 32/100\n",
            "13/13 [==============================] - 6s 441ms/step - loss: 4.8284e-05 - accuracy: 1.0000 - val_loss: 0.0339 - val_accuracy: 1.0000\n",
            "Epoch 33/100\n",
            "13/13 [==============================] - 6s 442ms/step - loss: 4.5739e-05 - accuracy: 1.0000 - val_loss: 0.0342 - val_accuracy: 1.0000\n",
            "Epoch 34/100\n",
            "13/13 [==============================] - 6s 442ms/step - loss: 4.2716e-05 - accuracy: 1.0000 - val_loss: 0.0328 - val_accuracy: 1.0000\n",
            "Epoch 35/100\n",
            "13/13 [==============================] - 6s 453ms/step - loss: 4.0470e-05 - accuracy: 1.0000 - val_loss: 0.0316 - val_accuracy: 1.0000\n",
            "Epoch 36/100\n",
            "13/13 [==============================] - 6s 442ms/step - loss: 3.8290e-05 - accuracy: 1.0000 - val_loss: 0.0319 - val_accuracy: 1.0000\n",
            "Epoch 37/100\n",
            "13/13 [==============================] - 6s 454ms/step - loss: 3.6007e-05 - accuracy: 1.0000 - val_loss: 0.0315 - val_accuracy: 1.0000\n",
            "Epoch 38/100\n",
            "13/13 [==============================] - 6s 442ms/step - loss: 3.4164e-05 - accuracy: 1.0000 - val_loss: 0.0294 - val_accuracy: 1.0000\n",
            "Epoch 39/100\n",
            "13/13 [==============================] - 6s 442ms/step - loss: 3.2492e-05 - accuracy: 1.0000 - val_loss: 0.0280 - val_accuracy: 1.0000\n",
            "Epoch 40/100\n",
            "13/13 [==============================] - 6s 443ms/step - loss: 3.0909e-05 - accuracy: 1.0000 - val_loss: 0.0277 - val_accuracy: 1.0000\n",
            "Epoch 41/100\n",
            "13/13 [==============================] - 6s 456ms/step - loss: 2.9504e-05 - accuracy: 1.0000 - val_loss: 0.0274 - val_accuracy: 1.0000\n",
            "Epoch 42/100\n",
            "13/13 [==============================] - 6s 443ms/step - loss: 2.8246e-05 - accuracy: 1.0000 - val_loss: 0.0270 - val_accuracy: 1.0000\n",
            "Epoch 43/100\n",
            "13/13 [==============================] - 6s 456ms/step - loss: 2.7020e-05 - accuracy: 1.0000 - val_loss: 0.0265 - val_accuracy: 1.0000\n",
            "Epoch 44/100\n",
            "13/13 [==============================] - 6s 441ms/step - loss: 2.5892e-05 - accuracy: 1.0000 - val_loss: 0.0269 - val_accuracy: 1.0000\n",
            "Epoch 45/100\n",
            "13/13 [==============================] - 6s 454ms/step - loss: 2.4860e-05 - accuracy: 1.0000 - val_loss: 0.0268 - val_accuracy: 1.0000\n",
            "Epoch 46/100\n",
            "13/13 [==============================] - 6s 442ms/step - loss: 2.3846e-05 - accuracy: 1.0000 - val_loss: 0.0259 - val_accuracy: 1.0000\n",
            "Epoch 47/100\n",
            "13/13 [==============================] - 6s 455ms/step - loss: 2.2808e-05 - accuracy: 1.0000 - val_loss: 0.0259 - val_accuracy: 1.0000\n",
            "Epoch 48/100\n",
            "13/13 [==============================] - 6s 443ms/step - loss: 2.1959e-05 - accuracy: 1.0000 - val_loss: 0.0258 - val_accuracy: 1.0000\n",
            "Epoch 49/100\n",
            "13/13 [==============================] - 6s 443ms/step - loss: 2.1056e-05 - accuracy: 1.0000 - val_loss: 0.0258 - val_accuracy: 1.0000\n",
            "Epoch 50/100\n",
            "13/13 [==============================] - 6s 443ms/step - loss: 2.0209e-05 - accuracy: 1.0000 - val_loss: 0.0256 - val_accuracy: 1.0000\n",
            "Epoch 51/100\n",
            "13/13 [==============================] - 6s 441ms/step - loss: 1.9585e-05 - accuracy: 1.0000 - val_loss: 0.0251 - val_accuracy: 1.0000\n",
            "Epoch 52/100\n",
            "13/13 [==============================] - 6s 456ms/step - loss: 1.8866e-05 - accuracy: 1.0000 - val_loss: 0.0253 - val_accuracy: 1.0000\n",
            "Epoch 53/100\n",
            "13/13 [==============================] - 6s 441ms/step - loss: 1.8137e-05 - accuracy: 1.0000 - val_loss: 0.0247 - val_accuracy: 1.0000\n",
            "Epoch 54/100\n",
            "13/13 [==============================] - 6s 442ms/step - loss: 1.7516e-05 - accuracy: 1.0000 - val_loss: 0.0244 - val_accuracy: 1.0000\n",
            "Epoch 55/100\n",
            "13/13 [==============================] - 6s 443ms/step - loss: 1.6939e-05 - accuracy: 1.0000 - val_loss: 0.0243 - val_accuracy: 1.0000\n",
            "Epoch 56/100\n",
            "13/13 [==============================] - 6s 443ms/step - loss: 1.6321e-05 - accuracy: 1.0000 - val_loss: 0.0240 - val_accuracy: 1.0000\n",
            "Epoch 57/100\n",
            "13/13 [==============================] - 6s 455ms/step - loss: 1.5840e-05 - accuracy: 1.0000 - val_loss: 0.0235 - val_accuracy: 1.0000\n",
            "Epoch 58/100\n",
            "13/13 [==============================] - 6s 443ms/step - loss: 1.5254e-05 - accuracy: 1.0000 - val_loss: 0.0232 - val_accuracy: 1.0000\n",
            "Epoch 59/100\n",
            "13/13 [==============================] - 6s 455ms/step - loss: 1.4785e-05 - accuracy: 1.0000 - val_loss: 0.0232 - val_accuracy: 1.0000\n",
            "Epoch 60/100\n",
            "13/13 [==============================] - 6s 442ms/step - loss: 1.4399e-05 - accuracy: 1.0000 - val_loss: 0.0228 - val_accuracy: 1.0000\n",
            "Epoch 61/100\n",
            "13/13 [==============================] - 6s 441ms/step - loss: 1.3869e-05 - accuracy: 1.0000 - val_loss: 0.0227 - val_accuracy: 1.0000\n",
            "Epoch 62/100\n",
            "13/13 [==============================] - 6s 443ms/step - loss: 1.3451e-05 - accuracy: 1.0000 - val_loss: 0.0226 - val_accuracy: 1.0000\n",
            "Epoch 63/100\n",
            "13/13 [==============================] - 6s 441ms/step - loss: 1.3049e-05 - accuracy: 1.0000 - val_loss: 0.0224 - val_accuracy: 1.0000\n",
            "Epoch 64/100\n",
            "13/13 [==============================] - 6s 456ms/step - loss: 1.2649e-05 - accuracy: 1.0000 - val_loss: 0.0222 - val_accuracy: 1.0000\n",
            "Epoch 65/100\n",
            "13/13 [==============================] - 6s 441ms/step - loss: 1.2302e-05 - accuracy: 1.0000 - val_loss: 0.0217 - val_accuracy: 1.0000\n",
            "Epoch 66/100\n",
            "13/13 [==============================] - 6s 442ms/step - loss: 1.1913e-05 - accuracy: 1.0000 - val_loss: 0.0217 - val_accuracy: 1.0000\n",
            "Epoch 67/100\n",
            "13/13 [==============================] - 6s 442ms/step - loss: 1.1636e-05 - accuracy: 1.0000 - val_loss: 0.0215 - val_accuracy: 1.0000\n",
            "Epoch 68/100\n",
            "13/13 [==============================] - 6s 443ms/step - loss: 1.1301e-05 - accuracy: 1.0000 - val_loss: 0.0215 - val_accuracy: 1.0000\n",
            "Epoch 69/100\n",
            "13/13 [==============================] - 6s 441ms/step - loss: 1.0987e-05 - accuracy: 1.0000 - val_loss: 0.0213 - val_accuracy: 1.0000\n",
            "Epoch 70/100\n",
            "13/13 [==============================] - 6s 443ms/step - loss: 1.0650e-05 - accuracy: 1.0000 - val_loss: 0.0211 - val_accuracy: 1.0000\n",
            "Epoch 71/100\n",
            "13/13 [==============================] - 6s 442ms/step - loss: 1.0382e-05 - accuracy: 1.0000 - val_loss: 0.0206 - val_accuracy: 1.0000\n",
            "Epoch 72/100\n",
            "13/13 [==============================] - 6s 443ms/step - loss: 1.0051e-05 - accuracy: 1.0000 - val_loss: 0.0206 - val_accuracy: 1.0000\n",
            "Epoch 73/100\n",
            "13/13 [==============================] - 6s 442ms/step - loss: 9.8082e-06 - accuracy: 1.0000 - val_loss: 0.0202 - val_accuracy: 1.0000\n",
            "Epoch 74/100\n",
            "13/13 [==============================] - 6s 457ms/step - loss: 9.5686e-06 - accuracy: 1.0000 - val_loss: 0.0200 - val_accuracy: 1.0000\n",
            "Epoch 75/100\n",
            "13/13 [==============================] - 6s 440ms/step - loss: 9.2944e-06 - accuracy: 1.0000 - val_loss: 0.0198 - val_accuracy: 1.0000\n",
            "Epoch 76/100\n",
            "13/13 [==============================] - 6s 443ms/step - loss: 9.0143e-06 - accuracy: 1.0000 - val_loss: 0.0198 - val_accuracy: 1.0000\n",
            "Epoch 77/100\n",
            "13/13 [==============================] - 6s 454ms/step - loss: 8.8331e-06 - accuracy: 1.0000 - val_loss: 0.0191 - val_accuracy: 1.0000\n",
            "Epoch 78/100\n",
            "13/13 [==============================] - 6s 443ms/step - loss: 8.6245e-06 - accuracy: 1.0000 - val_loss: 0.0192 - val_accuracy: 1.0000\n",
            "Epoch 79/100\n",
            "13/13 [==============================] - 6s 456ms/step - loss: 8.3623e-06 - accuracy: 1.0000 - val_loss: 0.0192 - val_accuracy: 1.0000\n",
            "Epoch 80/100\n",
            "13/13 [==============================] - 6s 442ms/step - loss: 8.1513e-06 - accuracy: 1.0000 - val_loss: 0.0189 - val_accuracy: 1.0000\n",
            "Epoch 81/100\n",
            "13/13 [==============================] - 6s 456ms/step - loss: 7.9546e-06 - accuracy: 1.0000 - val_loss: 0.0189 - val_accuracy: 1.0000\n",
            "Epoch 82/100\n",
            "13/13 [==============================] - 6s 441ms/step - loss: 7.7806e-06 - accuracy: 1.0000 - val_loss: 0.0186 - val_accuracy: 1.0000\n",
            "Epoch 83/100\n",
            "13/13 [==============================] - 6s 453ms/step - loss: 7.5851e-06 - accuracy: 1.0000 - val_loss: 0.0182 - val_accuracy: 1.0000\n",
            "Epoch 84/100\n",
            "13/13 [==============================] - 6s 444ms/step - loss: 7.3908e-06 - accuracy: 1.0000 - val_loss: 0.0182 - val_accuracy: 1.0000\n",
            "Epoch 85/100\n",
            "13/13 [==============================] - 6s 456ms/step - loss: 7.2370e-06 - accuracy: 1.0000 - val_loss: 0.0179 - val_accuracy: 1.0000\n",
            "Epoch 86/100\n",
            "13/13 [==============================] - 6s 443ms/step - loss: 7.0522e-06 - accuracy: 1.0000 - val_loss: 0.0175 - val_accuracy: 1.0000\n",
            "Epoch 87/100\n",
            "13/13 [==============================] - 6s 443ms/step - loss: 6.8699e-06 - accuracy: 1.0000 - val_loss: 0.0176 - val_accuracy: 1.0000\n",
            "Epoch 88/100\n",
            "13/13 [==============================] - 6s 443ms/step - loss: 6.7137e-06 - accuracy: 1.0000 - val_loss: 0.0177 - val_accuracy: 1.0000\n",
            "Epoch 89/100\n",
            "13/13 [==============================] - 6s 454ms/step - loss: 6.5468e-06 - accuracy: 1.0000 - val_loss: 0.0176 - val_accuracy: 1.0000\n",
            "Epoch 90/100\n",
            "13/13 [==============================] - 6s 456ms/step - loss: 6.3966e-06 - accuracy: 1.0000 - val_loss: 0.0173 - val_accuracy: 1.0000\n",
            "Epoch 91/100\n",
            "13/13 [==============================] - 6s 442ms/step - loss: 6.2584e-06 - accuracy: 1.0000 - val_loss: 0.0172 - val_accuracy: 1.0000\n",
            "Epoch 92/100\n",
            "13/13 [==============================] - 6s 442ms/step - loss: 6.1308e-06 - accuracy: 1.0000 - val_loss: 0.0172 - val_accuracy: 1.0000\n",
            "Epoch 93/100\n",
            "13/13 [==============================] - 6s 455ms/step - loss: 5.9961e-06 - accuracy: 1.0000 - val_loss: 0.0168 - val_accuracy: 1.0000\n",
            "Epoch 94/100\n",
            "13/13 [==============================] - 6s 445ms/step - loss: 5.8805e-06 - accuracy: 1.0000 - val_loss: 0.0165 - val_accuracy: 1.0000\n",
            "Epoch 95/100\n",
            "13/13 [==============================] - 6s 442ms/step - loss: 5.7303e-06 - accuracy: 1.0000 - val_loss: 0.0163 - val_accuracy: 1.0000\n",
            "Epoch 96/100\n",
            "13/13 [==============================] - 6s 441ms/step - loss: 5.5992e-06 - accuracy: 1.0000 - val_loss: 0.0164 - val_accuracy: 1.0000\n",
            "Epoch 97/100\n",
            "13/13 [==============================] - 6s 443ms/step - loss: 5.4978e-06 - accuracy: 1.0000 - val_loss: 0.0162 - val_accuracy: 1.0000\n",
            "Epoch 98/100\n",
            "13/13 [==============================] - 6s 442ms/step - loss: 5.3977e-06 - accuracy: 1.0000 - val_loss: 0.0162 - val_accuracy: 1.0000\n",
            "Epoch 99/100\n",
            "13/13 [==============================] - 6s 440ms/step - loss: 5.2916e-06 - accuracy: 1.0000 - val_loss: 0.0159 - val_accuracy: 1.0000\n",
            "Epoch 100/100\n",
            "13/13 [==============================] - 6s 443ms/step - loss: 5.1843e-06 - accuracy: 1.0000 - val_loss: 0.0158 - val_accuracy: 1.0000\n"
          ]
        }
      ]
    },
    {
      "cell_type": "code",
      "metadata": {
        "colab": {
          "base_uri": "https://localhost:8080/",
          "height": 1044
        },
        "id": "sT--ClZTPwzi",
        "outputId": "6a2bed71-93c6-43c7-fe92-4866ed289d1c"
      },
      "source": [
        "import matplotlib.pyplot as plt\n",
        "plt.rcParams[\"figure.figsize\"] = (19,15)\n",
        "accuracy = train.history['accuracy']\n",
        "val_accuracy = train.history['val_accuracy']\n",
        "loss = train.history['loss']\n",
        "val_loss = train.history['val_loss']\n",
        "epochs = range(len(accuracy))\n",
        "plt.plot(epochs, accuracy, 'bo', label='Training accuracy')\n",
        "plt.plot(epochs, val_accuracy, 'b', label='Validation accuracy')\n",
        "plt.title('Training and validation accuracy')\n",
        "plt.xlabel('Epoch')\n",
        "plt.ylabel('Accuracy')\n",
        "plt.legend()\n",
        "plt.figure()\n",
        "plt.plot(epochs, loss, 'bo', label='Training loss')\n",
        "plt.plot(epochs, val_loss, 'b', label='Validation loss')\n",
        "plt.title('Training and validation loss')\n",
        "plt.xlabel('Epoch')\n",
        "plt.ylabel('Loss')\n",
        "plt.legend()\n",
        "plt.show()"
      ],
      "execution_count": null,
      "outputs": [
        {
          "output_type": "display_data",
          "data": {
            "image/png": "[encoded data removed]",
            "text/plain": [
              "<Figure size 1368x1080 with 1 Axes>"
            ]
          },
          "metadata": {
            "needs_background": "light"
          }
        },
        {
          "output_type": "display_data",
          "data": {
            "image/png": "[encoded data removed]",
            "text/plain": [
              "<Figure size 1368x1080 with 1 Axes>"
            ]
          },
          "metadata": {
            "needs_background": "light"
          }
        }
      ]
    },
    {
      "cell_type": "code",
      "metadata": {
        "colab": {
          "base_uri": "https://localhost:8080/"
        },
        "id": "OrO9R2YMP_uL",
        "outputId": "b362536e-fdb4-4420-f122-a163c3d3d333"
      },
      "source": [],
      "execution_count": null,
      "outputs": [
        {
          "output_type": "execute_result",
          "data": {
            "text/plain": [
              "1.680331563127452"
            ]
          },
          "metadata": {},
          "execution_count": 48
        }
      ]
    }
  ]
}