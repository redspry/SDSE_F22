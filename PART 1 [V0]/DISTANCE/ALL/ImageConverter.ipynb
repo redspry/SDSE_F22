{
 "cells": [
  {
   "cell_type": "code",
   "execution_count": 15,
   "id": "42d721b4",
   "metadata": {
    "id": "42d721b4"
   },
   "outputs": [],
   "source": [
    "import numpy as np\n",
    "import pandas as pd\n",
    "# # import keras\n",
    "# from keras.models import Sequential\n",
    "# import numpy as np\n",
    "# import keras.backend as kb\n",
    "# import tensorflow as tf\n",
    "# from matplotlib import image\n",
    "# from matplotlib import pyplot\n",
    "from PIL import Image\n",
    "from PIL import ImageOps"
   ]
  },
  {
   "cell_type": "code",
   "execution_count": 26,
   "id": "21ab1f6e",
   "metadata": {
    "id": "21ab1f6e"
   },
   "outputs": [
    {
     "name": "stdout",
     "output_type": "stream",
     "text": [
      "could not convert IMG_3_.jpg\n",
      "could not convert IMG_3_12.jpg\n",
      "could not convert IMG_3_13.jpg\n",
      "could not convert IMG_3_14.jpg\n",
      "could not convert IMG_3_15.jpg\n",
      "could not convert IMG_6_.jpg\n",
      "could not convert IMG_6_12.jpg\n",
      "could not convert IMG_6_13.jpg\n",
      "could not convert IMG_6_14.jpg\n",
      "could not convert IMG_6_15.jpg\n",
      "could not convert IMG_15_.jpg\n",
      "could not convert IMG_15_12.jpg\n",
      "could not convert IMG_15_13.jpg\n",
      "could not convert IMG_15_14.jpg\n",
      "could not convert IMG_15_15.jpg\n",
      "could not convert IMG_20_.jpg\n",
      "could not convert IMG_25_.jpg\n",
      "could not convert IMG_25_9.jpg\n",
      "could not convert IMG_25_10.jpg\n",
      "could not convert IMG_25_11.jpg\n",
      "could not convert IMG_25_12.jpg\n",
      "could not convert IMG_25_13.jpg\n",
      "could not convert IMG_25_14.jpg\n",
      "could not convert IMG_25_15.jpg\n",
      "could not convert IMG_30_.jpg\n",
      "could not convert IMG_30_15.jpg\n",
      "could not convert IMG_35_.jpg\n",
      "could not convert IMG_40_.jpg\n",
      "could not convert IMG_40_13.jpg\n",
      "could not convert IMG_40_14.jpg\n",
      "could not convert IMG_40_15.jpg\n",
      "could not convert IMG_45_.jpg\n",
      "could not convert IMG_45_14.jpg\n",
      "could not convert IMG_45_15.jpg\n",
      "could not convert IMG_50_.jpg\n",
      "could not convert IMG_50_12.jpg\n",
      "could not convert IMG_50_13.jpg\n",
      "could not convert IMG_50_14.jpg\n",
      "could not convert IMG_50_15.jpg\n"
     ]
    }
   ],
   "source": [
    "for z in ['3','6','15','20','25','30','35','40','45','50']:\n",
    "\n",
    "    for i in ['','1','2','3','4','5','6','8','9','10','11','12','13','14','15']:\n",
    "        try:\n",
    "            image = Image.open('IMG_{}_{}.jpg'.format(z,i))\n",
    "#             imge = image.reshape(650,650,1)\n",
    "            im2 = ImageOps.grayscale(image)\n",
    "            data=np.array(im2)\n",
    "#             data=data[1270:,650:1270]\n",
    "            fin=Image.fromarray(data)\n",
    "            fin.save('{}_Conv_{}.jpg'.format(z,i))\n",
    "        except:\n",
    "            print(\"could not convert\", 'IMG_{}_{}.jpg'.format(z,i))\n",
    "            continue"
   ]
  },
  {
   "cell_type": "code",
   "execution_count": null,
   "id": "22e1944e",
   "metadata": {
    "id": "22e1944e"
   },
   "outputs": [],
   "source": []
  }
 ],
 "metadata": {
  "colab": {
   "name": "ImageConverter.ipynb",
   "provenance": []
  },
  "kernelspec": {
   "display_name": "Python 3",
   "language": "python",
   "name": "python3"
  },
  "language_info": {
   "codemirror_mode": {
    "name": "ipython",
    "version": 3
   },
   "file_extension": ".py",
   "mimetype": "text/x-python",
   "name": "python",
   "nbconvert_exporter": "python",
   "pygments_lexer": "ipython3",
   "version": "3.8.8"
  }
 },
 "nbformat": 4,
 "nbformat_minor": 5
}
