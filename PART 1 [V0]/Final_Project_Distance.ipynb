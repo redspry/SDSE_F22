{
  "nbformat": 4,
  "nbformat_minor": 0,
  "metadata": {
    "accelerator": "GPU",
    "colab": {
      "provenance": []
    },
    "kernelspec": {
      "display_name": "Python 3",
      "name": "python3"
    }
  },
  "cells": [
    {
      "cell_type": "markdown",
      "metadata": {
        "id": "Tce3stUlHN0L"
      },
      "source": [
        "##### Copyright 2018 The TensorFlow Authors.\n"
      ]
    },
    {
      "cell_type": "code",
      "metadata": {
        "id": "ZYkP1MEnD2-7"
      },
      "source": [
        "from google.colab import drive\n",
        "drive.mount('/content/drive')"
      ],
      "execution_count": null,
      "outputs": []
    },
    {
      "cell_type": "code",
      "metadata": {
        "id": "1s_XhUJYXDJ6"
      },
      "source": [
        "import numpy as np\n",
        "import pandas as pd\n",
        "import keras\n",
        "from keras.models import Sequential,Input,Model\n",
        "from keras.layers import Dense, Dropout, Flatten\n",
        "from keras.layers import Conv2D, MaxPooling2D\n",
        "from keras.layers.advanced_activations import LeakyReLU\n",
        "import numpy as np\n",
        "import keras.backend as kb\n",
        "import tensorflow as tf\n",
        "from matplotlib import image\n",
        "from matplotlib import pyplot\n",
        "from PIL import Image\n",
        "from PIL import ImageOps"
      ],
      "execution_count": null,
      "outputs": []
    },
    {
      "cell_type": "code",
      "metadata": {
        "id": "IqR2PQG4ZaZ0",
        "colab": {
          "base_uri": "https://localhost:8080/"
        },
        "outputId": "5306c73b-220b-47a1-f6e9-5e066cb34e16"
      },
      "source": [
        "print(\"Num GPUs Available: \", len(tf.config.list_physical_devices('GPU')))"
      ],
      "execution_count": null,
      "outputs": [
        {
          "output_type": "stream",
          "name": "stdout",
          "text": [
            "Num GPUs Available:  1\n"
          ]
        }
      ]
    },
    {
      "cell_type": "code",
      "metadata": {
        "colab": {
          "base_uri": "https://localhost:8080/",
          "height": 35
        },
        "id": "i2QQLLmiX4hj",
        "outputId": "50557385-f48e-43da-b1fa-f591837bac51"
      },
      "source": [
        "keras.__version__"
      ],
      "execution_count": null,
      "outputs": [
        {
          "output_type": "execute_result",
          "data": {
            "application/vnd.google.colaboratory.intrinsic+json": {
              "type": "string"
            },
            "text/plain": [
              "'2.7.0'"
            ]
          },
          "metadata": {},
          "execution_count": 3
        }
      ]
    },
    {
      "cell_type": "code",
      "metadata": {
        "id": "njmnNRAdXswG",
        "colab": {
          "base_uri": "https://localhost:8080/"
        },
        "outputId": "1e3dafd3-0aed-485d-c494-e9bbac6962ee"
      },
      "source": [
        "imgall=np.zeros([131,650,650,1])\n",
        "y=np.zeros([131,1])\n",
        "labels=np.zeros([131,1])\n",
        "a=0\n",
        "for i in range(7):\n",
        "    imgall[a,:,:,:]=np.array(Image.open('3_{}.jpg'.format(str(i)))).reshape(650,650,1)\n",
        "    y[a,0]=3\n",
        "    labels[a]=2\n",
        "    a+=1\n",
        "for i in range(4):\n",
        "    imgall[a,:,:,:]=np.array(Image.open('3_{}_2.jpg'.format(str(i)))).reshape(650,650,1)\n",
        "    y[a,0]=3\n",
        "    labels[a]=1\n",
        "    a+=1\n",
        "for i in range(6):\n",
        "    imgall[a,:,:,:]=np.array(Image.open('6_{}.jpg'.format(str(i)))).reshape(650,650,1)\n",
        "    y[a,0]=6\n",
        "    labels[a]=2\n",
        "    a+=1\n",
        "for i in range(4):\n",
        "    imgall[a,:,:,:]=np.array(Image.open('6_{}_2.jpg'.format(str(i)))).reshape(650,650,1)\n",
        "    y[a,0]=6\n",
        "    labels[a]=1\n",
        "    a+=1\n",
        "for i in range(7):\n",
        "    imgall[a,:,:,:]=np.array(Image.open('10_{}.jpg'.format(str(i)))).reshape(650,650,1)\n",
        "    y[a,0]=10\n",
        "    labels[a]=2\n",
        "    a+=1\n",
        "for i in range(3):\n",
        "    imgall[a,:,:,:]=np.array(Image.open('10_{}_2.jpg'.format(str(i)))).reshape(650,650,1)\n",
        "    y[a,0]=10\n",
        "    labels[a]=1\n",
        "    a+=1\n",
        "for i in range(7):\n",
        "    imgall[a,:,:,:]=np.array(Image.open('15_{}.jpg'.format(str(i)))).reshape(650,650,1)\n",
        "    y[a,0]=15\n",
        "    labels[a]=2\n",
        "    a+=1\n",
        "for i in range(4):\n",
        "    imgall[a,:,:,:]=np.array(Image.open('15_{}_2.jpg'.format(str(i)))).reshape(650,650,1)\n",
        "    y[a,0]=15\n",
        "    labels[a]=1\n",
        "    a+=1\n",
        "for i in range(5):\n",
        "    imgall[a,:,:,:]=np.array(Image.open('20_{}.jpg'.format(str(i)))).reshape(650,650,1)\n",
        "    y[a,0]=20\n",
        "    labels[a]=2\n",
        "    a+=1\n",
        "for i in range(10):\n",
        "    imgall[a,:,:,:]=np.array(Image.open('20_{}_2.jpg'.format(str(i)))).reshape(650,650,1)\n",
        "    y[a,0]=20\n",
        "    labels[a]=1\n",
        "    a+=1\n",
        "for i in range(6):\n",
        "    imgall[a,:,:,:]=np.array(Image.open('25_{}.jpg'.format(str(i)))).reshape(650,650,1)\n",
        "    y[a,0]=25\n",
        "    labels[a]=2\n",
        "    a+=1\n",
        "for i in range(2):\n",
        "    imgall[a,:,:,:]=np.array(Image.open('25_{}_2.jpg'.format(str(i)))).reshape(650,650,1)\n",
        "    y[a,0]=25\n",
        "    labels[a]=1\n",
        "    a+=1\n",
        "for i in range(8):\n",
        "    imgall[a,:,:,:]=np.array(Image.open('30_{}.jpg'.format(str(i)))).reshape(650,650,1)\n",
        "    y[a,0]=30\n",
        "    labels[a]=2\n",
        "    a+=1\n",
        "for i in range(6):\n",
        "    imgall[a,:,:,:]=np.array(Image.open('30_{}_2.jpg'.format(str(i)))).reshape(650,650,1)\n",
        "    y[a,0]=30\n",
        "    labels[a]=1\n",
        "    a+=1\n",
        "for i in range(7):\n",
        "    imgall[a,:,:,:]=np.array(Image.open('35_{}.jpg'.format(str(i)))).reshape(650,650,1)\n",
        "    y[a,0]=35\n",
        "    labels[a]=2\n",
        "    a+=1\n",
        "for i in range(9):\n",
        "    imgall[a,:,:,:]=np.array(Image.open('35_{}_2.jpg'.format(str(i)))).reshape(650,650,1)\n",
        "    y[a,0]=35\n",
        "    labels[a]=1\n",
        "    a+=1\n",
        "for i in range(6):\n",
        "    imgall[a,:,:,:]=np.array(Image.open('40_{}.jpg'.format(str(i)))).reshape(650,650,1)\n",
        "    y[a,0]=40\n",
        "    labels[a]=2\n",
        "    a+=1\n",
        "for i in range(6):\n",
        "    imgall[a,:,:,:]=np.array(Image.open('40_{}_2.jpg'.format(str(i)))).reshape(650,650,1)\n",
        "    y[a,0]=40\n",
        "    labels[a]=1\n",
        "    a+=1\n",
        "for i in range(7):\n",
        "    imgall[a,:,:,:]=np.array(Image.open('45_{}.jpg'.format(str(i)))).reshape(650,650,1)\n",
        "    y[a,0]=45\n",
        "    labels[a]=2\n",
        "    a+=1\n",
        "for i in range(6):\n",
        "    imgall[a,:,:,:]=np.array(Image.open('45_{}_2.jpg'.format(str(i)))).reshape(650,650,1)\n",
        "    y[a,0]=45\n",
        "    labels[a]=1\n",
        "    a+=1\n",
        "for i in range(6):\n",
        "    imgall[a,:,:,:]=np.array(Image.open('50_{}.jpg'.format(str(i)))).reshape(650,650,1)\n",
        "    y[a,0]=50\n",
        "    labels[a]=2\n",
        "    a+=1\n",
        "for i in range(5):\n",
        "    imgall[a,:,:,:]=np.array(Image.open('50_{}_2.jpg'.format(str(i)))).reshape(650,650,1)\n",
        "    y[a,0]=50\n",
        "    labels[a]=1\n",
        "    a+=1\n",
        "imgall=imgall.astype('float32')/255\n",
        "ymed=np.median(y)\n",
        "y=y/ymed\n",
        "y"
      ],
      "execution_count": null,
      "outputs": [
        {
          "output_type": "execute_result",
          "data": {
            "text/plain": [
              "array([[0.1       ],\n",
              "       [0.1       ],\n",
              "       [0.1       ],\n",
              "       [0.1       ],\n",
              "       [0.1       ],\n",
              "       [0.1       ],\n",
              "       [0.1       ],\n",
              "       [0.1       ],\n",
              "       [0.1       ],\n",
              "       [0.1       ],\n",
              "       [0.1       ],\n",
              "       [0.2       ],\n",
              "       [0.2       ],\n",
              "       [0.2       ],\n",
              "       [0.2       ],\n",
              "       [0.2       ],\n",
              "       [0.2       ],\n",
              "       [0.2       ],\n",
              "       [0.2       ],\n",
              "       [0.2       ],\n",
              "       [0.2       ],\n",
              "       [0.33333333],\n",
              "       [0.33333333],\n",
              "       [0.33333333],\n",
              "       [0.33333333],\n",
              "       [0.33333333],\n",
              "       [0.33333333],\n",
              "       [0.33333333],\n",
              "       [0.33333333],\n",
              "       [0.33333333],\n",
              "       [0.33333333],\n",
              "       [0.5       ],\n",
              "       [0.5       ],\n",
              "       [0.5       ],\n",
              "       [0.5       ],\n",
              "       [0.5       ],\n",
              "       [0.5       ],\n",
              "       [0.5       ],\n",
              "       [0.5       ],\n",
              "       [0.5       ],\n",
              "       [0.5       ],\n",
              "       [0.5       ],\n",
              "       [0.66666667],\n",
              "       [0.66666667],\n",
              "       [0.66666667],\n",
              "       [0.66666667],\n",
              "       [0.66666667],\n",
              "       [0.66666667],\n",
              "       [0.66666667],\n",
              "       [0.66666667],\n",
              "       [0.66666667],\n",
              "       [0.66666667],\n",
              "       [0.66666667],\n",
              "       [0.66666667],\n",
              "       [0.66666667],\n",
              "       [0.66666667],\n",
              "       [0.66666667],\n",
              "       [0.83333333],\n",
              "       [0.83333333],\n",
              "       [0.83333333],\n",
              "       [0.83333333],\n",
              "       [0.83333333],\n",
              "       [0.83333333],\n",
              "       [0.83333333],\n",
              "       [0.83333333],\n",
              "       [1.        ],\n",
              "       [1.        ],\n",
              "       [1.        ],\n",
              "       [1.        ],\n",
              "       [1.        ],\n",
              "       [1.        ],\n",
              "       [1.        ],\n",
              "       [1.        ],\n",
              "       [1.        ],\n",
              "       [1.        ],\n",
              "       [1.        ],\n",
              "       [1.        ],\n",
              "       [1.        ],\n",
              "       [1.        ],\n",
              "       [1.16666667],\n",
              "       [1.16666667],\n",
              "       [1.16666667],\n",
              "       [1.16666667],\n",
              "       [1.16666667],\n",
              "       [1.16666667],\n",
              "       [1.16666667],\n",
              "       [1.16666667],\n",
              "       [1.16666667],\n",
              "       [1.16666667],\n",
              "       [1.16666667],\n",
              "       [1.16666667],\n",
              "       [1.16666667],\n",
              "       [1.16666667],\n",
              "       [1.16666667],\n",
              "       [1.16666667],\n",
              "       [1.33333333],\n",
              "       [1.33333333],\n",
              "       [1.33333333],\n",
              "       [1.33333333],\n",
              "       [1.33333333],\n",
              "       [1.33333333],\n",
              "       [1.33333333],\n",
              "       [1.33333333],\n",
              "       [1.33333333],\n",
              "       [1.33333333],\n",
              "       [1.33333333],\n",
              "       [1.33333333],\n",
              "       [1.5       ],\n",
              "       [1.5       ],\n",
              "       [1.5       ],\n",
              "       [1.5       ],\n",
              "       [1.5       ],\n",
              "       [1.5       ],\n",
              "       [1.5       ],\n",
              "       [1.5       ],\n",
              "       [1.5       ],\n",
              "       [1.5       ],\n",
              "       [1.5       ],\n",
              "       [1.5       ],\n",
              "       [1.5       ],\n",
              "       [1.66666667],\n",
              "       [1.66666667],\n",
              "       [1.66666667],\n",
              "       [1.66666667],\n",
              "       [1.66666667],\n",
              "       [1.66666667],\n",
              "       [1.66666667],\n",
              "       [1.66666667],\n",
              "       [1.66666667],\n",
              "       [1.66666667],\n",
              "       [1.66666667]])"
            ]
          },
          "metadata": {},
          "execution_count": 4
        }
      ]
    },
    {
      "cell_type": "code",
      "metadata": {
        "id": "nn1VjmpUGBim"
      },
      "source": [
        "import random\n",
        "randomlist = random.sample(range(0, 131), int(131*.2))\n",
        "imgtest=imgall[randomlist,:,:]\n",
        "ytest=y[randomlist,:]\n",
        "labelstest=labels[randomlist,:]\n",
        "main_list = list(set(range(0,131)) - set(randomlist))\n",
        "imgtrain=imgall[main_list,:,:]\n",
        "ytrain=y[main_list,:]\n",
        "labelstrain=labels[main_list,:]"
      ],
      "execution_count": null,
      "outputs": []
    },
    {
      "cell_type": "code",
      "metadata": {
        "colab": {
          "base_uri": "https://localhost:8080/"
        },
        "id": "08vNiJW6XyEv",
        "outputId": "f5a923e3-23a9-433b-dbe2-6415405423d3"
      },
      "source": [
        "model = Sequential()\n",
        "model.add(Conv2D(128, kernel_size=(3, 3),activation='linear',input_shape=(650,650,1),padding='same'))\n",
        "model.add(LeakyReLU(alpha=0.1))\n",
        "model.add(MaxPooling2D((2, 2),padding='same'))\n",
        "model.add(Conv2D(256, (3, 3), activation='linear',padding='same'))\n",
        "model.add(LeakyReLU(alpha=0.1))\n",
        "model.add(MaxPooling2D(pool_size=(2, 2),padding='same'))\n",
        "model.add(Conv2D(25, (3, 3), activation='linear',padding='same'))\n",
        "model.add(LeakyReLU(alpha=0.1))                  \n",
        "model.add(MaxPooling2D(pool_size=(2, 2),padding='same'))\n",
        "model.add(Flatten())\n",
        "model.add(Dense(128, activation='linear'))\n",
        "model.add(LeakyReLU(alpha=0.1))\n",
        "model.add(Dense(1))\n",
        "model.compile(loss='mean_absolute_error', optimizer=tf.keras.optimizers.Adam(),metrics=['accuracy'])\n",
        "model.summary()"
      ],
      "execution_count": null,
      "outputs": [
        {
          "output_type": "stream",
          "name": "stdout",
          "text": [
            "Model: \"sequential\"\n",
            "_________________________________________________________________\n",
            " Layer (type)                Output Shape              Param #   \n",
            "=================================================================\n",
            " conv2d (Conv2D)             (None, 650, 650, 128)     1280      \n",
            "                                                                 \n",
            " leaky_re_lu (LeakyReLU)     (None, 650, 650, 128)     0         \n",
            "                                                                 \n",
            " max_pooling2d (MaxPooling2D  (None, 325, 325, 128)    0         \n",
            " )                                                               \n",
            "                                                                 \n",
            " conv2d_1 (Conv2D)           (None, 325, 325, 256)     295168    \n",
            "                                                                 \n",
            " leaky_re_lu_1 (LeakyReLU)   (None, 325, 325, 256)     0         \n",
            "                                                                 \n",
            " max_pooling2d_1 (MaxPooling  (None, 163, 163, 256)    0         \n",
            " 2D)                                                             \n",
            "                                                                 \n",
            " conv2d_2 (Conv2D)           (None, 163, 163, 25)      57625     \n",
            "                                                                 \n",
            " leaky_re_lu_2 (LeakyReLU)   (None, 163, 163, 25)      0         \n",
            "                                                                 \n",
            " max_pooling2d_2 (MaxPooling  (None, 82, 82, 25)       0         \n",
            " 2D)                                                             \n",
            "                                                                 \n",
            " flatten (Flatten)           (None, 168100)            0         \n",
            "                                                                 \n",
            " dense (Dense)               (None, 128)               21516928  \n",
            "                                                                 \n",
            " leaky_re_lu_3 (LeakyReLU)   (None, 128)               0         \n",
            "                                                                 \n",
            " dense_1 (Dense)             (None, 1)                 129       \n",
            "                                                                 \n",
            "=================================================================\n",
            "Total params: 21,871,130\n",
            "Trainable params: 21,871,130\n",
            "Non-trainable params: 0\n",
            "_________________________________________________________________\n"
          ]
        }
      ]
    },
    {
      "cell_type": "code",
      "metadata": {
        "id": "KnzuMiV7ZOE7"
      },
      "source": [
        "batch_size = 8\n",
        "epochs = 100\n",
        "num_classes=1"
      ],
      "execution_count": null,
      "outputs": []
    },
    {
      "cell_type": "code",
      "metadata": {
        "id": "iC910yJ7gA6V"
      },
      "source": [
        "import timeit"
      ],
      "execution_count": null,
      "outputs": []
    },
    {
      "cell_type": "code",
      "metadata": {
        "colab": {
          "base_uri": "https://localhost:8080/"
        },
        "id": "BXQchyBuYOPG",
        "outputId": "6140439e-11d5-42f2-cfbc-74a495e31800"
      },
      "source": [
        "train = model.fit(imgtrain, ytrain, batch_size=batch_size,epochs=epochs,verbose=1)"
      ],
      "execution_count": null,
      "outputs": [
        {
          "output_type": "stream",
          "name": "stdout",
          "text": [
            "Epoch 1/100\n",
            "14/14 [==============================] - 33s 1s/step - loss: 8.7926 - accuracy: 0.0476\n",
            "Epoch 2/100\n",
            "14/14 [==============================] - 17s 1s/step - loss: 0.5958 - accuracy: 0.0952\n",
            "Epoch 3/100\n",
            "14/14 [==============================] - 17s 1s/step - loss: 0.3255 - accuracy: 0.1238\n",
            "Epoch 4/100\n",
            "14/14 [==============================] - 17s 1s/step - loss: 0.2213 - accuracy: 0.1238\n",
            "Epoch 5/100\n",
            "14/14 [==============================] - 17s 1s/step - loss: 0.2357 - accuracy: 0.1238\n",
            "Epoch 6/100\n",
            "14/14 [==============================] - 17s 1s/step - loss: 0.2566 - accuracy: 0.1238\n",
            "Epoch 7/100\n",
            "14/14 [==============================] - 17s 1s/step - loss: 0.3548 - accuracy: 0.1143\n",
            "Epoch 8/100\n",
            "14/14 [==============================] - 17s 1s/step - loss: 0.2345 - accuracy: 0.1238\n",
            "Epoch 9/100\n",
            "14/14 [==============================] - 17s 1s/step - loss: 0.5069 - accuracy: 0.1238\n",
            "Epoch 10/100\n",
            "14/14 [==============================] - 17s 1s/step - loss: 2.7150 - accuracy: 0.0857\n",
            "Epoch 11/100\n",
            "14/14 [==============================] - 17s 1s/step - loss: 0.3541 - accuracy: 0.0857\n",
            "Epoch 12/100\n",
            "14/14 [==============================] - 17s 1s/step - loss: 0.3257 - accuracy: 0.1238\n",
            "Epoch 13/100\n",
            "14/14 [==============================] - 17s 1s/step - loss: 0.3676 - accuracy: 0.1238\n",
            "Epoch 14/100\n",
            "14/14 [==============================] - 17s 1s/step - loss: 0.2153 - accuracy: 0.1238\n",
            "Epoch 15/100\n",
            "14/14 [==============================] - 17s 1s/step - loss: 0.1581 - accuracy: 0.1238\n",
            "Epoch 16/100\n",
            "14/14 [==============================] - 17s 1s/step - loss: 0.1728 - accuracy: 0.1238\n",
            "Epoch 17/100\n",
            "14/14 [==============================] - 17s 1s/step - loss: 0.2060 - accuracy: 0.1238\n",
            "Epoch 18/100\n",
            "14/14 [==============================] - 17s 1s/step - loss: 0.1643 - accuracy: 0.1238\n",
            "Epoch 19/100\n",
            "14/14 [==============================] - 17s 1s/step - loss: 0.1912 - accuracy: 0.1238\n",
            "Epoch 20/100\n",
            "14/14 [==============================] - 17s 1s/step - loss: 0.1504 - accuracy: 0.1238\n",
            "Epoch 21/100\n",
            "14/14 [==============================] - 17s 1s/step - loss: 0.1814 - accuracy: 0.1238\n",
            "Epoch 22/100\n",
            "14/14 [==============================] - 17s 1s/step - loss: 0.1826 - accuracy: 0.1238\n",
            "Epoch 23/100\n",
            "14/14 [==============================] - 17s 1s/step - loss: 0.1558 - accuracy: 0.1238\n",
            "Epoch 24/100\n",
            "14/14 [==============================] - 17s 1s/step - loss: 0.1378 - accuracy: 0.1238\n",
            "Epoch 25/100\n",
            "14/14 [==============================] - 17s 1s/step - loss: 0.1763 - accuracy: 0.1238\n",
            "Epoch 26/100\n",
            "14/14 [==============================] - 17s 1s/step - loss: 0.1460 - accuracy: 0.1238\n",
            "Epoch 27/100\n",
            "14/14 [==============================] - 17s 1s/step - loss: 0.2662 - accuracy: 0.1238\n",
            "Epoch 28/100\n",
            "14/14 [==============================] - 17s 1s/step - loss: 0.1508 - accuracy: 0.1238\n",
            "Epoch 29/100\n",
            "14/14 [==============================] - 17s 1s/step - loss: 0.1194 - accuracy: 0.1238\n",
            "Epoch 30/100\n",
            "14/14 [==============================] - 17s 1s/step - loss: 0.2242 - accuracy: 0.1238\n",
            "Epoch 31/100\n",
            "14/14 [==============================] - 17s 1s/step - loss: 0.1596 - accuracy: 0.1238\n",
            "Epoch 32/100\n",
            "14/14 [==============================] - 17s 1s/step - loss: 0.1493 - accuracy: 0.1238\n",
            "Epoch 33/100\n",
            "14/14 [==============================] - 17s 1s/step - loss: 0.1878 - accuracy: 0.1238\n",
            "Epoch 34/100\n",
            "14/14 [==============================] - 17s 1s/step - loss: 0.1135 - accuracy: 0.1238\n",
            "Epoch 35/100\n",
            "14/14 [==============================] - 18s 1s/step - loss: 0.1146 - accuracy: 0.1238\n",
            "Epoch 36/100\n",
            "14/14 [==============================] - 18s 1s/step - loss: 0.1543 - accuracy: 0.1238\n",
            "Epoch 37/100\n",
            "14/14 [==============================] - 18s 1s/step - loss: 0.0964 - accuracy: 0.1238\n",
            "Epoch 38/100\n",
            "14/14 [==============================] - 18s 1s/step - loss: 0.1018 - accuracy: 0.1238\n",
            "Epoch 39/100\n",
            "14/14 [==============================] - 18s 1s/step - loss: 0.1655 - accuracy: 0.1238\n",
            "Epoch 40/100\n",
            "14/14 [==============================] - 18s 1s/step - loss: 0.1051 - accuracy: 0.1238\n",
            "Epoch 41/100\n",
            "14/14 [==============================] - 18s 1s/step - loss: 0.0900 - accuracy: 0.1238\n",
            "Epoch 42/100\n",
            "14/14 [==============================] - 18s 1s/step - loss: 0.0825 - accuracy: 0.1238\n",
            "Epoch 43/100\n",
            "14/14 [==============================] - 17s 1s/step - loss: 0.1257 - accuracy: 0.1238\n",
            "Epoch 44/100\n",
            "14/14 [==============================] - 18s 1s/step - loss: 0.1337 - accuracy: 0.1238\n",
            "Epoch 45/100\n",
            "14/14 [==============================] - 18s 1s/step - loss: 0.1041 - accuracy: 0.1238\n",
            "Epoch 46/100\n",
            "14/14 [==============================] - 18s 1s/step - loss: 0.0948 - accuracy: 0.1238\n",
            "Epoch 47/100\n",
            "14/14 [==============================] - 18s 1s/step - loss: 0.1003 - accuracy: 0.1238\n",
            "Epoch 48/100\n",
            "14/14 [==============================] - 18s 1s/step - loss: 0.0961 - accuracy: 0.1238\n",
            "Epoch 49/100\n",
            "14/14 [==============================] - 18s 1s/step - loss: 0.1419 - accuracy: 0.1238\n",
            "Epoch 50/100\n",
            "14/14 [==============================] - 18s 1s/step - loss: 0.1213 - accuracy: 0.1238\n",
            "Epoch 51/100\n",
            "14/14 [==============================] - 18s 1s/step - loss: 0.0650 - accuracy: 0.1238\n",
            "Epoch 52/100\n",
            "14/14 [==============================] - 18s 1s/step - loss: 0.0887 - accuracy: 0.1238\n",
            "Epoch 53/100\n",
            "14/14 [==============================] - 18s 1s/step - loss: 0.1387 - accuracy: 0.1238\n",
            "Epoch 54/100\n",
            "14/14 [==============================] - 18s 1s/step - loss: 0.0607 - accuracy: 0.1238\n",
            "Epoch 55/100\n",
            "14/14 [==============================] - 18s 1s/step - loss: 0.1014 - accuracy: 0.1238\n",
            "Epoch 56/100\n",
            "14/14 [==============================] - 18s 1s/step - loss: 0.1234 - accuracy: 0.1238\n",
            "Epoch 57/100\n",
            "14/14 [==============================] - 17s 1s/step - loss: 0.1028 - accuracy: 0.1238\n",
            "Epoch 58/100\n",
            "14/14 [==============================] - 17s 1s/step - loss: 0.0937 - accuracy: 0.1238\n",
            "Epoch 59/100\n",
            "14/14 [==============================] - 17s 1s/step - loss: 0.1261 - accuracy: 0.1238\n",
            "Epoch 60/100\n",
            "14/14 [==============================] - 18s 1s/step - loss: 0.0915 - accuracy: 0.1238\n",
            "Epoch 61/100\n",
            "14/14 [==============================] - 17s 1s/step - loss: 0.0706 - accuracy: 0.1238\n",
            "Epoch 62/100\n",
            "14/14 [==============================] - 17s 1s/step - loss: 0.1172 - accuracy: 0.1238\n",
            "Epoch 63/100\n",
            "14/14 [==============================] - 17s 1s/step - loss: 0.0637 - accuracy: 0.1238\n",
            "Epoch 64/100\n",
            "14/14 [==============================] - 17s 1s/step - loss: 0.0588 - accuracy: 0.1238\n",
            "Epoch 65/100\n",
            "14/14 [==============================] - 17s 1s/step - loss: 0.0726 - accuracy: 0.1238\n",
            "Epoch 66/100\n",
            "14/14 [==============================] - 17s 1s/step - loss: 0.0687 - accuracy: 0.1238\n",
            "Epoch 67/100\n",
            "14/14 [==============================] - 17s 1s/step - loss: 0.0938 - accuracy: 0.1238\n",
            "Epoch 68/100\n",
            "14/14 [==============================] - 17s 1s/step - loss: 0.1239 - accuracy: 0.1238\n",
            "Epoch 69/100\n",
            "14/14 [==============================] - 17s 1s/step - loss: 0.0990 - accuracy: 0.1238\n",
            "Epoch 70/100\n",
            "14/14 [==============================] - 17s 1s/step - loss: 0.0697 - accuracy: 0.1238\n",
            "Epoch 71/100\n",
            "14/14 [==============================] - 17s 1s/step - loss: 0.0615 - accuracy: 0.1238\n",
            "Epoch 72/100\n",
            "14/14 [==============================] - 17s 1s/step - loss: 0.0788 - accuracy: 0.1238\n",
            "Epoch 73/100\n",
            "14/14 [==============================] - 17s 1s/step - loss: 0.1045 - accuracy: 0.1238\n",
            "Epoch 74/100\n",
            "14/14 [==============================] - 17s 1s/step - loss: 0.0850 - accuracy: 0.1238\n",
            "Epoch 75/100\n",
            "14/14 [==============================] - 17s 1s/step - loss: 0.0998 - accuracy: 0.1238\n",
            "Epoch 76/100\n",
            "14/14 [==============================] - 17s 1s/step - loss: 0.1319 - accuracy: 0.1238\n",
            "Epoch 77/100\n",
            "14/14 [==============================] - 17s 1s/step - loss: 0.0834 - accuracy: 0.1238\n",
            "Epoch 78/100\n",
            "14/14 [==============================] - 17s 1s/step - loss: 0.0719 - accuracy: 0.1238\n",
            "Epoch 79/100\n",
            "14/14 [==============================] - 17s 1s/step - loss: 0.0782 - accuracy: 0.1238\n",
            "Epoch 80/100\n",
            "14/14 [==============================] - 17s 1s/step - loss: 0.0752 - accuracy: 0.1238\n",
            "Epoch 81/100\n",
            "14/14 [==============================] - 17s 1s/step - loss: 0.0435 - accuracy: 0.1238\n",
            "Epoch 82/100\n",
            "14/14 [==============================] - 17s 1s/step - loss: 0.0469 - accuracy: 0.1238\n",
            "Epoch 83/100\n",
            "14/14 [==============================] - 17s 1s/step - loss: 0.0833 - accuracy: 0.1238\n",
            "Epoch 84/100\n",
            "14/14 [==============================] - 17s 1s/step - loss: 0.0610 - accuracy: 0.1238\n",
            "Epoch 85/100\n",
            "14/14 [==============================] - 17s 1s/step - loss: 0.0847 - accuracy: 0.1238\n",
            "Epoch 86/100\n",
            "14/14 [==============================] - 17s 1s/step - loss: 0.0660 - accuracy: 0.1238\n",
            "Epoch 87/100\n",
            "14/14 [==============================] - 17s 1s/step - loss: 0.0547 - accuracy: 0.1238\n",
            "Epoch 88/100\n",
            "14/14 [==============================] - 17s 1s/step - loss: 0.0700 - accuracy: 0.1238\n",
            "Epoch 89/100\n",
            "14/14 [==============================] - 17s 1s/step - loss: 0.0555 - accuracy: 0.1238\n",
            "Epoch 90/100\n",
            "14/14 [==============================] - 17s 1s/step - loss: 0.0526 - accuracy: 0.1238\n",
            "Epoch 91/100\n",
            "14/14 [==============================] - 17s 1s/step - loss: 0.1015 - accuracy: 0.1238\n",
            "Epoch 92/100\n",
            "14/14 [==============================] - 18s 1s/step - loss: 0.0950 - accuracy: 0.1238\n",
            "Epoch 93/100\n",
            "14/14 [==============================] - 18s 1s/step - loss: 0.0499 - accuracy: 0.1238\n",
            "Epoch 94/100\n",
            "14/14 [==============================] - 18s 1s/step - loss: 0.0535 - accuracy: 0.1238\n",
            "Epoch 95/100\n",
            "14/14 [==============================] - 18s 1s/step - loss: 0.0531 - accuracy: 0.1238\n",
            "Epoch 96/100\n",
            "14/14 [==============================] - 18s 1s/step - loss: 0.0429 - accuracy: 0.1238\n",
            "Epoch 97/100\n",
            "14/14 [==============================] - 17s 1s/step - loss: 0.0377 - accuracy: 0.1238\n",
            "Epoch 98/100\n",
            "14/14 [==============================] - 17s 1s/step - loss: 0.0639 - accuracy: 0.1238\n",
            "Epoch 99/100\n",
            "14/14 [==============================] - 17s 1s/step - loss: 0.0506 - accuracy: 0.1238\n",
            "Epoch 100/100\n",
            "14/14 [==============================] - 17s 1s/step - loss: 0.0577 - accuracy: 0.1238\n"
          ]
        }
      ]
    },
    {
      "cell_type": "code",
      "source": [
        "model.save('Complete_Distance')"
      ],
      "metadata": {
        "colab": {
          "base_uri": "https://localhost:8080/"
        },
        "id": "9aIIZ270oSCi",
        "outputId": "86265fdf-e208-4c14-e038-a737cebb988e"
      },
      "execution_count": null,
      "outputs": [
        {
          "output_type": "stream",
          "name": "stdout",
          "text": [
            "INFO:tensorflow:Assets written to: Complete_Distance/assets\n"
          ]
        }
      ]
    },
    {
      "cell_type": "code",
      "source": [
        "!zip -r Full_Distance.zip Complete_Distance"
      ],
      "metadata": {
        "colab": {
          "base_uri": "https://localhost:8080/"
        },
        "id": "57QdkLCloTBZ",
        "outputId": "13e52200-cf46-4e75-acbb-21bccf576ae8"
      },
      "execution_count": null,
      "outputs": [
        {
          "output_type": "stream",
          "name": "stdout",
          "text": [
            "  adding: Complete_Distance/ (stored 0%)\n",
            "  adding: Complete_Distance/variables/ (stored 0%)\n",
            "  adding: Complete_Distance/variables/variables.data-00000-of-00001 (deflated 6%)\n",
            "  adding: Complete_Distance/variables/variables.index (deflated 66%)\n",
            "  adding: Complete_Distance/keras_metadata.pb (deflated 92%)\n",
            "  adding: Complete_Distance/saved_model.pb (deflated 89%)\n",
            "  adding: Complete_Distance/assets/ (stored 0%)\n"
          ]
        }
      ]
    },
    {
      "cell_type": "code",
      "source": [
        "from google.colab import files\n",
        "files.download(\"Full_Distance.zip\")"
      ],
      "metadata": {
        "colab": {
          "base_uri": "https://localhost:8080/",
          "height": 17
        },
        "id": "uCdTaTI_oTN1",
        "outputId": "2828d9b2-09db-4a0c-8f21-cb9efbaf96b2"
      },
      "execution_count": null,
      "outputs": [
        {
          "output_type": "display_data",
          "data": {
            "application/javascript": [
              "\n",
              "    async function download(id, filename, size) {\n",
              "      if (!google.colab.kernel.accessAllowed) {\n",
              "        return;\n",
              "      }\n",
              "      const div = document.createElement('div');\n",
              "      const label = document.createElement('label');\n",
              "      label.textContent = `Downloading \"${filename}\": `;\n",
              "      div.appendChild(label);\n",
              "      const progress = document.createElement('progress');\n",
              "      progress.max = size;\n",
              "      div.appendChild(progress);\n",
              "      document.body.appendChild(div);\n",
              "\n",
              "      const buffers = [];\n",
              "      let downloaded = 0;\n",
              "\n",
              "      const channel = await google.colab.kernel.comms.open(id);\n",
              "      // Send a message to notify the kernel that we're ready.\n",
              "      channel.send({})\n",
              "\n",
              "      for await (const message of channel.messages) {\n",
              "        // Send a message to notify the kernel that we're ready.\n",
              "        channel.send({})\n",
              "        if (message.buffers) {\n",
              "          for (const buffer of message.buffers) {\n",
              "            buffers.push(buffer);\n",
              "            downloaded += buffer.byteLength;\n",
              "            progress.value = downloaded;\n",
              "          }\n",
              "        }\n",
              "      }\n",
              "      const blob = new Blob(buffers, {type: 'application/binary'});\n",
              "      const a = document.createElement('a');\n",
              "      a.href = window.URL.createObjectURL(blob);\n",
              "      a.download = filename;\n",
              "      div.appendChild(a);\n",
              "      a.click();\n",
              "      div.remove();\n",
              "    }\n",
              "  "
            ],
            "text/plain": [
              "<IPython.core.display.Javascript object>"
            ]
          },
          "metadata": {}
        },
        {
          "output_type": "display_data",
          "data": {
            "application/javascript": [
              "download(\"download_ccb0c77c-3a87-4ceb-b47e-ed5331044ecb\", \"Full_Distance.zip\", 245510607)"
            ],
            "text/plain": [
              "<IPython.core.display.Javascript object>"
            ]
          },
          "metadata": {}
        }
      ]
    },
    {
      "cell_type": "code",
      "metadata": {
        "id": "2aHYAmZBa4_y"
      },
      "source": [
        "ypred1=model.predict(imgtrain[:int(imgtrain.shape[0]/2),:,:])*ymed\n",
        "ypred2=model.predict(imgtrain[int(imgtrain.shape[0]/2):,:,:])*ymed"
      ],
      "execution_count": null,
      "outputs": []
    },
    {
      "cell_type": "code",
      "metadata": {
        "colab": {
          "base_uri": "https://localhost:8080/"
        },
        "id": "END7i5R7NsGh",
        "outputId": "f1a5a2b1-a5d1-4329-d79d-f4529c4607a7"
      },
      "source": [
        "ypredtot=np.vstack([ypred1,ypred2])\n",
        "np.hstack([ypredtot,ytrain*ymed,labelstrain])"
      ],
      "execution_count": null,
      "outputs": [
        {
          "output_type": "execute_result",
          "data": {
            "text/plain": [
              "array([[ 3.49704933,  3.        ,  2.        ],\n",
              "       [ 4.76100588,  3.        ,  2.        ],\n",
              "       [ 5.2924161 ,  3.        ,  2.        ],\n",
              "       [15.76280975,  3.        ,  2.        ],\n",
              "       [ 5.76023102,  3.        ,  2.        ],\n",
              "       [ 4.2668376 ,  3.        ,  1.        ],\n",
              "       [ 3.81645894,  3.        ,  1.        ],\n",
              "       [ 5.57420826,  3.        ,  1.        ],\n",
              "       [ 3.61435032,  3.        ,  1.        ],\n",
              "       [ 7.56032753,  6.        ,  2.        ],\n",
              "       [ 7.50712776,  6.        ,  2.        ],\n",
              "       [11.69629669,  6.        ,  2.        ],\n",
              "       [ 8.18275928,  6.        ,  2.        ],\n",
              "       [ 7.47366238,  6.        ,  1.        ],\n",
              "       [ 5.47527218,  6.        ,  1.        ],\n",
              "       [10.18668079,  6.        ,  1.        ],\n",
              "       [ 8.4842701 ,  6.        ,  1.        ],\n",
              "       [12.21251774, 10.        ,  2.        ],\n",
              "       [ 8.58827877, 10.        ,  2.        ],\n",
              "       [12.28644943, 10.        ,  2.        ],\n",
              "       [11.6985817 , 10.        ,  2.        ],\n",
              "       [12.55023003, 10.        ,  2.        ],\n",
              "       [ 5.53316689, 10.        ,  2.        ],\n",
              "       [ 9.19595051, 10.        ,  1.        ],\n",
              "       [11.11955833, 10.        ,  1.        ],\n",
              "       [ 9.68720245, 10.        ,  1.        ],\n",
              "       [15.70395279, 15.        ,  2.        ],\n",
              "       [15.92784214, 15.        ,  2.        ],\n",
              "       [15.95087337, 15.        ,  2.        ],\n",
              "       [16.82526398, 15.        ,  2.        ],\n",
              "       [16.08094025, 15.        ,  2.        ],\n",
              "       [15.40404606, 15.        ,  2.        ],\n",
              "       [13.49756908, 15.        ,  1.        ],\n",
              "       [12.31353474, 15.        ,  1.        ],\n",
              "       [17.81143379, 15.        ,  1.        ],\n",
              "       [15.8029213 , 15.        ,  1.        ],\n",
              "       [19.82790375, 20.        ,  2.        ],\n",
              "       [20.91550636, 20.        ,  2.        ],\n",
              "       [20.25070572, 20.        ,  2.        ],\n",
              "       [19.47649002, 20.        ,  1.        ],\n",
              "       [21.18822479, 20.        ,  1.        ],\n",
              "       [18.23901176, 20.        ,  1.        ],\n",
              "       [19.72340584, 20.        ,  1.        ],\n",
              "       [20.10473824, 20.        ,  1.        ],\n",
              "       [21.33364105, 20.        ,  1.        ],\n",
              "       [26.8159523 , 20.        ,  1.        ],\n",
              "       [25.38820839, 25.        ,  2.        ],\n",
              "       [26.39951897, 25.        ,  2.        ],\n",
              "       [24.83042717, 25.        ,  2.        ],\n",
              "       [24.54490089, 25.        ,  1.        ],\n",
              "       [25.62432098, 25.        ,  1.        ],\n",
              "       [28.73814774, 30.        ,  2.        ],\n",
              "       [28.17382812, 30.        ,  2.        ],\n",
              "       [28.51963806, 30.        ,  2.        ],\n",
              "       [28.78074837, 30.        ,  2.        ],\n",
              "       [29.53167915, 30.        ,  2.        ],\n",
              "       [29.01718903, 30.        ,  2.        ],\n",
              "       [28.89275742, 30.        ,  2.        ],\n",
              "       [29.59501839, 30.        ,  1.        ],\n",
              "       [30.29376984, 30.        ,  1.        ],\n",
              "       [30.227211  , 30.        ,  1.        ],\n",
              "       [28.59368896, 30.        ,  1.        ],\n",
              "       [29.00435829, 30.        ,  1.        ],\n",
              "       [35.43414307, 35.        ,  2.        ],\n",
              "       [33.50496674, 35.        ,  2.        ],\n",
              "       [35.89817429, 35.        ,  2.        ],\n",
              "       [34.23436356, 35.        ,  2.        ],\n",
              "       [36.00010681, 35.        ,  2.        ],\n",
              "       [34.94224548, 35.        ,  2.        ],\n",
              "       [33.8159523 , 35.        ,  2.        ],\n",
              "       [33.05945206, 35.        ,  1.        ],\n",
              "       [33.4037323 , 35.        ,  1.        ],\n",
              "       [34.99813843, 35.        ,  1.        ],\n",
              "       [35.85906601, 35.        ,  1.        ],\n",
              "       [34.30835724, 35.        ,  1.        ],\n",
              "       [39.45767593, 40.        ,  2.        ],\n",
              "       [39.90325165, 40.        ,  2.        ],\n",
              "       [39.19684601, 40.        ,  2.        ],\n",
              "       [39.43666077, 40.        ,  2.        ],\n",
              "       [40.39680481, 40.        ,  2.        ],\n",
              "       [38.96673584, 40.        ,  1.        ],\n",
              "       [40.15926743, 40.        ,  1.        ],\n",
              "       [40.25470352, 40.        ,  1.        ],\n",
              "       [38.45088959, 40.        ,  1.        ],\n",
              "       [39.2891922 , 40.        ,  1.        ],\n",
              "       [39.33897781, 40.        ,  1.        ],\n",
              "       [44.88715363, 45.        ,  2.        ],\n",
              "       [43.97297668, 45.        ,  2.        ],\n",
              "       [44.05257416, 45.        ,  2.        ],\n",
              "       [41.19016266, 45.        ,  2.        ],\n",
              "       [44.6959877 , 45.        ,  1.        ],\n",
              "       [47.41130829, 45.        ,  1.        ],\n",
              "       [45.00014496, 45.        ,  1.        ],\n",
              "       [45.10769653, 45.        ,  1.        ],\n",
              "       [45.54553604, 45.        ,  1.        ],\n",
              "       [46.88726425, 45.        ,  1.        ],\n",
              "       [49.37955475, 50.        ,  2.        ],\n",
              "       [48.90861511, 50.        ,  2.        ],\n",
              "       [48.86777878, 50.        ,  2.        ],\n",
              "       [49.19137955, 50.        ,  2.        ],\n",
              "       [48.74605942, 50.        ,  1.        ],\n",
              "       [50.25358963, 50.        ,  1.        ],\n",
              "       [50.38816071, 50.        ,  1.        ],\n",
              "       [51.08293915, 50.        ,  1.        ],\n",
              "       [50.68886185, 50.        ,  1.        ]])"
            ]
          },
          "metadata": {},
          "execution_count": 17
        }
      ]
    },
    {
      "cell_type": "code",
      "metadata": {
        "colab": {
          "base_uri": "https://localhost:8080/",
          "height": 548
        },
        "id": "TenPrF1mOKPa",
        "outputId": "2383c946-8fcb-41a4-b7b7-b61146268aa8"
      },
      "source": [
        "import matplotlib.pyplot as plt\n",
        "plt.rcParams['figure.figsize'] = [10, 8]\n",
        "fig = plt.figure()\n",
        "plt.scatter(ypredtot,ytrain*ymed)\n",
        "#plt.xscale('log')\n",
        "#plt.yscale('log')\n",
        "#plt.xlim(25,50)\n",
        "#plt.ylim(25,50)\n",
        "plt.xlabel('Predicted distance (inches)');\n",
        "plt.ylabel('Measured distance(inches)');\n",
        "plt.title('Log Log Plot of Measured vs Predicted Distance (Training data)');\n",
        "plt.savefig('DistanceTrain.png')\n",
        "print(np.mean(np.abs(ypredtot-ytrain*ymed)))\n",
        "print(np.mean(np.abs(ypredtot-ytrain*ymed))/ymtrain)\n",
        "plt.show()"
      ],
      "execution_count": null,
      "outputs": [
        {
          "output_type": "stream",
          "name": "stdout",
          "text": [
            "1.3308649494534448\n",
            "0.04436216498178149\n"
          ]
        },
        {
          "output_type": "display_data",
          "data": {
            "image/png": "[encoded data removed]",
            "text/plain": [
              "<Figure size 720x576 with 1 Axes>"
            ]
          },
          "metadata": {
            "needs_background": "light"
          }
        }
      ]
    },
    {
      "cell_type": "code",
      "metadata": {
        "colab": {
          "base_uri": "https://localhost:8080/",
          "height": 548
        },
        "id": "4H0WHBTmbDOa",
        "outputId": "f22d77c4-8cb2-431e-d2b3-aab7aa560ef4"
      },
      "source": [
        "ypred=model.predict(imgtest)*ymed\n",
        "fig = plt.figure()\n",
        "plt.scatter(ypred,ytest*ymed)\n",
        "#plt.xscale('log')\n",
        "#plt.yscale('log')\n",
        "#plt.xlim(25,50)\n",
        "#plt.ylim(25,50)\n",
        "plt.xlabel('Predicted distance (inches)');\n",
        "plt.ylabel('Measured distance(inches)');\n",
        "plt.title('Log Log Plot of Measured vs Predicted Distance (Test data)');\n",
        "plt.savefig('DistanceTest.png')\n",
        "print(np.mean(np.abs(ypred-ytest*ymed)))\n",
        "print(np.mean(np.abs(ypred-ytest*ymed))/ymed)\n",
        "plt.show()"
      ],
      "execution_count": null,
      "outputs": [
        {
          "output_type": "stream",
          "name": "stdout",
          "text": [
            "1.0823016991982093\n",
            "0.036076723306606974\n"
          ]
        },
        {
          "output_type": "display_data",
          "data": {
            "image/png": "[encoded data removed]",
            "text/plain": [
              "<Figure size 720x576 with 1 Axes>"
            ]
          },
          "metadata": {
            "needs_background": "light"
          }
        }
      ]
    },
    {
      "cell_type": "code",
      "metadata": {
        "colab": {
          "base_uri": "https://localhost:8080/"
        },
        "id": "3N_IAExWbZz4",
        "outputId": "6f3a808f-19fe-4347-d5f7-5843dcbe0da9"
      },
      "source": [
        "np.sum(np.abs((ypred-ytest*ymed)/ypred.shape[0]))"
      ],
      "execution_count": null,
      "outputs": [
        {
          "output_type": "execute_result",
          "data": {
            "text/plain": [
              "1.0823016991982095"
            ]
          },
          "metadata": {},
          "execution_count": 20
        }
      ]
    },
    {
      "cell_type": "code",
      "metadata": {
        "id": "TNTilHMbeCze",
        "colab": {
          "base_uri": "https://localhost:8080/"
        },
        "outputId": "fa42969d-f486-431a-88b1-7c4f62c574a6"
      },
      "source": [
        "model_drop = Sequential()\n",
        "model_drop.add(Conv2D(128, kernel_size=(3, 3),activation='linear',input_shape=(650,650,1),padding='same'))\n",
        "model_drop.add(LeakyReLU(alpha=0.1))\n",
        "model_drop.add(MaxPooling2D((2, 2),padding='same'))\n",
        "model_drop.add(Conv2D(256, (3, 3), activation='linear',padding='same'))\n",
        "model_drop.add(LeakyReLU(alpha=0.1))\n",
        "model_drop.add(MaxPooling2D(pool_size=(2, 2),padding='same'))\n",
        "model_drop.add(Conv2D(25, (3, 3), activation='linear',padding='same'))\n",
        "model_drop.add(LeakyReLU(alpha=0.1))                  \n",
        "model_drop.add(MaxPooling2D(pool_size=(2, 2),padding='same'))\n",
        "model_drop.add(Flatten())\n",
        "model_drop.add(Dense(128, activation='linear'))\n",
        "model_drop.add(LeakyReLU(alpha=0.1))\n",
        "model_drop.add(Dropout(0.25))\n",
        "model_drop.add(Dense(1))\n",
        "model_drop.compile(loss='mean_absolute_error', optimizer=tf.keras.optimizers.Adam(),metrics=['accuracy'])\n",
        "model_drop.summary()"
      ],
      "execution_count": null,
      "outputs": [
        {
          "output_type": "stream",
          "name": "stdout",
          "text": [
            "Model: \"sequential_2\"\n",
            "_________________________________________________________________\n",
            " Layer (type)                Output Shape              Param #   \n",
            "=================================================================\n",
            " conv2d_6 (Conv2D)           (None, 650, 650, 128)     1280      \n",
            "                                                                 \n",
            " leaky_re_lu_7 (LeakyReLU)   (None, 650, 650, 128)     0         \n",
            "                                                                 \n",
            " max_pooling2d_6 (MaxPooling  (None, 325, 325, 128)    0         \n",
            " 2D)                                                             \n",
            "                                                                 \n",
            " conv2d_7 (Conv2D)           (None, 325, 325, 256)     295168    \n",
            "                                                                 \n",
            " leaky_re_lu_8 (LeakyReLU)   (None, 325, 325, 256)     0         \n",
            "                                                                 \n",
            " max_pooling2d_7 (MaxPooling  (None, 163, 163, 256)    0         \n",
            " 2D)                                                             \n",
            "                                                                 \n",
            " conv2d_8 (Conv2D)           (None, 163, 163, 25)      57625     \n",
            "                                                                 \n",
            " leaky_re_lu_9 (LeakyReLU)   (None, 163, 163, 25)      0         \n",
            "                                                                 \n",
            " max_pooling2d_8 (MaxPooling  (None, 82, 82, 25)       0         \n",
            " 2D)                                                             \n",
            "                                                                 \n",
            " flatten_1 (Flatten)         (None, 168100)            0         \n",
            "                                                                 \n",
            " dense_2 (Dense)             (None, 128)               21516928  \n",
            "                                                                 \n",
            " leaky_re_lu_10 (LeakyReLU)  (None, 128)               0         \n",
            "                                                                 \n",
            " dropout (Dropout)           (None, 128)               0         \n",
            "                                                                 \n",
            " dense_3 (Dense)             (None, 1)                 129       \n",
            "                                                                 \n",
            "=================================================================\n",
            "Total params: 21,871,130\n",
            "Trainable params: 21,871,130\n",
            "Non-trainable params: 0\n",
            "_________________________________________________________________\n"
          ]
        }
      ]
    },
    {
      "cell_type": "code",
      "metadata": {
        "colab": {
          "base_uri": "https://localhost:8080/"
        },
        "id": "8MwB1ITlPLS3",
        "outputId": "8dd5cf58-80cd-4b94-be76-30bb48320d93"
      },
      "source": [
        "train_drop = model_drop.fit(imgtrain, ytrain, batch_size=batch_size,epochs=epochs,verbose=1)"
      ],
      "execution_count": null,
      "outputs": [
        {
          "output_type": "stream",
          "name": "stdout",
          "text": [
            "Epoch 1/100\n",
            "8/8 [==============================] - 10s 1s/step - loss: 13.2672 - accuracy: 0.0345\n",
            "Epoch 2/100\n",
            "8/8 [==============================] - 9s 1s/step - loss: 0.8726 - accuracy: 0.0517\n",
            "Epoch 3/100\n",
            "8/8 [==============================] - 10s 1s/step - loss: 0.9901 - accuracy: 0.1034\n",
            "Epoch 4/100\n",
            "8/8 [==============================] - 10s 1s/step - loss: 1.4188 - accuracy: 0.0345\n",
            "Epoch 5/100\n",
            "8/8 [==============================] - 10s 1s/step - loss: 1.3583 - accuracy: 0.1034\n",
            "Epoch 6/100\n",
            "8/8 [==============================] - 10s 1s/step - loss: 0.8532 - accuracy: 0.1034\n",
            "Epoch 7/100\n",
            "8/8 [==============================] - 10s 1s/step - loss: 0.7622 - accuracy: 0.0517\n",
            "Epoch 8/100\n",
            "8/8 [==============================] - 10s 1s/step - loss: 0.6099 - accuracy: 0.1034\n",
            "Epoch 9/100\n",
            "8/8 [==============================] - 10s 1s/step - loss: 0.5492 - accuracy: 0.1034\n",
            "Epoch 10/100\n",
            "8/8 [==============================] - 10s 1s/step - loss: 0.5078 - accuracy: 0.0862\n",
            "Epoch 11/100\n",
            "8/8 [==============================] - 10s 1s/step - loss: 0.4807 - accuracy: 0.1034\n",
            "Epoch 12/100\n",
            "8/8 [==============================] - 10s 1s/step - loss: 0.4805 - accuracy: 0.1034\n",
            "Epoch 13/100\n",
            "8/8 [==============================] - 10s 1s/step - loss: 0.3883 - accuracy: 0.1034\n",
            "Epoch 14/100\n",
            "8/8 [==============================] - 10s 1s/step - loss: 0.3978 - accuracy: 0.0690\n",
            "Epoch 15/100\n",
            "8/8 [==============================] - 10s 1s/step - loss: 0.2572 - accuracy: 0.1034\n",
            "Epoch 16/100\n",
            "8/8 [==============================] - 10s 1s/step - loss: 0.3145 - accuracy: 0.1034\n",
            "Epoch 17/100\n",
            "8/8 [==============================] - 10s 1s/step - loss: 0.2863 - accuracy: 0.1034\n",
            "Epoch 18/100\n",
            "8/8 [==============================] - 10s 1s/step - loss: 0.1969 - accuracy: 0.1034\n",
            "Epoch 19/100\n",
            "8/8 [==============================] - 10s 1s/step - loss: 0.2074 - accuracy: 0.1034\n",
            "Epoch 20/100\n",
            "8/8 [==============================] - 10s 1s/step - loss: 0.1994 - accuracy: 0.1034\n",
            "Epoch 21/100\n",
            "8/8 [==============================] - 10s 1s/step - loss: 0.2092 - accuracy: 0.1034\n",
            "Epoch 22/100\n",
            "8/8 [==============================] - 10s 1s/step - loss: 0.2209 - accuracy: 0.1034\n",
            "Epoch 23/100\n",
            "8/8 [==============================] - 10s 1s/step - loss: 0.1810 - accuracy: 0.1034\n",
            "Epoch 24/100\n",
            "8/8 [==============================] - 10s 1s/step - loss: 0.2400 - accuracy: 0.1034\n",
            "Epoch 25/100\n",
            "8/8 [==============================] - 10s 1s/step - loss: 0.2700 - accuracy: 0.1034\n",
            "Epoch 26/100\n",
            "8/8 [==============================] - 10s 1s/step - loss: 0.1764 - accuracy: 0.1034\n",
            "Epoch 27/100\n",
            "8/8 [==============================] - 10s 1s/step - loss: 0.2049 - accuracy: 0.1034\n",
            "Epoch 28/100\n",
            "8/8 [==============================] - 10s 1s/step - loss: 0.1795 - accuracy: 0.1034\n",
            "Epoch 29/100\n",
            "8/8 [==============================] - 10s 1s/step - loss: 0.1643 - accuracy: 0.1034\n",
            "Epoch 30/100\n",
            "8/8 [==============================] - 10s 1s/step - loss: 0.1586 - accuracy: 0.1034\n",
            "Epoch 31/100\n",
            "8/8 [==============================] - 10s 1s/step - loss: 0.1282 - accuracy: 0.1034\n",
            "Epoch 32/100\n",
            "8/8 [==============================] - 10s 1s/step - loss: 0.1723 - accuracy: 0.1034\n",
            "Epoch 33/100\n",
            "8/8 [==============================] - 10s 1s/step - loss: 0.2780 - accuracy: 0.1034\n",
            "Epoch 34/100\n",
            "8/8 [==============================] - 10s 1s/step - loss: 0.2459 - accuracy: 0.1034\n",
            "Epoch 35/100\n",
            "8/8 [==============================] - 10s 1s/step - loss: 0.2280 - accuracy: 0.1034\n",
            "Epoch 36/100\n",
            "8/8 [==============================] - 10s 1s/step - loss: 0.1598 - accuracy: 0.1034\n",
            "Epoch 37/100\n",
            "8/8 [==============================] - 10s 1s/step - loss: 0.1559 - accuracy: 0.1034\n",
            "Epoch 38/100\n",
            "8/8 [==============================] - 10s 1s/step - loss: 0.1896 - accuracy: 0.1034\n",
            "Epoch 39/100\n",
            "8/8 [==============================] - 10s 1s/step - loss: 0.1885 - accuracy: 0.1034\n",
            "Epoch 40/100\n",
            "8/8 [==============================] - 10s 1s/step - loss: 0.1726 - accuracy: 0.1034\n",
            "Epoch 41/100\n",
            "8/8 [==============================] - 10s 1s/step - loss: 0.1739 - accuracy: 0.1034\n",
            "Epoch 42/100\n",
            "8/8 [==============================] - 10s 1s/step - loss: 0.1582 - accuracy: 0.1034\n",
            "Epoch 43/100\n",
            "8/8 [==============================] - 10s 1s/step - loss: 0.1411 - accuracy: 0.1034\n",
            "Epoch 44/100\n",
            "8/8 [==============================] - 10s 1s/step - loss: 0.1388 - accuracy: 0.1034\n",
            "Epoch 45/100\n",
            "8/8 [==============================] - 10s 1s/step - loss: 0.1481 - accuracy: 0.1034\n",
            "Epoch 46/100\n",
            "8/8 [==============================] - 10s 1s/step - loss: 0.1081 - accuracy: 0.1034\n",
            "Epoch 47/100\n",
            "8/8 [==============================] - 10s 1s/step - loss: 0.1292 - accuracy: 0.1034\n",
            "Epoch 48/100\n",
            "8/8 [==============================] - 10s 1s/step - loss: 0.1382 - accuracy: 0.1034\n",
            "Epoch 49/100\n",
            "8/8 [==============================] - 10s 1s/step - loss: 0.1410 - accuracy: 0.1034\n",
            "Epoch 50/100\n",
            "8/8 [==============================] - 10s 1s/step - loss: 0.2163 - accuracy: 0.1034\n",
            "Epoch 51/100\n",
            "8/8 [==============================] - 10s 1s/step - loss: 0.1845 - accuracy: 0.1034\n",
            "Epoch 52/100\n",
            "8/8 [==============================] - 10s 1s/step - loss: 0.2500 - accuracy: 0.1034\n",
            "Epoch 53/100\n",
            "8/8 [==============================] - 10s 1s/step - loss: 0.3240 - accuracy: 0.1034\n",
            "Epoch 54/100\n",
            "8/8 [==============================] - 10s 1s/step - loss: 0.2514 - accuracy: 0.1034\n",
            "Epoch 55/100\n",
            "8/8 [==============================] - 10s 1s/step - loss: 0.1925 - accuracy: 0.1034\n",
            "Epoch 56/100\n",
            "8/8 [==============================] - 10s 1s/step - loss: 0.1740 - accuracy: 0.1034\n",
            "Epoch 57/100\n",
            "8/8 [==============================] - 10s 1s/step - loss: 0.1480 - accuracy: 0.1034\n",
            "Epoch 58/100\n",
            "8/8 [==============================] - 10s 1s/step - loss: 0.1583 - accuracy: 0.1034\n",
            "Epoch 59/100\n",
            "8/8 [==============================] - 10s 1s/step - loss: 0.1830 - accuracy: 0.1034\n",
            "Epoch 60/100\n",
            "8/8 [==============================] - 10s 1s/step - loss: 0.2437 - accuracy: 0.1034\n",
            "Epoch 61/100\n",
            "8/8 [==============================] - 10s 1s/step - loss: 0.1831 - accuracy: 0.1034\n",
            "Epoch 62/100\n",
            "8/8 [==============================] - 10s 1s/step - loss: 0.1391 - accuracy: 0.1034\n",
            "Epoch 63/100\n",
            "8/8 [==============================] - 10s 1s/step - loss: 0.1103 - accuracy: 0.1034\n",
            "Epoch 64/100\n",
            "8/8 [==============================] - 10s 1s/step - loss: 0.1243 - accuracy: 0.1034\n",
            "Epoch 65/100\n",
            "8/8 [==============================] - 10s 1s/step - loss: 0.1408 - accuracy: 0.1034\n",
            "Epoch 66/100\n",
            "8/8 [==============================] - 10s 1s/step - loss: 0.1717 - accuracy: 0.1034\n",
            "Epoch 67/100\n",
            "8/8 [==============================] - 10s 1s/step - loss: 0.1646 - accuracy: 0.1034\n",
            "Epoch 68/100\n",
            "8/8 [==============================] - 10s 1s/step - loss: 0.1238 - accuracy: 0.1034\n",
            "Epoch 69/100\n",
            "8/8 [==============================] - 10s 1s/step - loss: 0.1990 - accuracy: 0.1034\n",
            "Epoch 70/100\n",
            "8/8 [==============================] - 10s 1s/step - loss: 0.1794 - accuracy: 0.1034\n",
            "Epoch 71/100\n",
            "8/8 [==============================] - 10s 1s/step - loss: 0.2235 - accuracy: 0.1034\n",
            "Epoch 72/100\n",
            "8/8 [==============================] - 10s 1s/step - loss: 0.2069 - accuracy: 0.1034\n",
            "Epoch 73/100\n",
            "8/8 [==============================] - 10s 1s/step - loss: 0.1470 - accuracy: 0.1034\n",
            "Epoch 74/100\n",
            "8/8 [==============================] - 10s 1s/step - loss: 0.1386 - accuracy: 0.1034\n",
            "Epoch 75/100\n",
            "8/8 [==============================] - 10s 1s/step - loss: 0.1409 - accuracy: 0.1034\n",
            "Epoch 76/100\n",
            "8/8 [==============================] - 10s 1s/step - loss: 0.1667 - accuracy: 0.1034\n",
            "Epoch 77/100\n",
            "8/8 [==============================] - 10s 1s/step - loss: 0.1401 - accuracy: 0.1034\n",
            "Epoch 78/100\n",
            "8/8 [==============================] - 10s 1s/step - loss: 0.1073 - accuracy: 0.1034\n",
            "Epoch 79/100\n",
            "8/8 [==============================] - 10s 1s/step - loss: 0.1487 - accuracy: 0.1034\n",
            "Epoch 80/100\n",
            "8/8 [==============================] - 10s 1s/step - loss: 0.1060 - accuracy: 0.1034\n",
            "Epoch 81/100\n",
            "8/8 [==============================] - 10s 1s/step - loss: 0.1065 - accuracy: 0.1034\n",
            "Epoch 82/100\n",
            "8/8 [==============================] - 10s 1s/step - loss: 0.1357 - accuracy: 0.1034\n",
            "Epoch 83/100\n",
            "8/8 [==============================] - 10s 1s/step - loss: 0.1250 - accuracy: 0.1034\n",
            "Epoch 84/100\n",
            "8/8 [==============================] - 10s 1s/step - loss: 0.1048 - accuracy: 0.1034\n",
            "Epoch 85/100\n",
            "8/8 [==============================] - 10s 1s/step - loss: 0.1113 - accuracy: 0.1034\n",
            "Epoch 86/100\n",
            "8/8 [==============================] - 10s 1s/step - loss: 0.1076 - accuracy: 0.1034\n",
            "Epoch 87/100\n",
            "8/8 [==============================] - 10s 1s/step - loss: 0.1278 - accuracy: 0.1034\n",
            "Epoch 88/100\n",
            "8/8 [==============================] - 10s 1s/step - loss: 0.1162 - accuracy: 0.1034\n",
            "Epoch 89/100\n",
            "8/8 [==============================] - 10s 1s/step - loss: 0.1144 - accuracy: 0.1034\n",
            "Epoch 90/100\n",
            "8/8 [==============================] - 10s 1s/step - loss: 0.1147 - accuracy: 0.1034\n",
            "Epoch 91/100\n",
            "8/8 [==============================] - 10s 1s/step - loss: 0.1277 - accuracy: 0.1034\n",
            "Epoch 92/100\n",
            "8/8 [==============================] - 10s 1s/step - loss: 0.1019 - accuracy: 0.1034\n",
            "Epoch 93/100\n",
            "8/8 [==============================] - 10s 1s/step - loss: 0.1590 - accuracy: 0.1034\n",
            "Epoch 94/100\n",
            "8/8 [==============================] - 10s 1s/step - loss: 0.1359 - accuracy: 0.1034\n",
            "Epoch 95/100\n",
            "8/8 [==============================] - 10s 1s/step - loss: 0.1303 - accuracy: 0.1034\n",
            "Epoch 96/100\n",
            "8/8 [==============================] - 10s 1s/step - loss: 0.1705 - accuracy: 0.1034\n",
            "Epoch 97/100\n",
            "8/8 [==============================] - 10s 1s/step - loss: 0.1368 - accuracy: 0.1034\n",
            "Epoch 98/100\n",
            "8/8 [==============================] - 10s 1s/step - loss: 0.1063 - accuracy: 0.1034\n",
            "Epoch 99/100\n",
            "8/8 [==============================] - 10s 1s/step - loss: 0.1630 - accuracy: 0.1034\n",
            "Epoch 100/100\n",
            "8/8 [==============================] - 10s 1s/step - loss: 0.0997 - accuracy: 0.1034\n"
          ]
        }
      ]
    },
    {
      "cell_type": "code",
      "metadata": {
        "colab": {
          "base_uri": "https://localhost:8080/"
        },
        "id": "sT--ClZTPwzi",
        "outputId": "252faee8-527c-496a-cafd-1c611de4887e"
      },
      "source": [
        "ypred1=model_drop.predict(imgtrain[:int(imgtrain.shape[0]/2),:,:])*ymed\n",
        "ypred2=model_drop.predict(imgtrain[int(imgtrain.shape[0]/2):,:,:])*ymed\n",
        "ypredtot=np.vstack([ypred1,ypred2])\n",
        "np.hstack([ypredtot,ytrain*ymed])"
      ],
      "execution_count": null,
      "outputs": [
        {
          "output_type": "execute_result",
          "data": {
            "text/plain": [
              "array([[ 3.73151374,  3.        ],\n",
              "       [ 4.69713783,  3.        ],\n",
              "       [ 6.416996  ,  3.        ],\n",
              "       [ 4.24338675,  3.        ],\n",
              "       [ 5.5077424 ,  3.        ],\n",
              "       [ 6.13116121,  3.        ],\n",
              "       [ 5.75116253,  3.        ],\n",
              "       [ 6.65758991,  6.        ],\n",
              "       [ 6.72940111,  6.        ],\n",
              "       [ 8.26033783,  6.        ],\n",
              "       [ 6.13777304,  6.        ],\n",
              "       [ 9.17531967, 10.        ],\n",
              "       [ 9.54322624, 10.        ],\n",
              "       [ 9.30447006, 10.        ],\n",
              "       [10.02996254, 10.        ],\n",
              "       [ 9.6995697 , 10.        ],\n",
              "       [ 8.87005138, 10.        ],\n",
              "       [ 9.05239391, 10.        ],\n",
              "       [14.1281929 , 15.        ],\n",
              "       [13.62367821, 15.        ],\n",
              "       [14.60446453, 15.        ],\n",
              "       [14.23392773, 15.        ],\n",
              "       [18.29679489, 20.        ],\n",
              "       [18.03104782, 20.        ],\n",
              "       [18.29008865, 20.        ],\n",
              "       [23.73737907, 25.        ],\n",
              "       [25.94176292, 25.        ],\n",
              "       [23.5952549 , 25.        ],\n",
              "       [24.61498833, 25.        ],\n",
              "       [24.35650063, 25.        ],\n",
              "       [25.67421722, 25.        ],\n",
              "       [29.47249985, 30.        ],\n",
              "       [31.49436188, 30.        ],\n",
              "       [30.10198212, 30.        ],\n",
              "       [30.85560799, 30.        ],\n",
              "       [30.8950386 , 30.        ],\n",
              "       [30.84783173, 30.        ],\n",
              "       [31.19403076, 30.        ],\n",
              "       [39.15962601, 35.        ],\n",
              "       [38.22080994, 35.        ],\n",
              "       [39.86413574, 35.        ],\n",
              "       [37.7473259 , 35.        ],\n",
              "       [39.67676926, 35.        ],\n",
              "       [37.66773224, 35.        ],\n",
              "       [41.93614578, 40.        ],\n",
              "       [40.77482986, 40.        ],\n",
              "       [43.71136475, 40.        ],\n",
              "       [43.15270615, 40.        ],\n",
              "       [41.60233307, 40.        ],\n",
              "       [47.45458221, 45.        ],\n",
              "       [45.61717224, 45.        ],\n",
              "       [47.45320129, 45.        ],\n",
              "       [45.96025848, 45.        ],\n",
              "       [51.55437469, 50.        ],\n",
              "       [53.16900635, 50.        ],\n",
              "       [54.65587997, 50.        ],\n",
              "       [53.72566605, 50.        ],\n",
              "       [50.68616104, 50.        ]])"
            ]
          },
          "metadata": {},
          "execution_count": 47
        }
      ]
    },
    {
      "cell_type": "code",
      "metadata": {
        "colab": {
          "base_uri": "https://localhost:8080/"
        },
        "id": "OrO9R2YMP_uL",
        "outputId": "b362536e-fdb4-4420-f122-a163c3d3d333"
      },
      "source": [
        "np.sum(np.abs((ypredtot-ytrain*ymed)/ypredtot.shape[0]))"
      ],
      "execution_count": null,
      "outputs": [
        {
          "output_type": "execute_result",
          "data": {
            "text/plain": [
              "1.680331563127452"
            ]
          },
          "metadata": {},
          "execution_count": 48
        }
      ]
    },
    {
      "cell_type": "code",
      "metadata": {
        "colab": {
          "base_uri": "https://localhost:8080/"
        },
        "id": "r7NOBrkrQAJc",
        "outputId": "44773634-1188-4079-998d-ff6f518b07c9"
      },
      "source": [
        "ypred=model_drop.predict(imgtest)*ymed\n",
        "np.hstack([ypred,ytest*ymed])"
      ],
      "execution_count": null,
      "outputs": [
        {
          "output_type": "execute_result",
          "data": {
            "text/plain": [
              "array([[ 7.52896214,  6.        ],\n",
              "       [38.42802048, 45.        ],\n",
              "       [11.2310648 , 15.        ],\n",
              "       [47.10966492, 45.        ],\n",
              "       [16.96430969, 20.        ],\n",
              "       [18.27632332, 20.        ],\n",
              "       [40.70408249, 40.        ],\n",
              "       [36.79770279, 35.        ],\n",
              "       [ 9.71201992, 15.        ],\n",
              "       [53.30102539, 50.        ],\n",
              "       [43.64939499, 45.        ],\n",
              "       [30.93335915, 30.        ],\n",
              "       [11.91085625, 15.        ],\n",
              "       [14.01677704,  6.        ]])"
            ]
          },
          "metadata": {},
          "execution_count": 50
        }
      ]
    },
    {
      "cell_type": "code",
      "metadata": {
        "colab": {
          "base_uri": "https://localhost:8080/"
        },
        "id": "-dUdQ92mQAPo",
        "outputId": "c6c62f1c-4430-4611-e7a4-a8ec6c708b77"
      },
      "source": [
        "np.sum(np.abs((ypred-ytest*ymed)/ypred.shape[0]))"
      ],
      "execution_count": null,
      "outputs": [
        {
          "output_type": "execute_result",
          "data": {
            "text/plain": [
              "3.0871131760733466"
            ]
          },
          "metadata": {},
          "execution_count": 51
        }
      ]
    }
  ]
}